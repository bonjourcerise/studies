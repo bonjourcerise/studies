{
  "nbformat": 4,
  "nbformat_minor": 5,
  "metadata": {
    "kernelspec": {
      "display_name": "Python 3",
      "language": "python",
      "name": "python3"
    },
    "language_info": {
      "codemirror_mode": {
        "name": "ipython",
        "version": 3
      },
      "file_extension": ".py",
      "mimetype": "text/x-python",
      "name": "python",
      "nbconvert_exporter": "python",
      "pygments_lexer": "ipython3",
      "version": "3.8.8"
    },
    "toc": {
      "base_numbering": 1,
      "nav_menu": {},
      "number_sections": true,
      "sideBar": true,
      "skip_h1_title": false,
      "title_cell": "Table of Contents",
      "title_sidebar": "Contents",
      "toc_cell": false,
      "toc_position": {},
      "toc_section_display": true,
      "toc_window_display": false
    },
    "varInspector": {
      "cols": {
        "lenName": 16,
        "lenType": 16,
        "lenVar": 40
      },
      "kernels_config": {
        "python": {
          "delete_cmd_postfix": "",
          "delete_cmd_prefix": "del ",
          "library": "var_list.py",
          "varRefreshCmd": "print(var_dic_list())"
        },
        "r": {
          "delete_cmd_postfix": ") ",
          "delete_cmd_prefix": "rm(",
          "library": "var_list.r",
          "varRefreshCmd": "cat(var_dic_list()) "
        }
      },
      "types_to_exclude": [
        "module",
        "function",
        "builtin_function_or_method",
        "instance",
        "_Feature"
      ],
      "window_display": false
    },
    "colab": {
      "name": "Intro_numpy.ipynb",
      "provenance": [],
      "collapsed_sections": []
    }
  },
  "cells": [
    {
      "cell_type": "markdown",
      "metadata": {
        "id": "portuguese-relaxation"
      },
      "source": [
        "# Numpy Basics"
      ],
      "id": "portuguese-relaxation"
    },
    {
      "cell_type": "markdown",
      "metadata": {
        "id": "bound-poland"
      },
      "source": [
        "Get familiar with the Numpy library, manipulate arrays and apply some basic operations \n",
        "\n",
        "You can use the [Numpy Cheat Sheet](https://s3.amazonaws.com/assets.datacamp.com/blog_assets/Numpy_Python_Cheat_Sheet.pdf)"
      ],
      "id": "bound-poland"
    },
    {
      "cell_type": "markdown",
      "metadata": {
        "id": "champion-daniel"
      },
      "source": [
        "## Introduction to Numpy "
      ],
      "id": "champion-daniel"
    },
    {
      "cell_type": "markdown",
      "metadata": {
        "id": "joint-footage"
      },
      "source": [
        "Import numpy library"
      ],
      "id": "joint-footage"
    },
    {
      "cell_type": "code",
      "metadata": {
        "id": "asian-catering"
      },
      "source": [
        "import numpy as np"
      ],
      "id": "asian-catering",
      "execution_count": 4,
      "outputs": []
    },
    {
      "cell_type": "markdown",
      "metadata": {
        "id": "composed-satin"
      },
      "source": [
        "---\n",
        "\n",
        "Use the method array to create 3 different arrays (A,B,C) of different dimmensions 1D, 2D, 3D. They should look like this\n",
        "\n",
        "```\n",
        "A = array([1, 2, 3])\n",
        "\n",
        "B = array([[1, 2, 3],\n",
        "           [3, 4, 5]])\n",
        "           \n",
        "C = array([[[ 1.,  2.,  3.],\n",
        "            [ 3.,  4.,  5.]],\n",
        "\n",
        "           [[ 6.,  7.,  8.],\n",
        "            [ 9., 10., 11.]]])\n",
        "```\n",
        "\n",
        "use the method ndim and shape to verify the dimensions. Then, the methods size and dtype\n",
        "\n",
        "For A, you should obtain, dimension : 1 , shape (3,), size: 3, dtype: int64\n",
        "\n",
        "For C, you should obtain, dimension : 3 , shape (2,2,3), size: 12, dtype: float64"
      ],
      "id": "composed-satin"
    },
    {
      "cell_type": "code",
      "metadata": {
        "colab": {
          "base_uri": "https://localhost:8080/"
        },
        "id": "1af1c574",
        "outputId": "33680838-e81f-4946-d459-cb9b34b21863"
      },
      "source": [
        "a = np.array([1, 2, 3])\n",
        "a"
      ],
      "id": "1af1c574",
      "execution_count": 5,
      "outputs": [
        {
          "output_type": "execute_result",
          "data": {
            "text/plain": [
              "array([1, 2, 3])"
            ]
          },
          "metadata": {
            "tags": []
          },
          "execution_count": 5
        }
      ]
    },
    {
      "cell_type": "code",
      "metadata": {
        "colab": {
          "base_uri": "https://localhost:8080/"
        },
        "id": "personal-ceramic",
        "outputId": "a8857e5e-451c-4add-c894-9c2292d7071a"
      },
      "source": [
        "A = np.array([1, 2, 3])\n",
        "print(A)\n",
        "print('Dimension:',A.ndim)\n",
        "print('Shape:',A.shape)\n",
        "print('Type:',A.dtype)\n",
        "print('Size:',A.size)"
      ],
      "id": "personal-ceramic",
      "execution_count": 6,
      "outputs": [
        {
          "output_type": "stream",
          "text": [
            "[1 2 3]\n",
            "Dimension: 1\n",
            "Shape: (3,)\n",
            "Type: int64\n",
            "Size: 3\n"
          ],
          "name": "stdout"
        }
      ]
    },
    {
      "cell_type": "code",
      "metadata": {
        "colab": {
          "base_uri": "https://localhost:8080/"
        },
        "id": "ab52759f",
        "outputId": "7e8e1d39-5e92-471c-deb9-0bd2f33d6339"
      },
      "source": [
        "B = np.array([[1, 2, 3],\n",
        "           [3, 4, 5]])\n",
        "print(B)\n",
        "print('Dimension:',B.ndim)\n",
        "print('Shape:',B.shape)\n",
        "print('Type:',B.dtype)\n",
        "print('Size:',B.size)"
      ],
      "id": "ab52759f",
      "execution_count": 7,
      "outputs": [
        {
          "output_type": "stream",
          "text": [
            "[[1 2 3]\n",
            " [3 4 5]]\n",
            "Dimension: 2\n",
            "Shape: (2, 3)\n",
            "Type: int64\n",
            "Size: 6\n"
          ],
          "name": "stdout"
        }
      ]
    },
    {
      "cell_type": "code",
      "metadata": {
        "colab": {
          "base_uri": "https://localhost:8080/"
        },
        "id": "b1905ddc",
        "outputId": "c6cb5c8a-85f4-4348-9ab6-ff68ae25bd01"
      },
      "source": [
        "C = np.array([[[ 1.,  2.,  3.],\n",
        "            [ 3.,  4.,  5.]],\n",
        "            [[ 6.,  7.,  8.],\n",
        "            [ 9., 10., 11.]]])\n",
        "print(C)\n",
        "print('Dimension:', C.ndim)\n",
        "print('Shape:',C.shape)\n",
        "print('Type:',C.dtype)\n",
        "print('Size:',C.size)"
      ],
      "id": "b1905ddc",
      "execution_count": 8,
      "outputs": [
        {
          "output_type": "stream",
          "text": [
            "[[[ 1.  2.  3.]\n",
            "  [ 3.  4.  5.]]\n",
            "\n",
            " [[ 6.  7.  8.]\n",
            "  [ 9. 10. 11.]]]\n",
            "Dimension: 3\n",
            "Shape: (2, 2, 3)\n",
            "Type: float64\n",
            "Size: 12\n"
          ],
          "name": "stdout"
        }
      ]
    },
    {
      "cell_type": "markdown",
      "metadata": {
        "id": "aging-collection"
      },
      "source": [
        "With your own words, can you explain why A has a shape of (3,) and not (3,1)? "
      ],
      "id": "aging-collection"
    },
    {
      "cell_type": "code",
      "metadata": {
        "id": "narrow-buffer"
      },
      "source": [
        ""
      ],
      "id": "narrow-buffer",
      "execution_count": 8,
      "outputs": []
    },
    {
      "cell_type": "markdown",
      "metadata": {
        "id": "geological-basketball"
      },
      "source": [
        "How do you change the shape of A to (3,1)? what is the difference?"
      ],
      "id": "geological-basketball"
    },
    {
      "cell_type": "code",
      "metadata": {
        "colab": {
          "base_uri": "https://localhost:8080/"
        },
        "id": "numeric-officer",
        "outputId": "ccb71ce5-f89b-4572-b60b-b553d4f452a8"
      },
      "source": [
        "Abis = np.reshape(A, (3,1))\n",
        "print(Abis)\n",
        "print('Shape:', Abis.shape)\n",
        "print('Dimension:', Abis.ndim)"
      ],
      "id": "numeric-officer",
      "execution_count": 9,
      "outputs": [
        {
          "output_type": "stream",
          "text": [
            "[[1]\n",
            " [2]\n",
            " [3]]\n",
            "Shape: (3, 1)\n",
            "Dimension: 2\n"
          ],
          "name": "stdout"
        }
      ]
    },
    {
      "cell_type": "markdown",
      "metadata": {
        "id": "residential-passport"
      },
      "source": [
        "---\n",
        "\n",
        "Let's test other methods to create numpy arrays. \n",
        "\n",
        "1- Create a null vector of size 8\n",
        "\n",
        "```\n",
        "array([0., 0., 0., 0., 0., 0., 0., 0.])\n",
        "```"
      ],
      "id": "residential-passport"
    },
    {
      "cell_type": "code",
      "metadata": {
        "colab": {
          "base_uri": "https://localhost:8080/"
        },
        "id": "complete-depression",
        "outputId": "6ef71382-6b3f-4343-a477-110cdca38445"
      },
      "source": [
        "huit = np.zeros((8))\n",
        "huit"
      ],
      "id": "complete-depression",
      "execution_count": 10,
      "outputs": [
        {
          "output_type": "execute_result",
          "data": {
            "text/plain": [
              "array([0., 0., 0., 0., 0., 0., 0., 0.])"
            ]
          },
          "metadata": {
            "tags": []
          },
          "execution_count": 10
        }
      ]
    },
    {
      "cell_type": "markdown",
      "metadata": {
        "id": "stainless-boston"
      },
      "source": [
        "2- Create a vector with only one of shape (4,2)\n",
        "\n",
        "```\n",
        "array([[1., 1.],\n",
        "       [1., 1.],\n",
        "       [1., 1.],\n",
        "       [1., 1.]])\n",
        "```"
      ],
      "id": "stainless-boston"
    },
    {
      "cell_type": "code",
      "metadata": {
        "colab": {
          "base_uri": "https://localhost:8080/"
        },
        "id": "decent-filing",
        "outputId": "b36b88b3-dac3-4d03-f5af-b8c4a46a3315"
      },
      "source": [
        "vector = np.ones((4,2))\n",
        "vector"
      ],
      "id": "decent-filing",
      "execution_count": 11,
      "outputs": [
        {
          "output_type": "execute_result",
          "data": {
            "text/plain": [
              "array([[1., 1.],\n",
              "       [1., 1.],\n",
              "       [1., 1.],\n",
              "       [1., 1.]])"
            ]
          },
          "metadata": {
            "tags": []
          },
          "execution_count": 11
        }
      ]
    },
    {
      "cell_type": "markdown",
      "metadata": {
        "id": "neither-thumb"
      },
      "source": [
        "3 - Create a vector with values from 2 to 18 (without using np.array)\n",
        "\n",
        "```\n",
        "array([ 2,  3,  4,  5,  6,  7,  8,  9, 10, 11, 12, 13, 14, 15, 16, 17])\n",
        "```"
      ],
      "id": "neither-thumb"
    },
    {
      "cell_type": "code",
      "metadata": {
        "colab": {
          "base_uri": "https://localhost:8080/"
        },
        "id": "focal-detective",
        "outputId": "38b308ef-084b-47f3-d044-3fd8ada2c758"
      },
      "source": [
        "hello = np.arange(2, 18)\n",
        "hello"
      ],
      "id": "focal-detective",
      "execution_count": 12,
      "outputs": [
        {
          "output_type": "execute_result",
          "data": {
            "text/plain": [
              "array([ 2,  3,  4,  5,  6,  7,  8,  9, 10, 11, 12, 13, 14, 15, 16, 17])"
            ]
          },
          "metadata": {
            "tags": []
          },
          "execution_count": 12
        }
      ]
    },
    {
      "cell_type": "markdown",
      "metadata": {
        "id": "confused-thong"
      },
      "source": [
        "4- Create a vector with random numbers between 0 and 1 of shape (2,3,4)\n",
        "\n",
        "This should look like this (values can change, we are in random :) )\n",
        "\n",
        "```\n",
        "array([[[0.32917728, 0.07280774, 0.48285449, 0.82583863],\n",
        "        [0.94646022, 0.05935708, 0.38376227, 0.93222678],\n",
        "        [0.51835433, 0.19230094, 0.85057795, 0.11723047]],\n",
        "\n",
        "       [[0.94304701, 0.9026631 , 0.1288193 , 0.07662968],\n",
        "        [0.72708038, 0.21875513, 0.21803179, 0.27423456],\n",
        "        [0.48781086, 0.91235569, 0.85295078, 0.96024868]]])\n",
        "```"
      ],
      "id": "confused-thong"
    },
    {
      "cell_type": "code",
      "metadata": {
        "colab": {
          "base_uri": "https://localhost:8080/"
        },
        "id": "packed-reducing",
        "outputId": "fd51c9d0-ab0d-4cae-99a7-052c9e414a93"
      },
      "source": [
        "youhou = np.random.random_sample((2,3,4))\n",
        "youhou"
      ],
      "id": "packed-reducing",
      "execution_count": 13,
      "outputs": [
        {
          "output_type": "execute_result",
          "data": {
            "text/plain": [
              "array([[[0.89479779, 0.8967324 , 0.35703032, 0.9464477 ],\n",
              "        [0.57800276, 0.0411217 , 0.11717888, 0.04510242],\n",
              "        [0.44366703, 0.94996241, 0.9587547 , 0.06426234]],\n",
              "\n",
              "       [[0.39377548, 0.75335096, 0.74983073, 0.02356702],\n",
              "        [0.75217318, 0.49430487, 0.70828084, 0.23680655],\n",
              "        [0.20943039, 0.79868511, 0.59792195, 0.54186271]]])"
            ]
          },
          "metadata": {
            "tags": []
          },
          "execution_count": 13
        }
      ]
    },
    {
      "cell_type": "markdown",
      "metadata": {
        "id": "accessory-thumbnail"
      },
      "source": [
        "5- Create a vector with random integer numbers between -100 and 100, shape (2,10)\n",
        "\n",
        "This should look like this (values can change, we are in random :) )\n",
        "\n",
        "```\n",
        "array([[  82,   -3,  -60,   77,   57,   16,   40,   21,  -57,   53],\n",
        "       [ -43,  -50, -100,   18,   67,    4,   69,   34,   54,  -54]])\n",
        "```"
      ],
      "id": "accessory-thumbnail"
    },
    {
      "cell_type": "code",
      "metadata": {
        "colab": {
          "base_uri": "https://localhost:8080/"
        },
        "id": "supreme-george",
        "outputId": "75d73d43-d8dc-4865-8954-ddddb32b5920"
      },
      "source": [
        "super = np.random.choice(range(-100, 100), (2, 10))\n",
        "super"
      ],
      "id": "supreme-george",
      "execution_count": 14,
      "outputs": [
        {
          "output_type": "execute_result",
          "data": {
            "text/plain": [
              "array([[-11,  98,  35,   3,   9, -49, -55,  85,  57,   1],\n",
              "       [-57,  16, -91, -94, -89, -18, -53,  -8,   2,  22]])"
            ]
          },
          "metadata": {
            "tags": []
          },
          "execution_count": 14
        }
      ]
    },
    {
      "cell_type": "code",
      "metadata": {
        "colab": {
          "base_uri": "https://localhost:8080/"
        },
        "id": "dd06b31d",
        "outputId": "1753d274-41a4-4f9a-a0d5-b0a2b26add88"
      },
      "source": [
        "super2 = np.random.randint(-100,100,(2,10))\n",
        "super2"
      ],
      "id": "dd06b31d",
      "execution_count": 15,
      "outputs": [
        {
          "output_type": "execute_result",
          "data": {
            "text/plain": [
              "array([[ 67, -42, -68, -13, -40, -58, -59,  -4,  60, -72],\n",
              "       [ 28, -41, -15,  98, -18,  94,  99, -61,  18, -25]])"
            ]
          },
          "metadata": {
            "tags": []
          },
          "execution_count": 15
        }
      ]
    },
    {
      "cell_type": "markdown",
      "metadata": {
        "id": "sound-width"
      },
      "source": [
        " Create a identity matrix of shape (3,3)\n",
        " \n",
        " ```\n",
        " array([[1, 0, 0],\n",
        "       [0, 1, 0],\n",
        "       [0, 0, 1]])\n",
        "```"
      ],
      "id": "sound-width"
    },
    {
      "cell_type": "code",
      "metadata": {
        "colab": {
          "base_uri": "https://localhost:8080/"
        },
        "id": "extended-consideration",
        "outputId": "8bb83dc3-49a2-465c-e4e7-2e966f3a664e"
      },
      "source": [
        "eye = np.eye(3,3)\n",
        "eye"
      ],
      "id": "extended-consideration",
      "execution_count": 16,
      "outputs": [
        {
          "output_type": "execute_result",
          "data": {
            "text/plain": [
              "array([[1., 0., 0.],\n",
              "       [0., 1., 0.],\n",
              "       [0., 0., 1.]])"
            ]
          },
          "metadata": {
            "tags": []
          },
          "execution_count": 16
        }
      ]
    },
    {
      "cell_type": "markdown",
      "metadata": {
        "id": "psychological-danish"
      },
      "source": [
        "Bonus: create the following checkboard array of shape (6,6)\n",
        "\n",
        "```\n",
        "array([[1, 0, 1, 0, 1, 0],\n",
        "       [0, 1, 0, 1, 0, 1],\n",
        "       [1, 0, 1, 0, 1, 0],\n",
        "       [0, 1, 0, 1, 0, 1],\n",
        "       [1, 0, 1, 0, 1, 0],\n",
        "       [0, 1, 0, 1, 0, 1]])\n",
        "```\n",
        "\n",
        "<details>\n",
        "    <summary> Hint: </summary>\n",
        "    <p>Have a look at <a href=\"https://numpy.org/devdocs/reference/generated/numpy.tile.html\"><code>numpy.tile</code></a></p>\n",
        "</details>"
      ],
      "id": "psychological-danish"
    },
    {
      "cell_type": "code",
      "metadata": {
        "colab": {
          "base_uri": "https://localhost:8080/"
        },
        "id": "allied-appearance",
        "outputId": "7ebd3a32-a884-4f30-a0af-8c065c119865"
      },
      "source": [
        "aaaa = np.array([0,1])\n",
        "bbbb = np.tile(aaaa,(6,3))\n",
        "bbbb"
      ],
      "id": "allied-appearance",
      "execution_count": 17,
      "outputs": [
        {
          "output_type": "execute_result",
          "data": {
            "text/plain": [
              "array([[0, 1, 0, 1, 0, 1],\n",
              "       [0, 1, 0, 1, 0, 1],\n",
              "       [0, 1, 0, 1, 0, 1],\n",
              "       [0, 1, 0, 1, 0, 1],\n",
              "       [0, 1, 0, 1, 0, 1],\n",
              "       [0, 1, 0, 1, 0, 1]])"
            ]
          },
          "metadata": {
            "tags": []
          },
          "execution_count": 17
        }
      ]
    },
    {
      "cell_type": "markdown",
      "metadata": {
        "id": "worse-albert"
      },
      "source": [
        "## Array manipulation"
      ],
      "id": "worse-albert"
    },
    {
      "cell_type": "markdown",
      "metadata": {
        "id": "sticky-sugar"
      },
      "source": [
        "Compute the sum of two matrices (A and B). Then, store the result into a variable ab_sum.\n",
        "\n",
        "```\n",
        "A = [[ 1 -3]\n",
        "     [ 0 -6]\n",
        "     [ 4  2]]\n",
        "     \n",
        "B = [[ 0  2]\n",
        "     [ 2 -2]\n",
        "     [10 20]]\n",
        "```\n",
        "A+B = ??"
      ],
      "id": "sticky-sugar"
    },
    {
      "cell_type": "code",
      "metadata": {
        "id": "developed-fancy"
      },
      "source": [
        "A = np.array([[1, -3],\n",
        "              [0, -6],\n",
        "              [4 , 2]])"
      ],
      "id": "developed-fancy",
      "execution_count": 18,
      "outputs": []
    },
    {
      "cell_type": "code",
      "metadata": {
        "id": "optimum-debut"
      },
      "source": [
        "B = np.array([[0, 2],\n",
        "              [2, -2],\n",
        "              [10 , 20]])"
      ],
      "id": "optimum-debut",
      "execution_count": 19,
      "outputs": []
    },
    {
      "cell_type": "code",
      "metadata": {
        "colab": {
          "base_uri": "https://localhost:8080/"
        },
        "id": "fGjjAo_Yp0yQ",
        "outputId": "e97c576a-20ce-4bdd-8ce4-20a9a2e083d1"
      },
      "source": [
        "ABsum = A + B\n",
        "ABsum"
      ],
      "id": "fGjjAo_Yp0yQ",
      "execution_count": 20,
      "outputs": [
        {
          "output_type": "execute_result",
          "data": {
            "text/plain": [
              "array([[ 1, -1],\n",
              "       [ 2, -8],\n",
              "       [14, 22]])"
            ]
          },
          "metadata": {
            "tags": []
          },
          "execution_count": 20
        }
      ]
    },
    {
      "cell_type": "markdown",
      "metadata": {
        "id": "binary-bahamas"
      },
      "source": [
        "Repeat the sum of A and B using np.add() ... then try np.subtract()"
      ],
      "id": "binary-bahamas"
    },
    {
      "cell_type": "code",
      "metadata": {
        "colab": {
          "base_uri": "https://localhost:8080/"
        },
        "id": "circular-storm",
        "outputId": "c1239205-47d7-4446-de8a-f3f2193e799e"
      },
      "source": [
        "ABsum2 = np.add(A,B)\n",
        "ABsum2"
      ],
      "id": "circular-storm",
      "execution_count": 21,
      "outputs": [
        {
          "output_type": "execute_result",
          "data": {
            "text/plain": [
              "array([[ 1, -1],\n",
              "       [ 2, -8],\n",
              "       [14, 22]])"
            ]
          },
          "metadata": {
            "tags": []
          },
          "execution_count": 21
        }
      ]
    },
    {
      "cell_type": "code",
      "metadata": {
        "colab": {
          "base_uri": "https://localhost:8080/"
        },
        "id": "therapeutic-lindsay",
        "outputId": "2595aa16-e149-4bb7-963a-32be1e0042bf"
      },
      "source": [
        "ABsum3 = np.subtract(A,B)\n",
        "ABsum3"
      ],
      "id": "therapeutic-lindsay",
      "execution_count": 22,
      "outputs": [
        {
          "output_type": "execute_result",
          "data": {
            "text/plain": [
              "array([[  1,  -5],\n",
              "       [ -2,  -4],\n",
              "       [ -6, -18]])"
            ]
          },
          "metadata": {
            "tags": []
          },
          "execution_count": 22
        }
      ]
    },
    {
      "cell_type": "markdown",
      "metadata": {
        "id": "nutritional-masters"
      },
      "source": [
        "Given the following matrix. apply the method sum to obtain the sum of rows, then the sum of columns and sum of all elements in the array\n",
        "\n",
        "```\n",
        "S = array([[1, 2],\n",
        "           [3, 4],\n",
        "           [5, 6]])\n",
        "```\n",
        "\n",
        "sum of rows \n",
        "```\n",
        "[3\n",
        " 7\n",
        " 11]\n",
        "```\n",
        "\n",
        "sum of columns\n",
        "```\n",
        "[ 9, 12]\n",
        "```\n",
        "\n",
        "sum of all : 21"
      ],
      "id": "nutritional-masters"
    },
    {
      "cell_type": "code",
      "metadata": {
        "colab": {
          "base_uri": "https://localhost:8080/"
        },
        "id": "judicial-course",
        "outputId": "943fed43-70a3-4615-e3ff-6d4d789caad0"
      },
      "source": [
        "somme=np.array([[1, 2], [3,4], [5,6]])\n",
        "somme"
      ],
      "id": "judicial-course",
      "execution_count": 23,
      "outputs": [
        {
          "output_type": "execute_result",
          "data": {
            "text/plain": [
              "array([[1, 2],\n",
              "       [3, 4],\n",
              "       [5, 6]])"
            ]
          },
          "metadata": {
            "tags": []
          },
          "execution_count": 23
        }
      ]
    },
    {
      "cell_type": "code",
      "metadata": {
        "colab": {
          "base_uri": "https://localhost:8080/"
        },
        "id": "representative-distance",
        "outputId": "504b19b0-70f4-4614-b856-d32392c35204"
      },
      "source": [
        "sum1=np.sum(somme, axis=0)\n",
        "sum1"
      ],
      "id": "representative-distance",
      "execution_count": 24,
      "outputs": [
        {
          "output_type": "execute_result",
          "data": {
            "text/plain": [
              "array([ 9, 12])"
            ]
          },
          "metadata": {
            "tags": []
          },
          "execution_count": 24
        }
      ]
    },
    {
      "cell_type": "code",
      "metadata": {
        "colab": {
          "base_uri": "https://localhost:8080/"
        },
        "id": "Pkaxyhbqv6GI",
        "outputId": "2aea94e2-5bab-4ed0-8a25-340ff43c2185"
      },
      "source": [
        "sum2=np.sum(somme, axis=1)\n",
        "sum2"
      ],
      "id": "Pkaxyhbqv6GI",
      "execution_count": 25,
      "outputs": [
        {
          "output_type": "execute_result",
          "data": {
            "text/plain": [
              "array([ 3,  7, 11])"
            ]
          },
          "metadata": {
            "tags": []
          },
          "execution_count": 25
        }
      ]
    },
    {
      "cell_type": "markdown",
      "metadata": {
        "id": "sustainable-newfoundland"
      },
      "source": [
        "How would you perform the sum of rows and columns using index slicing?\n",
        "\n",
        "Rappel: slicing is the process to select rows and columns based on its index\n",
        "\n",
        "general formula: \n",
        "```\n",
        "A[rows,columns] \n",
        "A[start:stop:step, start:stop:step]\n",
        "```\n",
        "\n",
        "A[:,:] will slice all the rows and columns. A[:,1] will slice all rows in column 1\n",
        "\n",
        "remember, index starts at 0 and stops and (n-1), with n being the size of row or column\n",
        "\n",
        "Ex: the index of this 1D matrix [1,2,3,4] are 0,1,2,3\n"
      ],
      "id": "sustainable-newfoundland"
    },
    {
      "cell_type": "code",
      "metadata": {
        "colab": {
          "base_uri": "https://localhost:8080/"
        },
        "id": "developmental-capitol",
        "outputId": "1247871b-21d5-43a0-94b7-b9b4a39635bd"
      },
      "source": [
        "somme2=somme[::]\n",
        "somme2.sum()"
      ],
      "id": "developmental-capitol",
      "execution_count": 26,
      "outputs": [
        {
          "output_type": "execute_result",
          "data": {
            "text/plain": [
              "21"
            ]
          },
          "metadata": {
            "tags": []
          },
          "execution_count": 26
        }
      ]
    },
    {
      "cell_type": "code",
      "metadata": {
        "id": "ready-conjunction"
      },
      "source": [
        ""
      ],
      "id": "ready-conjunction",
      "execution_count": 26,
      "outputs": []
    },
    {
      "cell_type": "markdown",
      "metadata": {
        "id": "going-salmon"
      },
      "source": [
        "Given the following matrix R. Use index slicing to get the following data: \n",
        "\n",
        "```\n",
        "R = array([[ 1,  2,  3,  4],\n",
        "           [ 5,  6,  7,  8],\n",
        "           [ 9, 10, 11, 12],\n",
        "           [13, 14, 15, 16],\n",
        "           [17, 18, 19, 20]])\n",
        "\n",
        "[[ 7],\n",
        " [11],\n",
        " [15]]\n",
        "\n",
        "[14, 15, 16]\n",
        "\n",
        "[[ 1,  2,  3,  4],\n",
        " [ 9, 10, 11, 12],\n",
        " [17, 18, 19, 20]]\n",
        "```"
      ],
      "id": "going-salmon"
    },
    {
      "cell_type": "code",
      "metadata": {
        "colab": {
          "base_uri": "https://localhost:8080/"
        },
        "id": "D7wnugrhJuFy",
        "outputId": "7c45b3aa-834c-4329-87b8-205d026c4254"
      },
      "source": [
        "matrice1 = np.array([[ 1,  2,  3,  4],\n",
        "           [ 5,  6,  7,  8],\n",
        "           [ 9, 10, 11, 12],\n",
        "           [13, 14, 15, 16],\n",
        "           [17, 18, 19, 20]])\n",
        "matrice1"
      ],
      "id": "D7wnugrhJuFy",
      "execution_count": 27,
      "outputs": [
        {
          "output_type": "execute_result",
          "data": {
            "text/plain": [
              "array([[ 1,  2,  3,  4],\n",
              "       [ 5,  6,  7,  8],\n",
              "       [ 9, 10, 11, 12],\n",
              "       [13, 14, 15, 16],\n",
              "       [17, 18, 19, 20]])"
            ]
          },
          "metadata": {
            "tags": []
          },
          "execution_count": 27
        }
      ]
    },
    {
      "cell_type": "code",
      "metadata": {
        "colab": {
          "base_uri": "https://localhost:8080/"
        },
        "id": "DYVtGBU7J4Mo",
        "outputId": "ef745356-6096-49eb-97ae-8e09051df335"
      },
      "source": [
        "matriceslice1 = matrice1[1:-1,2]\n",
        "matriceslice1"
      ],
      "id": "DYVtGBU7J4Mo",
      "execution_count": 28,
      "outputs": [
        {
          "output_type": "execute_result",
          "data": {
            "text/plain": [
              "array([ 7, 11, 15])"
            ]
          },
          "metadata": {
            "tags": []
          },
          "execution_count": 28
        }
      ]
    },
    {
      "cell_type": "code",
      "metadata": {
        "colab": {
          "base_uri": "https://localhost:8080/"
        },
        "id": "luITlmcCQCRo",
        "outputId": "5035cf6b-5cde-45dc-e546-ce0abe250837"
      },
      "source": [
        "pouet=np.resize(matriceslice1,(3,1))\n",
        "pouet"
      ],
      "id": "luITlmcCQCRo",
      "execution_count": 29,
      "outputs": [
        {
          "output_type": "execute_result",
          "data": {
            "text/plain": [
              "array([[ 7],\n",
              "       [11],\n",
              "       [15]])"
            ]
          },
          "metadata": {
            "tags": []
          },
          "execution_count": 29
        }
      ]
    },
    {
      "cell_type": "code",
      "metadata": {
        "colab": {
          "base_uri": "https://localhost:8080/"
        },
        "id": "EZVmN8aNKZE6",
        "outputId": "75d450ed-8e26-4ae7-c9cb-aa79c951cc88"
      },
      "source": [
        "matriceslice2 = matrice1[3,1:4]\n",
        "matriceslice2"
      ],
      "id": "EZVmN8aNKZE6",
      "execution_count": 30,
      "outputs": [
        {
          "output_type": "execute_result",
          "data": {
            "text/plain": [
              "array([14, 15, 16])"
            ]
          },
          "metadata": {
            "tags": []
          },
          "execution_count": 30
        }
      ]
    },
    {
      "cell_type": "code",
      "metadata": {
        "colab": {
          "base_uri": "https://localhost:8080/"
        },
        "id": "OwaE3fUbLyRJ",
        "outputId": "55c58c40-40c2-45b0-a560-d98e1ecb4aa2"
      },
      "source": [
        "matriceslice3 = matrice1[::2]\n",
        "matriceslice3"
      ],
      "id": "OwaE3fUbLyRJ",
      "execution_count": 31,
      "outputs": [
        {
          "output_type": "execute_result",
          "data": {
            "text/plain": [
              "array([[ 1,  2,  3,  4],\n",
              "       [ 9, 10, 11, 12],\n",
              "       [17, 18, 19, 20]])"
            ]
          },
          "metadata": {
            "tags": []
          },
          "execution_count": 31
        }
      ]
    },
    {
      "cell_type": "code",
      "metadata": {
        "colab": {
          "base_uri": "https://localhost:8080/"
        },
        "id": "wired-phoenix",
        "outputId": "8c08c835-8374-43e7-b71e-332d14205164"
      },
      "source": [
        "R = np.arange(1, 21).reshape(5,4)\n",
        "R"
      ],
      "id": "wired-phoenix",
      "execution_count": 32,
      "outputs": [
        {
          "output_type": "execute_result",
          "data": {
            "text/plain": [
              "array([[ 1,  2,  3,  4],\n",
              "       [ 5,  6,  7,  8],\n",
              "       [ 9, 10, 11, 12],\n",
              "       [13, 14, 15, 16],\n",
              "       [17, 18, 19, 20]])"
            ]
          },
          "metadata": {
            "tags": []
          },
          "execution_count": 32
        }
      ]
    },
    {
      "cell_type": "markdown",
      "metadata": {
        "id": "pressed-princess"
      },
      "source": [
        "Given these 2 vectors. Perfom multiplication, scalar product and vectorial product between X and Y. Can you explain the differences between these three methods?\n",
        "\n",
        "```\n",
        "X = [1 2 3]\n",
        "Y = [4 5 6]\n",
        "```\n",
        "\n",
        "Hint: read differences between np.multiply, np.dot and np.cross"
      ],
      "id": "pressed-princess"
    },
    {
      "cell_type": "code",
      "metadata": {
        "id": "yLBeqwqNPVjz"
      },
      "source": [
        "X = np.array([1, 2, 3])\n",
        "Y = np.array([4, 5, 6])"
      ],
      "id": "yLBeqwqNPVjz",
      "execution_count": 33,
      "outputs": []
    },
    {
      "cell_type": "code",
      "metadata": {
        "colab": {
          "base_uri": "https://localhost:8080/"
        },
        "id": "promotional-agenda",
        "outputId": "61f28661-5d26-4fac-b777-62a2e4368578"
      },
      "source": [
        "x2 = np.multiply(X,Y)\n",
        "x2"
      ],
      "id": "promotional-agenda",
      "execution_count": 34,
      "outputs": [
        {
          "output_type": "execute_result",
          "data": {
            "text/plain": [
              "array([ 4, 10, 18])"
            ]
          },
          "metadata": {
            "tags": []
          },
          "execution_count": 34
        }
      ]
    },
    {
      "cell_type": "code",
      "metadata": {
        "colab": {
          "base_uri": "https://localhost:8080/"
        },
        "id": "crude-rocket",
        "outputId": "aa429faf-a2dc-4569-a276-7b47c078a1d0"
      },
      "source": [
        "x3 = np.dot(X,Y)\n",
        "x3"
      ],
      "id": "crude-rocket",
      "execution_count": 35,
      "outputs": [
        {
          "output_type": "execute_result",
          "data": {
            "text/plain": [
              "32"
            ]
          },
          "metadata": {
            "tags": []
          },
          "execution_count": 35
        }
      ]
    },
    {
      "cell_type": "code",
      "metadata": {
        "colab": {
          "base_uri": "https://localhost:8080/"
        },
        "id": "variable-postage",
        "outputId": "214e185d-8206-48cc-9b9a-856594a43e01"
      },
      "source": [
        "x4=np.cross(X,Y)\n",
        "x4"
      ],
      "id": "variable-postage",
      "execution_count": 36,
      "outputs": [
        {
          "output_type": "execute_result",
          "data": {
            "text/plain": [
              "array([-3,  6, -3])"
            ]
          },
          "metadata": {
            "tags": []
          },
          "execution_count": 36
        }
      ]
    },
    {
      "cell_type": "markdown",
      "metadata": {
        "id": "steady-supervision"
      },
      "source": [
        "Given the following vector. calculate the exponential of each element as $f(x) = e^x$"
      ],
      "id": "steady-supervision"
    },
    {
      "cell_type": "code",
      "metadata": {
        "colab": {
          "base_uri": "https://localhost:8080/"
        },
        "id": "sporting-camel",
        "outputId": "64eb93ac-ae22-4cf7-e40d-780f551422a6"
      },
      "source": [
        "vector1 = np.exp(X)\n",
        "vector1"
      ],
      "id": "sporting-camel",
      "execution_count": 37,
      "outputs": [
        {
          "output_type": "execute_result",
          "data": {
            "text/plain": [
              "array([ 2.71828183,  7.3890561 , 20.08553692])"
            ]
          },
          "metadata": {
            "tags": []
          },
          "execution_count": 37
        }
      ]
    },
    {
      "cell_type": "code",
      "metadata": {
        "colab": {
          "base_uri": "https://localhost:8080/"
        },
        "id": "musical-bulletin",
        "outputId": "5d5bcdf1-0a7a-4c4f-e899-ba11e214ad83"
      },
      "source": [
        "vector2 = np.exp(Y)\n",
        "vector2"
      ],
      "id": "musical-bulletin",
      "execution_count": 38,
      "outputs": [
        {
          "output_type": "execute_result",
          "data": {
            "text/plain": [
              "array([ 54.59815003, 148.4131591 , 403.42879349])"
            ]
          },
          "metadata": {
            "tags": []
          },
          "execution_count": 38
        }
      ]
    },
    {
      "cell_type": "markdown",
      "metadata": {
        "id": "vanilla-greek"
      },
      "source": [
        "Create a python function where you implement the sigmoid function : \n",
        "\n",
        "$f(x) = \\frac{1}{1 + e^{-x}}$\n",
        "\n",
        "Then, use it to calculate the sigmoid value for the previous vector X"
      ],
      "id": "vanilla-greek"
    },
    {
      "cell_type": "code",
      "metadata": {
        "id": "republican-investor"
      },
      "source": [
        "def sigmoid(x):\n",
        "  \n",
        "    z = np.exp(-x)\n",
        "    sig = 1 / (1 + z)\n",
        "\n",
        "    return sig"
      ],
      "id": "republican-investor",
      "execution_count": 39,
      "outputs": []
    },
    {
      "cell_type": "code",
      "metadata": {
        "colab": {
          "base_uri": "https://localhost:8080/"
        },
        "id": "planned-prior",
        "outputId": "4d09f280-45c2-4bad-a5d5-b53a17b821c3"
      },
      "source": [
        "sigmoid(X)"
      ],
      "id": "planned-prior",
      "execution_count": 40,
      "outputs": [
        {
          "output_type": "execute_result",
          "data": {
            "text/plain": [
              "array([0.73105858, 0.88079708, 0.95257413])"
            ]
          },
          "metadata": {
            "tags": []
          },
          "execution_count": 40
        }
      ]
    },
    {
      "cell_type": "markdown",
      "metadata": {
        "id": "theoretical-wrist"
      },
      "source": [
        "## Difference between lists and arrays"
      ],
      "id": "theoretical-wrist"
    },
    {
      "cell_type": "markdown",
      "metadata": {
        "id": "respiratory-doctrine"
      },
      "source": [
        "Create the following list and transform it to an array d_array\n",
        "```\n",
        "d_list = [[1, 2, 3],\n",
        "          [4, 5, 6]]\n",
        "```"
      ],
      "id": "respiratory-doctrine"
    },
    {
      "cell_type": "code",
      "metadata": {
        "colab": {
          "base_uri": "https://localhost:8080/"
        },
        "id": "contained-intranet",
        "outputId": "6b85d864-f2f3-40c4-840f-c5118aefc88d"
      },
      "source": [
        "d_list = np.array([[1,2,3],\n",
        "                   [4,5,6]])\n",
        "d_list"
      ],
      "id": "contained-intranet",
      "execution_count": 41,
      "outputs": [
        {
          "output_type": "execute_result",
          "data": {
            "text/plain": [
              "array([[1, 2, 3],\n",
              "       [4, 5, 6]])"
            ]
          },
          "metadata": {
            "tags": []
          },
          "execution_count": 41
        }
      ]
    },
    {
      "cell_type": "markdown",
      "metadata": {
        "id": "killing-american"
      },
      "source": [
        "How do you obtain the sum of rows with the list? How do you perform with an array? this should be the result:\n",
        "```\n",
        "[[ 6],\n",
        " [15]]\n",
        "```"
      ],
      "id": "killing-american"
    },
    {
      "cell_type": "code",
      "metadata": {
        "colab": {
          "base_uri": "https://localhost:8080/"
        },
        "id": "realistic-passing",
        "outputId": "7fa41a16-63a8-4086-d902-d52bee7b9ce3"
      },
      "source": [
        "d_list2=np.sum(d_list, axis=1)\n",
        "d_list2"
      ],
      "id": "realistic-passing",
      "execution_count": 42,
      "outputs": [
        {
          "output_type": "execute_result",
          "data": {
            "text/plain": [
              "array([ 6, 15])"
            ]
          },
          "metadata": {
            "tags": []
          },
          "execution_count": 42
        }
      ]
    },
    {
      "cell_type": "markdown",
      "metadata": {
        "id": "likely-veteran"
      },
      "source": [
        "Let's mesure the time of calculation. Usee the magic command %%time at the beginning of the cell to measure time.  Compare the time of calculation to obtain the sum of elements of the following list and array. What is your conclusion? "
      ],
      "id": "likely-veteran"
    },
    {
      "cell_type": "code",
      "metadata": {
        "colab": {
          "base_uri": "https://localhost:8080/"
        },
        "id": "novel-trial",
        "outputId": "3b94d73c-0c50-40e5-a951-8d079b8a46e5"
      },
      "source": [
        "%%time\n",
        "A = np.random.rand(1000, 1000)\n",
        "a = A.tolist()"
      ],
      "id": "novel-trial",
      "execution_count": 43,
      "outputs": [
        {
          "output_type": "stream",
          "text": [
            "CPU times: user 34.1 ms, sys: 30 ms, total: 64.1 ms\n",
            "Wall time: 66.4 ms\n"
          ],
          "name": "stdout"
        }
      ]
    },
    {
      "cell_type": "code",
      "metadata": {
        "colab": {
          "base_uri": "https://localhost:8080/"
        },
        "id": "decent-portuguese",
        "outputId": "ea22e7c3-b33a-4fdd-f95d-ba7f75026d91"
      },
      "source": [
        "%%time\n",
        "total = 0\n",
        "for row in a:\n",
        "    for n in row:\n",
        "        total += n\n",
        "round(total, 2)\n"
      ],
      "id": "decent-portuguese",
      "execution_count": 44,
      "outputs": [
        {
          "output_type": "stream",
          "text": [
            "CPU times: user 109 ms, sys: 269 µs, total: 110 ms\n",
            "Wall time: 111 ms\n"
          ],
          "name": "stdout"
        }
      ]
    },
    {
      "cell_type": "code",
      "metadata": {
        "colab": {
          "base_uri": "https://localhost:8080/"
        },
        "id": "least-wellington",
        "outputId": "2bfadf09-682a-4f52-adfa-8fdaa000ad56"
      },
      "source": [
        "%%time\n",
        "round(np.sum(A), 2)"
      ],
      "id": "least-wellington",
      "execution_count": 45,
      "outputs": [
        {
          "output_type": "stream",
          "text": [
            "CPU times: user 1.29 ms, sys: 55 µs, total: 1.34 ms\n",
            "Wall time: 1.51 ms\n"
          ],
          "name": "stdout"
        },
        {
          "output_type": "execute_result",
          "data": {
            "text/plain": [
              "500341.21"
            ]
          },
          "metadata": {
            "tags": []
          },
          "execution_count": 45
        }
      ]
    },
    {
      "cell_type": "markdown",
      "metadata": {
        "id": "entertaining-holiday"
      },
      "source": [
        "## boolean indexing"
      ],
      "id": "entertaining-holiday"
    },
    {
      "cell_type": "markdown",
      "metadata": {
        "id": "integrated-sauce"
      },
      "source": [
        "Given the G matrix, use boolean indexing to change the values of numbers > 25 to 100. "
      ],
      "id": "integrated-sauce"
    },
    {
      "cell_type": "code",
      "metadata": {
        "colab": {
          "base_uri": "https://localhost:8080/"
        },
        "id": "effective-mainstream",
        "outputId": "01193857-39d3-4f49-feb9-ac95032b26ae"
      },
      "source": [
        "G = np.arange(1,51).reshape(5,10)\n",
        "G"
      ],
      "id": "effective-mainstream",
      "execution_count": 46,
      "outputs": [
        {
          "output_type": "execute_result",
          "data": {
            "text/plain": [
              "array([[ 1,  2,  3,  4,  5,  6,  7,  8,  9, 10],\n",
              "       [11, 12, 13, 14, 15, 16, 17, 18, 19, 20],\n",
              "       [21, 22, 23, 24, 25, 26, 27, 28, 29, 30],\n",
              "       [31, 32, 33, 34, 35, 36, 37, 38, 39, 40],\n",
              "       [41, 42, 43, 44, 45, 46, 47, 48, 49, 50]])"
            ]
          },
          "metadata": {
            "tags": []
          },
          "execution_count": 46
        }
      ]
    },
    {
      "cell_type": "code",
      "metadata": {
        "colab": {
          "base_uri": "https://localhost:8080/"
        },
        "id": "neutral-correspondence",
        "outputId": "2774689b-3754-4f12-f2ac-f673cdc58b3c"
      },
      "source": [
        "G = np.arange(25,101)\n",
        "G"
      ],
      "id": "neutral-correspondence",
      "execution_count": 47,
      "outputs": [
        {
          "output_type": "execute_result",
          "data": {
            "text/plain": [
              "array([ 25,  26,  27,  28,  29,  30,  31,  32,  33,  34,  35,  36,  37,\n",
              "        38,  39,  40,  41,  42,  43,  44,  45,  46,  47,  48,  49,  50,\n",
              "        51,  52,  53,  54,  55,  56,  57,  58,  59,  60,  61,  62,  63,\n",
              "        64,  65,  66,  67,  68,  69,  70,  71,  72,  73,  74,  75,  76,\n",
              "        77,  78,  79,  80,  81,  82,  83,  84,  85,  86,  87,  88,  89,\n",
              "        90,  91,  92,  93,  94,  95,  96,  97,  98,  99, 100])"
            ]
          },
          "metadata": {
            "tags": []
          },
          "execution_count": 47
        }
      ]
    },
    {
      "cell_type": "markdown",
      "metadata": {
        "id": "indie-shoot"
      },
      "source": [
        "## numpy broadcasting"
      ],
      "id": "indie-shoot"
    },
    {
      "cell_type": "markdown",
      "metadata": {
        "id": "complimentary-microwave"
      },
      "source": [
        "Execute the following cells and describe with your own words, what is happening."
      ],
      "id": "complimentary-microwave"
    },
    {
      "cell_type": "code",
      "metadata": {
        "colab": {
          "base_uri": "https://localhost:8080/"
        },
        "id": "rational-envelope",
        "outputId": "2e13d48e-fa0e-4608-9827-503632998c1f"
      },
      "source": [
        "P = np.arange(1,5)\n",
        "Q = np.arange(6,10).reshape(4,1)\n",
        "print(P)\n",
        "print(Q)"
      ],
      "id": "rational-envelope",
      "execution_count": 48,
      "outputs": [
        {
          "output_type": "stream",
          "text": [
            "[1 2 3 4]\n",
            "[[6]\n",
            " [7]\n",
            " [8]\n",
            " [9]]\n"
          ],
          "name": "stdout"
        }
      ]
    },
    {
      "cell_type": "code",
      "metadata": {
        "colab": {
          "base_uri": "https://localhost:8080/"
        },
        "id": "historic-separate",
        "outputId": "5ff33965-d8bb-4d14-847c-3ff0734955da"
      },
      "source": [
        "P+Q"
      ],
      "id": "historic-separate",
      "execution_count": 49,
      "outputs": [
        {
          "output_type": "execute_result",
          "data": {
            "text/plain": [
              "array([[ 7,  8,  9, 10],\n",
              "       [ 8,  9, 10, 11],\n",
              "       [ 9, 10, 11, 12],\n",
              "       [10, 11, 12, 13]])"
            ]
          },
          "metadata": {
            "tags": []
          },
          "execution_count": 49
        }
      ]
    },
    {
      "cell_type": "code",
      "metadata": {
        "colab": {
          "base_uri": "https://localhost:8080/"
        },
        "id": "conservative-prayer",
        "outputId": "4e095059-7969-4506-bdbe-b56deefb3973"
      },
      "source": [
        "O = np.arange(1,5).reshape(2,2)\n",
        "O"
      ],
      "id": "conservative-prayer",
      "execution_count": 50,
      "outputs": [
        {
          "output_type": "execute_result",
          "data": {
            "text/plain": [
              "array([[1, 2],\n",
              "       [3, 4]])"
            ]
          },
          "metadata": {
            "tags": []
          },
          "execution_count": 50
        }
      ]
    },
    {
      "cell_type": "code",
      "metadata": {
        "colab": {
          "base_uri": "https://localhost:8080/",
          "height": 174
        },
        "id": "empirical-attendance",
        "outputId": "e9af4ab8-9487-4234-ef19-302fb89ee56d"
      },
      "source": [
        "O+P"
      ],
      "id": "empirical-attendance",
      "execution_count": 51,
      "outputs": [
        {
          "output_type": "error",
          "ename": "ValueError",
          "evalue": "ignored",
          "traceback": [
            "\u001b[0;31m---------------------------------------------------------------------------\u001b[0m",
            "\u001b[0;31mValueError\u001b[0m                                Traceback (most recent call last)",
            "\u001b[0;32m<ipython-input-51-9293319b8b07>\u001b[0m in \u001b[0;36m<module>\u001b[0;34m()\u001b[0m\n\u001b[0;32m----> 1\u001b[0;31m \u001b[0mO\u001b[0m\u001b[0;34m+\u001b[0m\u001b[0mP\u001b[0m\u001b[0;34m\u001b[0m\u001b[0;34m\u001b[0m\u001b[0m\n\u001b[0m",
            "\u001b[0;31mValueError\u001b[0m: operands could not be broadcast together with shapes (2,2) (4,) "
          ]
        }
      ]
    },
    {
      "cell_type": "markdown",
      "metadata": {
        "id": "opponent-replica"
      },
      "source": [
        "Why we obtain the last error? why O+P didn't work?"
      ],
      "id": "opponent-replica"
    },
    {
      "cell_type": "markdown",
      "metadata": {
        "id": "qualified-player"
      },
      "source": [
        "## Differences between pandas and numpy (series and arrays)"
      ],
      "id": "qualified-player"
    },
    {
      "cell_type": "markdown",
      "metadata": {
        "id": "guided-bibliography"
      },
      "source": [
        "Create three arrays (D1, D2, D3) of shape (100,1) with random integer numbers. The first array will have random numbers between (20 to 150), the second between (1 to 10) and the last one from (100000 to 800000) \n",
        "\n",
        "Create one single array D of shape (100,3) by concatenating all the last 3 arrays. \n",
        "\n",
        "Then, store this information into a dataframe sales_df where the three columns are renamed as surface, nb_rooms, SalePrice. You should obtain something like this\n",
        "\n",
        "![image-2.png](attachment:image-2.png)"
      ],
      "id": "guided-bibliography"
    },
    {
      "cell_type": "code",
      "metadata": {
        "id": "rental-boring"
      },
      "source": [
        "import pandas\n"
      ],
      "id": "rental-boring",
      "execution_count": 52,
      "outputs": []
    },
    {
      "cell_type": "code",
      "metadata": {
        "id": "generic-immunology"
      },
      "source": [
        "D1=np.random.randint(20,151,size=(100,1))\n"
      ],
      "id": "generic-immunology",
      "execution_count": 53,
      "outputs": []
    },
    {
      "cell_type": "code",
      "metadata": {
        "id": "UvXO-tomlMeV"
      },
      "source": [
        "D2=np.random.randint(1,11,size=(100,1))\n"
      ],
      "id": "UvXO-tomlMeV",
      "execution_count": 54,
      "outputs": []
    },
    {
      "cell_type": "code",
      "metadata": {
        "id": "qWZO7YA1laOn"
      },
      "source": [
        "D3=np.random.randint(100000,800000,size=(100,1))\n"
      ],
      "id": "qWZO7YA1laOn",
      "execution_count": 55,
      "outputs": []
    },
    {
      "cell_type": "code",
      "metadata": {
        "id": "signal-bachelor"
      },
      "source": [
        "mydata = np.concatenate((D1, D2, D3), axis= 1,out= None) \n"
      ],
      "id": "signal-bachelor",
      "execution_count": 56,
      "outputs": []
    },
    {
      "cell_type": "code",
      "metadata": {
        "id": "BKOSERRGnhom"
      },
      "source": [
        "import pandas as pd"
      ],
      "id": "BKOSERRGnhom",
      "execution_count": 57,
      "outputs": []
    },
    {
      "cell_type": "code",
      "metadata": {
        "scrolled": true,
        "colab": {
          "base_uri": "https://localhost:8080/",
          "height": 423
        },
        "id": "thick-rover",
        "outputId": "98d4e1af-6b2f-43d2-f931-f3deae2989ee"
      },
      "source": [
        "df_sales = pd.DataFrame(mydata, columns=['surface','nb_rooms','Sale Price' ])\n",
        "df_sales\n"
      ],
      "id": "thick-rover",
      "execution_count": 58,
      "outputs": [
        {
          "output_type": "execute_result",
          "data": {
            "text/html": [
              "<div>\n",
              "<style scoped>\n",
              "    .dataframe tbody tr th:only-of-type {\n",
              "        vertical-align: middle;\n",
              "    }\n",
              "\n",
              "    .dataframe tbody tr th {\n",
              "        vertical-align: top;\n",
              "    }\n",
              "\n",
              "    .dataframe thead th {\n",
              "        text-align: right;\n",
              "    }\n",
              "</style>\n",
              "<table border=\"1\" class=\"dataframe\">\n",
              "  <thead>\n",
              "    <tr style=\"text-align: right;\">\n",
              "      <th></th>\n",
              "      <th>surface</th>\n",
              "      <th>nb_rooms</th>\n",
              "      <th>Sale Price</th>\n",
              "    </tr>\n",
              "  </thead>\n",
              "  <tbody>\n",
              "    <tr>\n",
              "      <th>0</th>\n",
              "      <td>83</td>\n",
              "      <td>1</td>\n",
              "      <td>169035</td>\n",
              "    </tr>\n",
              "    <tr>\n",
              "      <th>1</th>\n",
              "      <td>83</td>\n",
              "      <td>1</td>\n",
              "      <td>633232</td>\n",
              "    </tr>\n",
              "    <tr>\n",
              "      <th>2</th>\n",
              "      <td>94</td>\n",
              "      <td>9</td>\n",
              "      <td>158641</td>\n",
              "    </tr>\n",
              "    <tr>\n",
              "      <th>3</th>\n",
              "      <td>40</td>\n",
              "      <td>1</td>\n",
              "      <td>204101</td>\n",
              "    </tr>\n",
              "    <tr>\n",
              "      <th>4</th>\n",
              "      <td>50</td>\n",
              "      <td>3</td>\n",
              "      <td>616031</td>\n",
              "    </tr>\n",
              "    <tr>\n",
              "      <th>...</th>\n",
              "      <td>...</td>\n",
              "      <td>...</td>\n",
              "      <td>...</td>\n",
              "    </tr>\n",
              "    <tr>\n",
              "      <th>95</th>\n",
              "      <td>122</td>\n",
              "      <td>4</td>\n",
              "      <td>376260</td>\n",
              "    </tr>\n",
              "    <tr>\n",
              "      <th>96</th>\n",
              "      <td>96</td>\n",
              "      <td>8</td>\n",
              "      <td>543847</td>\n",
              "    </tr>\n",
              "    <tr>\n",
              "      <th>97</th>\n",
              "      <td>118</td>\n",
              "      <td>6</td>\n",
              "      <td>665902</td>\n",
              "    </tr>\n",
              "    <tr>\n",
              "      <th>98</th>\n",
              "      <td>106</td>\n",
              "      <td>10</td>\n",
              "      <td>455038</td>\n",
              "    </tr>\n",
              "    <tr>\n",
              "      <th>99</th>\n",
              "      <td>144</td>\n",
              "      <td>7</td>\n",
              "      <td>463814</td>\n",
              "    </tr>\n",
              "  </tbody>\n",
              "</table>\n",
              "<p>100 rows × 3 columns</p>\n",
              "</div>"
            ],
            "text/plain": [
              "    surface  nb_rooms  Sale Price\n",
              "0        83         1      169035\n",
              "1        83         1      633232\n",
              "2        94         9      158641\n",
              "3        40         1      204101\n",
              "4        50         3      616031\n",
              "..      ...       ...         ...\n",
              "95      122         4      376260\n",
              "96       96         8      543847\n",
              "97      118         6      665902\n",
              "98      106        10      455038\n",
              "99      144         7      463814\n",
              "\n",
              "[100 rows x 3 columns]"
            ]
          },
          "metadata": {
            "tags": []
          },
          "execution_count": 58
        }
      ]
    },
    {
      "cell_type": "markdown",
      "metadata": {
        "id": "express-office"
      },
      "source": [
        "use scatter plot to observe SalePrice in fonction of surface"
      ],
      "id": "express-office"
    },
    {
      "cell_type": "code",
      "metadata": {
        "id": "empty-envelope"
      },
      "source": [
        "import seaborn as sn"
      ],
      "id": "empty-envelope",
      "execution_count": 59,
      "outputs": []
    },
    {
      "cell_type": "code",
      "metadata": {
        "colab": {
          "base_uri": "https://localhost:8080/",
          "height": 279
        },
        "id": "aAh4MOsVppjN",
        "outputId": "d280e07c-f83e-4572-cb9e-13faa1f791c5"
      },
      "source": [
        "visu1 = sn.scatterplot(data=df_sales, x='Sale Price', y='surface', color='pink')"
      ],
      "id": "aAh4MOsVppjN",
      "execution_count": 60,
      "outputs": [
        {
          "output_type": "display_data",
          "data": {
            "image/png": "[encoded data removed]",
            "text/plain": [
              "<Figure size 432x288 with 1 Axes>"
            ]
          },
          "metadata": {
            "tags": [],
            "needs_background": "light"
          }
        }
      ]
    },
    {
      "cell_type": "markdown",
      "metadata": {
        "id": "organized-crawford"
      },
      "source": [
        "In Machine Learning, we would like to create a linear model to predict SalePrice. In this problem, you have 2 features and 1 target. The linear model is composed of parameters (b0,b1,b2) to estimate the SalePrice by following the formula $y' = b0 + b1 * x1 + b2 * x2$ which in matrix representation would be $Y' = X * B$, where B = [b0 b1 b2] and X is the a matrix with the values of the dataframe \n",
        "\n",
        "We are going to calculate the prediction manually : \n",
        "\n",
        "1- take the data from column sales_df['SalePrice'] and store it into an array called y\n",
        "\n",
        "2- take data from columns 'surface' and 'nb_rooms' and store it into an array called X\n",
        "\n",
        "3- create an array of ones of shape (100,1) and concatenate X. replace X with the new array, this should have the shape (3,1) and should look like this\n",
        "\n",
        "![image.png](attachment:image.png)\n",
        "\n",
        "4- create the array of parameters B = [100000, 5000, 1000]\n",
        "\n",
        "5- calculate the predictions using X and B, store in variable y_hat\n",
        "\n",
        "6 - Plot the linear model with the dataset. You should obtain this graph: \n",
        "\n",
        "![image-2.png](attachment:image-2.png)\n",
        "\n",
        "7 - calculate the L1 and L2 errors between y and y_hat"
      ],
      "id": "organized-crawford"
    },
    {
      "cell_type": "code",
      "metadata": {
        "id": "compact-polyester"
      },
      "source": [
        "df_saleprice = pd.DataFrame(df_sales['Sale Price'])\n",
        "y = df_saleprice.to_numpy()\n"
      ],
      "id": "compact-polyester",
      "execution_count": 61,
      "outputs": []
    },
    {
      "cell_type": "code",
      "metadata": {
        "id": "demonstrated-cocktail"
      },
      "source": [
        "df_x = pd.DataFrame(df_sales, columns=['surface','nb_rooms'])\n",
        "x = df_x.to_numpy()\n",
        "\n"
      ],
      "id": "demonstrated-cocktail",
      "execution_count": 62,
      "outputs": []
    },
    {
      "cell_type": "code",
      "metadata": {
        "id": "biblical-germany",
        "colab": {
          "base_uri": "https://localhost:8080/"
        },
        "outputId": "2d2359e9-ca4c-4c05-f328-f28b2bfb8624"
      },
      "source": [
        "one = np.ones((100,1))\n",
        "one\n"
      ],
      "id": "biblical-germany",
      "execution_count": 63,
      "outputs": [
        {
          "output_type": "execute_result",
          "data": {
            "text/plain": [
              "array([[1.],\n",
              "       [1.],\n",
              "       [1.],\n",
              "       [1.],\n",
              "       [1.],\n",
              "       [1.],\n",
              "       [1.],\n",
              "       [1.],\n",
              "       [1.],\n",
              "       [1.],\n",
              "       [1.],\n",
              "       [1.],\n",
              "       [1.],\n",
              "       [1.],\n",
              "       [1.],\n",
              "       [1.],\n",
              "       [1.],\n",
              "       [1.],\n",
              "       [1.],\n",
              "       [1.],\n",
              "       [1.],\n",
              "       [1.],\n",
              "       [1.],\n",
              "       [1.],\n",
              "       [1.],\n",
              "       [1.],\n",
              "       [1.],\n",
              "       [1.],\n",
              "       [1.],\n",
              "       [1.],\n",
              "       [1.],\n",
              "       [1.],\n",
              "       [1.],\n",
              "       [1.],\n",
              "       [1.],\n",
              "       [1.],\n",
              "       [1.],\n",
              "       [1.],\n",
              "       [1.],\n",
              "       [1.],\n",
              "       [1.],\n",
              "       [1.],\n",
              "       [1.],\n",
              "       [1.],\n",
              "       [1.],\n",
              "       [1.],\n",
              "       [1.],\n",
              "       [1.],\n",
              "       [1.],\n",
              "       [1.],\n",
              "       [1.],\n",
              "       [1.],\n",
              "       [1.],\n",
              "       [1.],\n",
              "       [1.],\n",
              "       [1.],\n",
              "       [1.],\n",
              "       [1.],\n",
              "       [1.],\n",
              "       [1.],\n",
              "       [1.],\n",
              "       [1.],\n",
              "       [1.],\n",
              "       [1.],\n",
              "       [1.],\n",
              "       [1.],\n",
              "       [1.],\n",
              "       [1.],\n",
              "       [1.],\n",
              "       [1.],\n",
              "       [1.],\n",
              "       [1.],\n",
              "       [1.],\n",
              "       [1.],\n",
              "       [1.],\n",
              "       [1.],\n",
              "       [1.],\n",
              "       [1.],\n",
              "       [1.],\n",
              "       [1.],\n",
              "       [1.],\n",
              "       [1.],\n",
              "       [1.],\n",
              "       [1.],\n",
              "       [1.],\n",
              "       [1.],\n",
              "       [1.],\n",
              "       [1.],\n",
              "       [1.],\n",
              "       [1.],\n",
              "       [1.],\n",
              "       [1.],\n",
              "       [1.],\n",
              "       [1.],\n",
              "       [1.],\n",
              "       [1.],\n",
              "       [1.],\n",
              "       [1.],\n",
              "       [1.],\n",
              "       [1.]])"
            ]
          },
          "metadata": {
            "tags": []
          },
          "execution_count": 63
        }
      ]
    },
    {
      "cell_type": "code",
      "metadata": {
        "colab": {
          "base_uri": "https://localhost:8080/"
        },
        "id": "VAOP5p65eKdm",
        "outputId": "8c9b331c-3018-43d3-96a1-a9b79ee4a686"
      },
      "source": [
        "one.shape"
      ],
      "id": "VAOP5p65eKdm",
      "execution_count": 64,
      "outputs": [
        {
          "output_type": "execute_result",
          "data": {
            "text/plain": [
              "(100, 1)"
            ]
          },
          "metadata": {
            "tags": []
          },
          "execution_count": 64
        }
      ]
    },
    {
      "cell_type": "code",
      "metadata": {
        "id": "sweet-tooth",
        "colab": {
          "base_uri": "https://localhost:8080/"
        },
        "outputId": "a1d18944-065c-4b49-e2a3-df0235226753"
      },
      "source": [
        "xone = np.concatenate((one, x), axis= 1,) \n",
        "xone"
      ],
      "id": "sweet-tooth",
      "execution_count": 65,
      "outputs": [
        {
          "output_type": "execute_result",
          "data": {
            "text/plain": [
              "array([[  1.,  83.,   1.],\n",
              "       [  1.,  83.,   1.],\n",
              "       [  1.,  94.,   9.],\n",
              "       [  1.,  40.,   1.],\n",
              "       [  1.,  50.,   3.],\n",
              "       [  1., 120.,   7.],\n",
              "       [  1.,  30.,   3.],\n",
              "       [  1., 136.,   3.],\n",
              "       [  1., 104.,   2.],\n",
              "       [  1., 108.,   5.],\n",
              "       [  1.,  85.,   3.],\n",
              "       [  1., 140.,   4.],\n",
              "       [  1.,  80.,   8.],\n",
              "       [  1., 133.,   3.],\n",
              "       [  1.,  86.,   8.],\n",
              "       [  1., 138.,   9.],\n",
              "       [  1.,  66.,   9.],\n",
              "       [  1.,  26.,   4.],\n",
              "       [  1., 130.,   9.],\n",
              "       [  1.,  26.,   1.],\n",
              "       [  1.,  49.,   8.],\n",
              "       [  1.,  41.,   6.],\n",
              "       [  1., 126.,   5.],\n",
              "       [  1.,  51.,   6.],\n",
              "       [  1.,  69.,   1.],\n",
              "       [  1., 100.,   8.],\n",
              "       [  1.,  69.,   4.],\n",
              "       [  1.,  72.,   4.],\n",
              "       [  1., 101.,   2.],\n",
              "       [  1., 144.,   3.],\n",
              "       [  1.,  35.,   1.],\n",
              "       [  1., 109.,   7.],\n",
              "       [  1.,  68.,   4.],\n",
              "       [  1.,  49.,   4.],\n",
              "       [  1.,  34.,   3.],\n",
              "       [  1.,  78.,   5.],\n",
              "       [  1.,  75.,   6.],\n",
              "       [  1.,  54.,   1.],\n",
              "       [  1.,  24.,   1.],\n",
              "       [  1., 128.,   8.],\n",
              "       [  1., 137.,   4.],\n",
              "       [  1., 115.,   3.],\n",
              "       [  1., 133.,   4.],\n",
              "       [  1., 110.,  10.],\n",
              "       [  1., 113.,   8.],\n",
              "       [  1., 140.,   9.],\n",
              "       [  1.,  82.,   9.],\n",
              "       [  1., 149.,   8.],\n",
              "       [  1., 135.,   5.],\n",
              "       [  1.,  89.,  10.],\n",
              "       [  1., 112.,   7.],\n",
              "       [  1.,  69.,   6.],\n",
              "       [  1., 137.,   7.],\n",
              "       [  1.,  47.,   8.],\n",
              "       [  1.,  96.,   7.],\n",
              "       [  1.,  55.,   6.],\n",
              "       [  1.,  45.,   4.],\n",
              "       [  1.,  67.,   4.],\n",
              "       [  1.,  49.,   2.],\n",
              "       [  1.,  40.,   7.],\n",
              "       [  1., 116.,   5.],\n",
              "       [  1.,  83.,  10.],\n",
              "       [  1.,  74.,   6.],\n",
              "       [  1., 108.,   8.],\n",
              "       [  1.,  88.,   9.],\n",
              "       [  1.,  47.,  10.],\n",
              "       [  1.,  53.,   8.],\n",
              "       [  1., 117.,   9.],\n",
              "       [  1., 108.,   4.],\n",
              "       [  1.,  39.,   7.],\n",
              "       [  1.,  55.,   8.],\n",
              "       [  1., 107.,   1.],\n",
              "       [  1.,  77.,   4.],\n",
              "       [  1., 108.,   9.],\n",
              "       [  1.,  40.,   5.],\n",
              "       [  1.,  48.,   9.],\n",
              "       [  1., 149.,   5.],\n",
              "       [  1.,  52.,   7.],\n",
              "       [  1.,  43.,   6.],\n",
              "       [  1.,  28.,   9.],\n",
              "       [  1.,  60.,   4.],\n",
              "       [  1.,  26.,   3.],\n",
              "       [  1., 100.,   4.],\n",
              "       [  1.,  72.,   9.],\n",
              "       [  1., 111.,  10.],\n",
              "       [  1., 113.,   7.],\n",
              "       [  1.,  75.,   1.],\n",
              "       [  1.,  29.,   1.],\n",
              "       [  1., 103.,   3.],\n",
              "       [  1.,  96.,   1.],\n",
              "       [  1.,  34.,   1.],\n",
              "       [  1.,  89.,  10.],\n",
              "       [  1., 150.,   7.],\n",
              "       [  1., 109.,   6.],\n",
              "       [  1.,  62.,   4.],\n",
              "       [  1., 122.,   4.],\n",
              "       [  1.,  96.,   8.],\n",
              "       [  1., 118.,   6.],\n",
              "       [  1., 106.,  10.],\n",
              "       [  1., 144.,   7.]])"
            ]
          },
          "metadata": {
            "tags": []
          },
          "execution_count": 65
        }
      ]
    },
    {
      "cell_type": "code",
      "metadata": {
        "id": "loaded-champagne"
      },
      "source": [
        "B = np.array([100000, 5000, 1000])\n"
      ],
      "id": "loaded-champagne",
      "execution_count": 66,
      "outputs": []
    },
    {
      "cell_type": "code",
      "metadata": {
        "id": "blond-malta",
        "colab": {
          "base_uri": "https://localhost:8080/"
        },
        "outputId": "dc3b8366-a799-4b4f-c0dc-cc9951b99252"
      },
      "source": [
        "y_hat = np.dot(xone,B)\n",
        "y_hat"
      ],
      "id": "blond-malta",
      "execution_count": 67,
      "outputs": [
        {
          "output_type": "execute_result",
          "data": {
            "text/plain": [
              "array([516000., 516000., 579000., 301000., 353000., 707000., 253000.,\n",
              "       783000., 622000., 645000., 528000., 804000., 508000., 768000.,\n",
              "       538000., 799000., 439000., 234000., 759000., 231000., 353000.,\n",
              "       311000., 735000., 361000., 446000., 608000., 449000., 464000.,\n",
              "       607000., 823000., 276000., 652000., 444000., 349000., 273000.,\n",
              "       495000., 481000., 371000., 221000., 748000., 789000., 678000.,\n",
              "       769000., 660000., 673000., 809000., 519000., 853000., 780000.,\n",
              "       555000., 667000., 451000., 792000., 343000., 587000., 381000.,\n",
              "       329000., 439000., 347000., 307000., 685000., 525000., 476000.,\n",
              "       648000., 549000., 345000., 373000., 694000., 644000., 302000.,\n",
              "       383000., 636000., 489000., 649000., 305000., 349000., 850000.,\n",
              "       367000., 321000., 249000., 404000., 233000., 604000., 469000.,\n",
              "       665000., 672000., 476000., 246000., 618000., 581000., 271000.,\n",
              "       555000., 857000., 651000., 414000., 714000., 588000., 696000.,\n",
              "       640000., 827000.])"
            ]
          },
          "metadata": {
            "tags": []
          },
          "execution_count": 67
        }
      ]
    },
    {
      "cell_type": "code",
      "metadata": {
        "id": "3UF9VFxhpUN9"
      },
      "source": [
        "import matplotlib.pyplot as plt\n"
      ],
      "id": "3UF9VFxhpUN9",
      "execution_count": 69,
      "outputs": []
    },
    {
      "cell_type": "code",
      "metadata": {
        "id": "announced-liabilities",
        "colab": {
          "base_uri": "https://localhost:8080/",
          "height": 265
        },
        "outputId": "707ce475-3e48-45b7-eb57-7cd00ac8de1f"
      },
      "source": [
        "plt.scatter(data=df_sales, x='surface', y='Sale Price', color='pink', marker='*')\n",
        "plt.plot(df_sales['surface'], y_hat,color='purple')\n",
        "plt.show()"
      ],
      "id": "announced-liabilities",
      "execution_count": 70,
      "outputs": [
        {
          "output_type": "display_data",
          "data": {
            "image/png": "[encoded data removed]",
            "text/plain": [
              "<Figure size 432x288 with 1 Axes>"
            ]
          },
          "metadata": {
            "tags": [],
            "needs_background": "light"
          }
        }
      ]
    },
    {
      "cell_type": "code",
      "metadata": {
        "id": "limited-disclosure"
      },
      "source": [
        "# Calculate L1 and L2 error between reality (y) and predictions (y_hat)"
      ],
      "id": "limited-disclosure",
      "execution_count": null,
      "outputs": []
    },
    {
      "cell_type": "code",
      "metadata": {
        "id": "minimal-spirituality",
        "colab": {
          "base_uri": "https://localhost:8080/"
        },
        "outputId": "81f5bf1b-6e02-4f8f-e396-4be8782d2643"
      },
      "source": [
        "L1 = np.sum(abs(y - y_hat))\n",
        "L1"
      ],
      "id": "minimal-spirituality",
      "execution_count": 78,
      "outputs": [
        {
          "output_type": "execute_result",
          "data": {
            "text/plain": [
              "2290620916.0"
            ]
          },
          "metadata": {
            "tags": []
          },
          "execution_count": 78
        }
      ]
    },
    {
      "cell_type": "code",
      "metadata": {
        "colab": {
          "base_uri": "https://localhost:8080/"
        },
        "id": "mORGo94JLxI5",
        "outputId": "2697e9f0-063a-4607-d913-8d257add9732"
      },
      "source": [
        "L2 = np.sum(np.square(y - y_hat))\n",
        "L2"
      ],
      "id": "mORGo94JLxI5",
      "execution_count": 79,
      "outputs": [
        {
          "output_type": "execute_result",
          "data": {
            "text/plain": [
              "788695129032100.0"
            ]
          },
          "metadata": {
            "tags": []
          },
          "execution_count": 79
        }
      ]
    },
    {
      "cell_type": "code",
      "metadata": {
        "id": "Cpe4U5yBRqfr"
      },
      "source": [
        ""
      ],
      "id": "Cpe4U5yBRqfr",
      "execution_count": null,
      "outputs": []
    }
  ]
}