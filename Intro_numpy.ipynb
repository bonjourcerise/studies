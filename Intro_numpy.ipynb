{
  "nbformat": 4,
  "nbformat_minor": 5,
  "metadata": {
    "kernelspec": {
      "display_name": "Python 3",
      "language": "python",
      "name": "python3"
    },
    "language_info": {
      "codemirror_mode": {
        "name": "ipython",
        "version": 3
      },
      "file_extension": ".py",
      "mimetype": "text/x-python",
      "name": "python",
      "nbconvert_exporter": "python",
      "pygments_lexer": "ipython3",
      "version": "3.8.8"
    },
    "toc": {
      "base_numbering": 1,
      "nav_menu": {},
      "number_sections": true,
      "sideBar": true,
      "skip_h1_title": false,
      "title_cell": "Table of Contents",
      "title_sidebar": "Contents",
      "toc_cell": false,
      "toc_position": {},
      "toc_section_display": true,
      "toc_window_display": false
    },
    "varInspector": {
      "cols": {
        "lenName": 16,
        "lenType": 16,
        "lenVar": 40
      },
      "kernels_config": {
        "python": {
          "delete_cmd_postfix": "",
          "delete_cmd_prefix": "del ",
          "library": "var_list.py",
          "varRefreshCmd": "print(var_dic_list())"
        },
        "r": {
          "delete_cmd_postfix": ") ",
          "delete_cmd_prefix": "rm(",
          "library": "var_list.r",
          "varRefreshCmd": "cat(var_dic_list()) "
        }
      },
      "types_to_exclude": [
        "module",
        "function",
        "builtin_function_or_method",
        "instance",
        "_Feature"
      ],
      "window_display": false
    },
    "colab": {
      "name": "Intro_numpy.ipynb",
      "provenance": []
    }
  },
  "cells": [
    {
      "cell_type": "markdown",
      "metadata": {
        "id": "portuguese-relaxation"
      },
      "source": [
        "# Numpy Basics"
      ],
      "id": "portuguese-relaxation"
    },
    {
      "cell_type": "markdown",
      "metadata": {
        "id": "bound-poland"
      },
      "source": [
        "Get familiar with the Numpy library, manipulate arrays and apply some basic operations \n",
        "\n",
        "You can use the [Numpy Cheat Sheet](https://s3.amazonaws.com/assets.datacamp.com/blog_assets/Numpy_Python_Cheat_Sheet.pdf)"
      ],
      "id": "bound-poland"
    },
    {
      "cell_type": "markdown",
      "metadata": {
        "id": "champion-daniel"
      },
      "source": [
        "## Introduction to Numpy "
      ],
      "id": "champion-daniel"
    },
    {
      "cell_type": "markdown",
      "metadata": {
        "id": "joint-footage"
      },
      "source": [
        "Import numpy library"
      ],
      "id": "joint-footage"
    },
    {
      "cell_type": "code",
      "metadata": {
        "id": "asian-catering"
      },
      "source": [
        "import numpy as np"
      ],
      "id": "asian-catering",
      "execution_count": 4,
      "outputs": []
    },
    {
      "cell_type": "markdown",
      "metadata": {
        "id": "composed-satin"
      },
      "source": [
        "---\n",
        "\n",
        "Use the method array to create 3 different arrays (A,B,C) of different dimmensions 1D, 2D, 3D. They should look like this\n",
        "\n",
        "```\n",
        "A = array([1, 2, 3])\n",
        "\n",
        "B = array([[1, 2, 3],\n",
        "           [3, 4, 5]])\n",
        "           \n",
        "C = array([[[ 1.,  2.,  3.],\n",
        "            [ 3.,  4.,  5.]],\n",
        "\n",
        "           [[ 6.,  7.,  8.],\n",
        "            [ 9., 10., 11.]]])\n",
        "```\n",
        "\n",
        "use the method ndim and shape to verify the dimensions. Then, the methods size and dtype\n",
        "\n",
        "For A, you should obtain, dimension : 1 , shape (3,), size: 3, dtype: int64\n",
        "\n",
        "For C, you should obtain, dimension : 3 , shape (2,2,3), size: 12, dtype: float64"
      ],
      "id": "composed-satin"
    },
    {
      "cell_type": "code",
      "metadata": {
        "colab": {
          "base_uri": "https://localhost:8080/"
        },
        "id": "1af1c574",
        "outputId": "292c2fb9-707d-4307-d710-acbb2a04133c"
      },
      "source": [
        "a = np.array([1, 2, 3])\n",
        "a"
      ],
      "id": "1af1c574",
      "execution_count": 5,
      "outputs": [
        {
          "output_type": "execute_result",
          "data": {
            "text/plain": [
              "array([1, 2, 3])"
            ]
          },
          "metadata": {
            "tags": []
          },
          "execution_count": 5
        }
      ]
    },
    {
      "cell_type": "code",
      "metadata": {
        "colab": {
          "base_uri": "https://localhost:8080/"
        },
        "id": "personal-ceramic",
        "outputId": "e1dc8fd1-dd00-41ef-cdbe-f946e02041a5"
      },
      "source": [
        "A = np.array([1, 2, 3])\n",
        "print(A)\n",
        "print('Dimension:',A.ndim)\n",
        "print('Shape:',A.shape)\n",
        "print('Type:',A.dtype)\n",
        "print('Size:',A.size)"
      ],
      "id": "personal-ceramic",
      "execution_count": 6,
      "outputs": [
        {
          "output_type": "stream",
          "text": [
            "[1 2 3]\n",
            "Dimension: 1\n",
            "Shape: (3,)\n",
            "Type: int64\n",
            "Size: 3\n"
          ],
          "name": "stdout"
        }
      ]
    },
    {
      "cell_type": "code",
      "metadata": {
        "colab": {
          "base_uri": "https://localhost:8080/"
        },
        "id": "ab52759f",
        "outputId": "92bfed8a-2226-45fc-e92a-794585a28fe7"
      },
      "source": [
        "B = np.array([[1, 2, 3],\n",
        "           [3, 4, 5]])\n",
        "print(B)\n",
        "print('Dimension:',B.ndim)\n",
        "print('Shape:',B.shape)\n",
        "print('Type:',B.dtype)\n",
        "print('Size:',B.size)"
      ],
      "id": "ab52759f",
      "execution_count": 7,
      "outputs": [
        {
          "output_type": "stream",
          "text": [
            "[[1 2 3]\n",
            " [3 4 5]]\n",
            "Dimension: 2\n",
            "Shape: (2, 3)\n",
            "Type: int64\n",
            "Size: 6\n"
          ],
          "name": "stdout"
        }
      ]
    },
    {
      "cell_type": "code",
      "metadata": {
        "colab": {
          "base_uri": "https://localhost:8080/"
        },
        "id": "b1905ddc",
        "outputId": "e8db9b07-fd0a-41b3-8584-73e5c28e9021"
      },
      "source": [
        "C = np.array([[[ 1.,  2.,  3.],\n",
        "            [ 3.,  4.,  5.]],\n",
        "            [[ 6.,  7.,  8.],\n",
        "            [ 9., 10., 11.]]])\n",
        "print(C)\n",
        "print('Dimension:', C.ndim)\n",
        "print('Shape:',C.shape)\n",
        "print('Type:',C.dtype)\n",
        "print('Size:',C.size)"
      ],
      "id": "b1905ddc",
      "execution_count": 8,
      "outputs": [
        {
          "output_type": "stream",
          "text": [
            "[[[ 1.  2.  3.]\n",
            "  [ 3.  4.  5.]]\n",
            "\n",
            " [[ 6.  7.  8.]\n",
            "  [ 9. 10. 11.]]]\n",
            "Dimension: 3\n",
            "Shape: (2, 2, 3)\n",
            "Type: float64\n",
            "Size: 12\n"
          ],
          "name": "stdout"
        }
      ]
    },
    {
      "cell_type": "markdown",
      "metadata": {
        "id": "aging-collection"
      },
      "source": [
        "With your own words, can you explain why A has a shape of (3,) and not (3,1)? "
      ],
      "id": "aging-collection"
    },
    {
      "cell_type": "code",
      "metadata": {
        "id": "narrow-buffer"
      },
      "source": [
        ""
      ],
      "id": "narrow-buffer",
      "execution_count": 8,
      "outputs": []
    },
    {
      "cell_type": "markdown",
      "metadata": {
        "id": "geological-basketball"
      },
      "source": [
        "How do you change the shape of A to (3,1)? what is the difference?"
      ],
      "id": "geological-basketball"
    },
    {
      "cell_type": "code",
      "metadata": {
        "colab": {
          "base_uri": "https://localhost:8080/"
        },
        "id": "numeric-officer",
        "outputId": "16fe2c39-a15c-4c26-8f23-54d8e7136889"
      },
      "source": [
        "Abis = np.reshape(A, (3,1))\n",
        "print(Abis)\n",
        "print('Shape:', Abis.shape)\n",
        "print('Dimension:', Abis.ndim)"
      ],
      "id": "numeric-officer",
      "execution_count": 9,
      "outputs": [
        {
          "output_type": "stream",
          "text": [
            "[[1]\n",
            " [2]\n",
            " [3]]\n",
            "Shape: (3, 1)\n",
            "Dimension: 2\n"
          ],
          "name": "stdout"
        }
      ]
    },
    {
      "cell_type": "markdown",
      "metadata": {
        "id": "residential-passport"
      },
      "source": [
        "---\n",
        "\n",
        "Let's test other methods to create numpy arrays. \n",
        "\n",
        "1- Create a null vector of size 8\n",
        "\n",
        "```\n",
        "array([0., 0., 0., 0., 0., 0., 0., 0.])\n",
        "```"
      ],
      "id": "residential-passport"
    },
    {
      "cell_type": "code",
      "metadata": {
        "colab": {
          "base_uri": "https://localhost:8080/"
        },
        "id": "complete-depression",
        "outputId": "54f0c188-c55b-481e-8989-82cdb0c7cf52"
      },
      "source": [
        "huit = np.zeros((8))\n",
        "huit"
      ],
      "id": "complete-depression",
      "execution_count": 10,
      "outputs": [
        {
          "output_type": "execute_result",
          "data": {
            "text/plain": [
              "array([0., 0., 0., 0., 0., 0., 0., 0.])"
            ]
          },
          "metadata": {
            "tags": []
          },
          "execution_count": 10
        }
      ]
    },
    {
      "cell_type": "markdown",
      "metadata": {
        "id": "stainless-boston"
      },
      "source": [
        "2- Create a vector with only one of shape (4,2)\n",
        "\n",
        "```\n",
        "array([[1., 1.],\n",
        "       [1., 1.],\n",
        "       [1., 1.],\n",
        "       [1., 1.]])\n",
        "```"
      ],
      "id": "stainless-boston"
    },
    {
      "cell_type": "code",
      "metadata": {
        "colab": {
          "base_uri": "https://localhost:8080/"
        },
        "id": "decent-filing",
        "outputId": "bc4662aa-c498-461f-946d-70a83ca7bcdd"
      },
      "source": [
        "vector = np.ones((4,2))\n",
        "vector"
      ],
      "id": "decent-filing",
      "execution_count": 11,
      "outputs": [
        {
          "output_type": "execute_result",
          "data": {
            "text/plain": [
              "array([[1., 1.],\n",
              "       [1., 1.],\n",
              "       [1., 1.],\n",
              "       [1., 1.]])"
            ]
          },
          "metadata": {
            "tags": []
          },
          "execution_count": 11
        }
      ]
    },
    {
      "cell_type": "markdown",
      "metadata": {
        "id": "neither-thumb"
      },
      "source": [
        "3 - Create a vector with values from 2 to 18 (without using np.array)\n",
        "\n",
        "```\n",
        "array([ 2,  3,  4,  5,  6,  7,  8,  9, 10, 11, 12, 13, 14, 15, 16, 17])\n",
        "```"
      ],
      "id": "neither-thumb"
    },
    {
      "cell_type": "code",
      "metadata": {
        "colab": {
          "base_uri": "https://localhost:8080/"
        },
        "id": "focal-detective",
        "outputId": "e406bfc6-2e61-4944-df93-fc8813a468bf"
      },
      "source": [
        "hello = np.arange(2, 18)\n",
        "hello"
      ],
      "id": "focal-detective",
      "execution_count": 12,
      "outputs": [
        {
          "output_type": "execute_result",
          "data": {
            "text/plain": [
              "array([ 2,  3,  4,  5,  6,  7,  8,  9, 10, 11, 12, 13, 14, 15, 16, 17])"
            ]
          },
          "metadata": {
            "tags": []
          },
          "execution_count": 12
        }
      ]
    },
    {
      "cell_type": "markdown",
      "metadata": {
        "id": "confused-thong"
      },
      "source": [
        "4- Create a vector with random numbers between 0 and 1 of shape (2,3,4)\n",
        "\n",
        "This should look like this (values can change, we are in random :) )\n",
        "\n",
        "```\n",
        "array([[[0.32917728, 0.07280774, 0.48285449, 0.82583863],\n",
        "        [0.94646022, 0.05935708, 0.38376227, 0.93222678],\n",
        "        [0.51835433, 0.19230094, 0.85057795, 0.11723047]],\n",
        "\n",
        "       [[0.94304701, 0.9026631 , 0.1288193 , 0.07662968],\n",
        "        [0.72708038, 0.21875513, 0.21803179, 0.27423456],\n",
        "        [0.48781086, 0.91235569, 0.85295078, 0.96024868]]])\n",
        "```"
      ],
      "id": "confused-thong"
    },
    {
      "cell_type": "code",
      "metadata": {
        "colab": {
          "base_uri": "https://localhost:8080/"
        },
        "id": "packed-reducing",
        "outputId": "53cd8ea9-44cd-4ea5-ac68-6f2bd7a13c99"
      },
      "source": [
        "youhou = np.random.random_sample((2,3,4))\n",
        "youhou"
      ],
      "id": "packed-reducing",
      "execution_count": 13,
      "outputs": [
        {
          "output_type": "execute_result",
          "data": {
            "text/plain": [
              "array([[[0.05146787, 0.91410094, 0.52856468, 0.0362573 ],\n",
              "        [0.2028874 , 0.36312072, 0.54537437, 0.88343002],\n",
              "        [0.64821469, 0.51298566, 0.7689926 , 0.07212605]],\n",
              "\n",
              "       [[0.89895323, 0.18620226, 0.32751363, 0.70008461],\n",
              "        [0.49686814, 0.28384477, 0.97244207, 0.37397326],\n",
              "        [0.10152965, 0.81716533, 0.70410338, 0.01665683]]])"
            ]
          },
          "metadata": {
            "tags": []
          },
          "execution_count": 13
        }
      ]
    },
    {
      "cell_type": "markdown",
      "metadata": {
        "id": "accessory-thumbnail"
      },
      "source": [
        "5- Create a vector with random integer numbers between -100 and 100, shape (2,10)\n",
        "\n",
        "This should look like this (values can change, we are in random :) )\n",
        "\n",
        "```\n",
        "array([[  82,   -3,  -60,   77,   57,   16,   40,   21,  -57,   53],\n",
        "       [ -43,  -50, -100,   18,   67,    4,   69,   34,   54,  -54]])\n",
        "```"
      ],
      "id": "accessory-thumbnail"
    },
    {
      "cell_type": "code",
      "metadata": {
        "colab": {
          "base_uri": "https://localhost:8080/"
        },
        "id": "supreme-george",
        "outputId": "da6aaec0-ae50-43b0-896f-ec2f7776ce9e"
      },
      "source": [
        "super = np.random.choice(range(-100, 100), (2, 10))\n",
        "super"
      ],
      "id": "supreme-george",
      "execution_count": 14,
      "outputs": [
        {
          "output_type": "execute_result",
          "data": {
            "text/plain": [
              "array([[-40,  95, -58, -54, -67,  77,  19, -36,  89, -31],\n",
              "       [-83,  34,  41,  26,  13,  48,  -7, -87, -26,  22]])"
            ]
          },
          "metadata": {
            "tags": []
          },
          "execution_count": 14
        }
      ]
    },
    {
      "cell_type": "code",
      "metadata": {
        "colab": {
          "base_uri": "https://localhost:8080/"
        },
        "id": "dd06b31d",
        "outputId": "dcf12076-5d25-4a80-c86a-d8aac2195d66"
      },
      "source": [
        "super2 = np.random.randint(-100,100,(2,10))\n",
        "super2"
      ],
      "id": "dd06b31d",
      "execution_count": 15,
      "outputs": [
        {
          "output_type": "execute_result",
          "data": {
            "text/plain": [
              "array([[  0, -96, -33,  61,  -6, -69,  -6, -73, -69, -34],\n",
              "       [ 66,  38,  22,  14, -29, -81, -82, -12,  35, -97]])"
            ]
          },
          "metadata": {
            "tags": []
          },
          "execution_count": 15
        }
      ]
    },
    {
      "cell_type": "markdown",
      "metadata": {
        "id": "sound-width"
      },
      "source": [
        " Create a identity matrix of shape (3,3)\n",
        " \n",
        " ```\n",
        " array([[1, 0, 0],\n",
        "       [0, 1, 0],\n",
        "       [0, 0, 1]])\n",
        "```"
      ],
      "id": "sound-width"
    },
    {
      "cell_type": "code",
      "metadata": {
        "colab": {
          "base_uri": "https://localhost:8080/"
        },
        "id": "extended-consideration",
        "outputId": "6f0d46f5-76ea-4b0c-a95a-2ca0551925c1"
      },
      "source": [
        "eye = np.eye(3,3)\n",
        "eye"
      ],
      "id": "extended-consideration",
      "execution_count": 16,
      "outputs": [
        {
          "output_type": "execute_result",
          "data": {
            "text/plain": [
              "array([[1., 0., 0.],\n",
              "       [0., 1., 0.],\n",
              "       [0., 0., 1.]])"
            ]
          },
          "metadata": {
            "tags": []
          },
          "execution_count": 16
        }
      ]
    },
    {
      "cell_type": "markdown",
      "metadata": {
        "id": "psychological-danish"
      },
      "source": [
        "Bonus: create the following checkboard array of shape (6,6)\n",
        "\n",
        "```\n",
        "array([[1, 0, 1, 0, 1, 0],\n",
        "       [0, 1, 0, 1, 0, 1],\n",
        "       [1, 0, 1, 0, 1, 0],\n",
        "       [0, 1, 0, 1, 0, 1],\n",
        "       [1, 0, 1, 0, 1, 0],\n",
        "       [0, 1, 0, 1, 0, 1]])\n",
        "```\n",
        "\n",
        "<details>\n",
        "    <summary> Hint: </summary>\n",
        "    <p>Have a look at <a href=\"https://numpy.org/devdocs/reference/generated/numpy.tile.html\"><code>numpy.tile</code></a></p>\n",
        "</details>"
      ],
      "id": "psychological-danish"
    },
    {
      "cell_type": "code",
      "metadata": {
        "colab": {
          "base_uri": "https://localhost:8080/"
        },
        "id": "allied-appearance",
        "outputId": "ce7b14e5-fab1-4ee7-97ab-3d151ebc9dbc"
      },
      "source": [
        "aaaa = np.array([0,1])\n",
        "bbbb = np.tile(aaaa,(6,3))\n",
        "bbbb"
      ],
      "id": "allied-appearance",
      "execution_count": 17,
      "outputs": [
        {
          "output_type": "execute_result",
          "data": {
            "text/plain": [
              "array([[0, 1, 0, 1, 0, 1],\n",
              "       [0, 1, 0, 1, 0, 1],\n",
              "       [0, 1, 0, 1, 0, 1],\n",
              "       [0, 1, 0, 1, 0, 1],\n",
              "       [0, 1, 0, 1, 0, 1],\n",
              "       [0, 1, 0, 1, 0, 1]])"
            ]
          },
          "metadata": {
            "tags": []
          },
          "execution_count": 17
        }
      ]
    },
    {
      "cell_type": "markdown",
      "metadata": {
        "id": "worse-albert"
      },
      "source": [
        "## Array manipulation"
      ],
      "id": "worse-albert"
    },
    {
      "cell_type": "markdown",
      "metadata": {
        "id": "sticky-sugar"
      },
      "source": [
        "Compute the sum of two matrices (A and B). Then, store the result into a variable ab_sum.\n",
        "\n",
        "```\n",
        "A = [[ 1 -3]\n",
        "     [ 0 -6]\n",
        "     [ 4  2]]\n",
        "     \n",
        "B = [[ 0  2]\n",
        "     [ 2 -2]\n",
        "     [10 20]]\n",
        "```\n",
        "A+B = ??"
      ],
      "id": "sticky-sugar"
    },
    {
      "cell_type": "code",
      "metadata": {
        "id": "developed-fancy"
      },
      "source": [
        "A = np.array([[1, -3],\n",
        "              [0, -6],\n",
        "              [4 , 2]])"
      ],
      "id": "developed-fancy",
      "execution_count": 18,
      "outputs": []
    },
    {
      "cell_type": "code",
      "metadata": {
        "id": "optimum-debut"
      },
      "source": [
        "B = np.array([[0, 2],\n",
        "              [2, -2],\n",
        "              [10 , 20]])"
      ],
      "id": "optimum-debut",
      "execution_count": 19,
      "outputs": []
    },
    {
      "cell_type": "code",
      "metadata": {
        "colab": {
          "base_uri": "https://localhost:8080/"
        },
        "id": "fGjjAo_Yp0yQ",
        "outputId": "f61b967f-eaaf-4c2a-9784-d22717abbf18"
      },
      "source": [
        "ABsum = A + B\n",
        "ABsum"
      ],
      "id": "fGjjAo_Yp0yQ",
      "execution_count": 20,
      "outputs": [
        {
          "output_type": "execute_result",
          "data": {
            "text/plain": [
              "array([[ 1, -1],\n",
              "       [ 2, -8],\n",
              "       [14, 22]])"
            ]
          },
          "metadata": {
            "tags": []
          },
          "execution_count": 20
        }
      ]
    },
    {
      "cell_type": "markdown",
      "metadata": {
        "id": "binary-bahamas"
      },
      "source": [
        "Repeat the sum of A and B using np.add() ... then try np.subtract()"
      ],
      "id": "binary-bahamas"
    },
    {
      "cell_type": "code",
      "metadata": {
        "colab": {
          "base_uri": "https://localhost:8080/"
        },
        "id": "circular-storm",
        "outputId": "8d8e4301-0e1c-4994-e2d6-d993c63c3d25"
      },
      "source": [
        "ABsum2 = np.add(A,B)\n",
        "ABsum2"
      ],
      "id": "circular-storm",
      "execution_count": 21,
      "outputs": [
        {
          "output_type": "execute_result",
          "data": {
            "text/plain": [
              "array([[ 1, -1],\n",
              "       [ 2, -8],\n",
              "       [14, 22]])"
            ]
          },
          "metadata": {
            "tags": []
          },
          "execution_count": 21
        }
      ]
    },
    {
      "cell_type": "code",
      "metadata": {
        "colab": {
          "base_uri": "https://localhost:8080/"
        },
        "id": "therapeutic-lindsay",
        "outputId": "4badf626-9d1e-47d8-cfc4-ebff81298238"
      },
      "source": [
        "ABsum3 = np.subtract(A,B)\n",
        "ABsum3"
      ],
      "id": "therapeutic-lindsay",
      "execution_count": 22,
      "outputs": [
        {
          "output_type": "execute_result",
          "data": {
            "text/plain": [
              "array([[  1,  -5],\n",
              "       [ -2,  -4],\n",
              "       [ -6, -18]])"
            ]
          },
          "metadata": {
            "tags": []
          },
          "execution_count": 22
        }
      ]
    },
    {
      "cell_type": "markdown",
      "metadata": {
        "id": "nutritional-masters"
      },
      "source": [
        "Given the following matrix. apply the method sum to obtain the sum of rows, then the sum of columns and sum of all elements in the array\n",
        "\n",
        "```\n",
        "S = array([[1, 2],\n",
        "           [3, 4],\n",
        "           [5, 6]])\n",
        "```\n",
        "\n",
        "sum of rows \n",
        "```\n",
        "[3\n",
        " 7\n",
        " 11]\n",
        "```\n",
        "\n",
        "sum of columns\n",
        "```\n",
        "[ 9, 12]\n",
        "```\n",
        "\n",
        "sum of all : 21"
      ],
      "id": "nutritional-masters"
    },
    {
      "cell_type": "code",
      "metadata": {
        "colab": {
          "base_uri": "https://localhost:8080/"
        },
        "id": "judicial-course",
        "outputId": "1d29f474-b5fb-4937-990d-ef520bd6b01b"
      },
      "source": [
        "somme=np.array([[1, 2], [3,4], [5,6]])\n",
        "somme"
      ],
      "id": "judicial-course",
      "execution_count": 23,
      "outputs": [
        {
          "output_type": "execute_result",
          "data": {
            "text/plain": [
              "array([[1, 2],\n",
              "       [3, 4],\n",
              "       [5, 6]])"
            ]
          },
          "metadata": {
            "tags": []
          },
          "execution_count": 23
        }
      ]
    },
    {
      "cell_type": "code",
      "metadata": {
        "colab": {
          "base_uri": "https://localhost:8080/"
        },
        "id": "representative-distance",
        "outputId": "736a7ac5-1555-4072-af74-580fc02a3888"
      },
      "source": [
        "sum1=np.sum(somme, axis=0)\n",
        "sum1"
      ],
      "id": "representative-distance",
      "execution_count": 24,
      "outputs": [
        {
          "output_type": "execute_result",
          "data": {
            "text/plain": [
              "array([ 9, 12])"
            ]
          },
          "metadata": {
            "tags": []
          },
          "execution_count": 24
        }
      ]
    },
    {
      "cell_type": "code",
      "metadata": {
        "colab": {
          "base_uri": "https://localhost:8080/"
        },
        "id": "Pkaxyhbqv6GI",
        "outputId": "73ee4e8f-7ebf-45eb-8acf-837651a9e741"
      },
      "source": [
        "sum2=np.sum(somme, axis=1)\n",
        "sum2"
      ],
      "id": "Pkaxyhbqv6GI",
      "execution_count": 25,
      "outputs": [
        {
          "output_type": "execute_result",
          "data": {
            "text/plain": [
              "array([ 3,  7, 11])"
            ]
          },
          "metadata": {
            "tags": []
          },
          "execution_count": 25
        }
      ]
    },
    {
      "cell_type": "markdown",
      "metadata": {
        "id": "sustainable-newfoundland"
      },
      "source": [
        "How would you perform the sum of rows and columns using index slicing?\n",
        "\n",
        "Rappel: slicing is the process to select rows and columns based on its index\n",
        "\n",
        "general formula: \n",
        "```\n",
        "A[rows,columns] \n",
        "A[start:stop:step, start:stop:step]\n",
        "```\n",
        "\n",
        "A[:,:] will slice all the rows and columns. A[:,1] will slice all rows in column 1\n",
        "\n",
        "remember, index starts at 0 and stops and (n-1), with n being the size of row or column\n",
        "\n",
        "Ex: the index of this 1D matrix [1,2,3,4] are 0,1,2,3\n"
      ],
      "id": "sustainable-newfoundland"
    },
    {
      "cell_type": "code",
      "metadata": {
        "colab": {
          "base_uri": "https://localhost:8080/"
        },
        "id": "developmental-capitol",
        "outputId": "0b282570-9bb3-463c-e993-ac22fe359d35"
      },
      "source": [
        "somme2=somme[::]\n",
        "somme2.sum()"
      ],
      "id": "developmental-capitol",
      "execution_count": 32,
      "outputs": [
        {
          "output_type": "execute_result",
          "data": {
            "text/plain": [
              "21"
            ]
          },
          "metadata": {
            "tags": []
          },
          "execution_count": 32
        }
      ]
    },
    {
      "cell_type": "code",
      "metadata": {
        "id": "ready-conjunction"
      },
      "source": [
        ""
      ],
      "id": "ready-conjunction",
      "execution_count": null,
      "outputs": []
    },
    {
      "cell_type": "markdown",
      "metadata": {
        "id": "going-salmon"
      },
      "source": [
        "Given the following matrix R. Use index slicing to get the following data: \n",
        "\n",
        "```\n",
        "R = array([[ 1,  2,  3,  4],\n",
        "           [ 5,  6,  7,  8],\n",
        "           [ 9, 10, 11, 12],\n",
        "           [13, 14, 15, 16],\n",
        "           [17, 18, 19, 20]])\n",
        "\n",
        "[[ 7],\n",
        " [11],\n",
        " [15]]\n",
        "\n",
        "[14, 15, 16]\n",
        "\n",
        "[[ 1,  2,  3,  4],\n",
        " [ 9, 10, 11, 12],\n",
        " [17, 18, 19, 20]]\n",
        "```"
      ],
      "id": "going-salmon"
    },
    {
      "cell_type": "code",
      "metadata": {
        "colab": {
          "base_uri": "https://localhost:8080/"
        },
        "id": "D7wnugrhJuFy",
        "outputId": "d9158ec2-e508-4ac7-9a06-339b8be95e17"
      },
      "source": [
        "matrice1 = np.array([[ 1,  2,  3,  4],\n",
        "           [ 5,  6,  7,  8],\n",
        "           [ 9, 10, 11, 12],\n",
        "           [13, 14, 15, 16],\n",
        "           [17, 18, 19, 20]])\n",
        "matrice1"
      ],
      "id": "D7wnugrhJuFy",
      "execution_count": 34,
      "outputs": [
        {
          "output_type": "execute_result",
          "data": {
            "text/plain": [
              "array([[ 1,  2,  3,  4],\n",
              "       [ 5,  6,  7,  8],\n",
              "       [ 9, 10, 11, 12],\n",
              "       [13, 14, 15, 16],\n",
              "       [17, 18, 19, 20]])"
            ]
          },
          "metadata": {
            "tags": []
          },
          "execution_count": 34
        }
      ]
    },
    {
      "cell_type": "code",
      "metadata": {
        "colab": {
          "base_uri": "https://localhost:8080/"
        },
        "id": "DYVtGBU7J4Mo",
        "outputId": "1d5d2eb3-b7a6-446e-fd62-1589e74dfe39"
      },
      "source": [
        "matriceslice1 = matrice1[1:-1,2]\n",
        "matriceslice1"
      ],
      "id": "DYVtGBU7J4Mo",
      "execution_count": 66,
      "outputs": [
        {
          "output_type": "execute_result",
          "data": {
            "text/plain": [
              "array([ 7, 11, 15])"
            ]
          },
          "metadata": {
            "tags": []
          },
          "execution_count": 66
        }
      ]
    },
    {
      "cell_type": "code",
      "metadata": {
        "colab": {
          "base_uri": "https://localhost:8080/"
        },
        "id": "luITlmcCQCRo",
        "outputId": "6dce6737-ab9c-479a-d405-945b18717ea3"
      },
      "source": [
        "pouet=np.resize(matriceslice1,(3,1))\n",
        "pouet"
      ],
      "id": "luITlmcCQCRo",
      "execution_count": 67,
      "outputs": [
        {
          "output_type": "execute_result",
          "data": {
            "text/plain": [
              "array([[ 7],\n",
              "       [11],\n",
              "       [15]])"
            ]
          },
          "metadata": {
            "tags": []
          },
          "execution_count": 67
        }
      ]
    },
    {
      "cell_type": "code",
      "metadata": {
        "colab": {
          "base_uri": "https://localhost:8080/"
        },
        "id": "EZVmN8aNKZE6",
        "outputId": "217cdaa1-b18a-464e-be81-fe547757dd78"
      },
      "source": [
        "matriceslice2 = matrice1[3,1:4]\n",
        "matriceslice2"
      ],
      "id": "EZVmN8aNKZE6",
      "execution_count": 59,
      "outputs": [
        {
          "output_type": "execute_result",
          "data": {
            "text/plain": [
              "array([14, 15, 16])"
            ]
          },
          "metadata": {
            "tags": []
          },
          "execution_count": 59
        }
      ]
    },
    {
      "cell_type": "code",
      "metadata": {
        "colab": {
          "base_uri": "https://localhost:8080/"
        },
        "id": "OwaE3fUbLyRJ",
        "outputId": "f83979af-4bd0-4885-c711-deeafdc6ad96"
      },
      "source": [
        "matriceslice3 = matrice1[::2]\n",
        "matriceslice3"
      ],
      "id": "OwaE3fUbLyRJ",
      "execution_count": 57,
      "outputs": [
        {
          "output_type": "execute_result",
          "data": {
            "text/plain": [
              "array([[ 1,  2,  3,  4],\n",
              "       [ 9, 10, 11, 12],\n",
              "       [17, 18, 19, 20]])"
            ]
          },
          "metadata": {
            "tags": []
          },
          "execution_count": 57
        }
      ]
    },
    {
      "cell_type": "code",
      "metadata": {
        "colab": {
          "base_uri": "https://localhost:8080/"
        },
        "id": "wired-phoenix",
        "outputId": "99c49c16-ecb7-48a7-8c34-d870bceeea55"
      },
      "source": [
        "R = np.arange(1, 21).reshape(5,4)\n",
        "R"
      ],
      "id": "wired-phoenix",
      "execution_count": 58,
      "outputs": [
        {
          "output_type": "execute_result",
          "data": {
            "text/plain": [
              "array([[ 1,  2,  3,  4],\n",
              "       [ 5,  6,  7,  8],\n",
              "       [ 9, 10, 11, 12],\n",
              "       [13, 14, 15, 16],\n",
              "       [17, 18, 19, 20]])"
            ]
          },
          "metadata": {
            "tags": []
          },
          "execution_count": 58
        }
      ]
    },
    {
      "cell_type": "markdown",
      "metadata": {
        "id": "pressed-princess"
      },
      "source": [
        "Given these 2 vectors. Perfom multiplication, scalar product and vectorial product between X and Y. Can you explain the differences between these three methods?\n",
        "\n",
        "```\n",
        "X = [1 2 3]\n",
        "Y = [4 5 6]\n",
        "```\n",
        "\n",
        "Hint: read differences between np.multiply, np.dot and np.cross"
      ],
      "id": "pressed-princess"
    },
    {
      "cell_type": "code",
      "metadata": {
        "id": "yLBeqwqNPVjz"
      },
      "source": [
        "X = np.array([1, 2, 3])\n",
        "Y = np.array([4, 5, 6])"
      ],
      "id": "yLBeqwqNPVjz",
      "execution_count": 64,
      "outputs": []
    },
    {
      "cell_type": "code",
      "metadata": {
        "colab": {
          "base_uri": "https://localhost:8080/"
        },
        "id": "promotional-agenda",
        "outputId": "ac233a84-697a-4608-8e83-0ce97ff07679"
      },
      "source": [
        "x2 = np.multiply(X,Y)\n",
        "x2"
      ],
      "id": "promotional-agenda",
      "execution_count": 72,
      "outputs": [
        {
          "output_type": "execute_result",
          "data": {
            "text/plain": [
              "array([ 4, 10, 18])"
            ]
          },
          "metadata": {
            "tags": []
          },
          "execution_count": 72
        }
      ]
    },
    {
      "cell_type": "code",
      "metadata": {
        "colab": {
          "base_uri": "https://localhost:8080/"
        },
        "id": "crude-rocket",
        "outputId": "98b2bd6a-b36c-4cab-c4fc-b257f61e734e"
      },
      "source": [
        "x3 = np.dot(X,Y)\n",
        "x3"
      ],
      "id": "crude-rocket",
      "execution_count": 68,
      "outputs": [
        {
          "output_type": "execute_result",
          "data": {
            "text/plain": [
              "32"
            ]
          },
          "metadata": {
            "tags": []
          },
          "execution_count": 68
        }
      ]
    },
    {
      "cell_type": "code",
      "metadata": {
        "colab": {
          "base_uri": "https://localhost:8080/"
        },
        "id": "variable-postage",
        "outputId": "23f7b323-fe9e-4f6c-dd8e-10c29396a565"
      },
      "source": [
        "x4=np.cross(X,Y)\n",
        "x4"
      ],
      "id": "variable-postage",
      "execution_count": 69,
      "outputs": [
        {
          "output_type": "execute_result",
          "data": {
            "text/plain": [
              "array([-3,  6, -3])"
            ]
          },
          "metadata": {
            "tags": []
          },
          "execution_count": 69
        }
      ]
    },
    {
      "cell_type": "markdown",
      "metadata": {
        "id": "steady-supervision"
      },
      "source": [
        "Given the following vector. calculate the exponential of each element as $f(x) = e^x$"
      ],
      "id": "steady-supervision"
    },
    {
      "cell_type": "code",
      "metadata": {
        "colab": {
          "base_uri": "https://localhost:8080/"
        },
        "id": "sporting-camel",
        "outputId": "8ac4e39b-e760-48db-a54f-6fa37a4ab229"
      },
      "source": [
        "vector1 = np.exp(X)\n",
        "vector1"
      ],
      "id": "sporting-camel",
      "execution_count": 70,
      "outputs": [
        {
          "output_type": "execute_result",
          "data": {
            "text/plain": [
              "array([ 2.71828183,  7.3890561 , 20.08553692])"
            ]
          },
          "metadata": {
            "tags": []
          },
          "execution_count": 70
        }
      ]
    },
    {
      "cell_type": "code",
      "metadata": {
        "colab": {
          "base_uri": "https://localhost:8080/"
        },
        "id": "musical-bulletin",
        "outputId": "c07ca868-3e4a-409c-eb41-1f9c6bbedb9d"
      },
      "source": [
        "vector2 = np.exp(Y)\n",
        "vector2"
      ],
      "id": "musical-bulletin",
      "execution_count": 71,
      "outputs": [
        {
          "output_type": "execute_result",
          "data": {
            "text/plain": [
              "array([ 54.59815003, 148.4131591 , 403.42879349])"
            ]
          },
          "metadata": {
            "tags": []
          },
          "execution_count": 71
        }
      ]
    },
    {
      "cell_type": "markdown",
      "metadata": {
        "id": "vanilla-greek"
      },
      "source": [
        "Create a python function where you implement the sigmoid function : \n",
        "\n",
        "$f(x) = \\frac{1}{1 + e^{-x}}$\n",
        "\n",
        "Then, use it to calculate the sigmoid value for the previous vector X"
      ],
      "id": "vanilla-greek"
    },
    {
      "cell_type": "code",
      "metadata": {
        "id": "republican-investor"
      },
      "source": [
        "def sigmoid(x):\n",
        "  \n",
        "    z = np.exp(-x)\n",
        "    sig = 1 / (1 + z)\n",
        "\n",
        "    return sig"
      ],
      "id": "republican-investor",
      "execution_count": 76,
      "outputs": []
    },
    {
      "cell_type": "code",
      "metadata": {
        "colab": {
          "base_uri": "https://localhost:8080/"
        },
        "id": "planned-prior",
        "outputId": "bfcfb6fd-137c-4015-cae4-36977e1aea7f"
      },
      "source": [
        "sigmoid(X)"
      ],
      "id": "planned-prior",
      "execution_count": 77,
      "outputs": [
        {
          "output_type": "execute_result",
          "data": {
            "text/plain": [
              "array([0.73105858, 0.88079708, 0.95257413])"
            ]
          },
          "metadata": {
            "tags": []
          },
          "execution_count": 77
        }
      ]
    },
    {
      "cell_type": "markdown",
      "metadata": {
        "id": "theoretical-wrist"
      },
      "source": [
        "## Difference between lists and arrays"
      ],
      "id": "theoretical-wrist"
    },
    {
      "cell_type": "markdown",
      "metadata": {
        "id": "respiratory-doctrine"
      },
      "source": [
        "Create the following list and transform it to an array d_array\n",
        "```\n",
        "d_list = [[1, 2, 3],\n",
        "          [4, 5, 6]]\n",
        "```"
      ],
      "id": "respiratory-doctrine"
    },
    {
      "cell_type": "code",
      "metadata": {
        "colab": {
          "base_uri": "https://localhost:8080/"
        },
        "id": "contained-intranet",
        "outputId": "2d2655a8-5797-45da-bf1b-98a7987a58d6"
      },
      "source": [
        "d_list = np.array([[1,2,3],\n",
        "                   [4,5,6]])\n",
        "d_list"
      ],
      "id": "contained-intranet",
      "execution_count": 90,
      "outputs": [
        {
          "output_type": "execute_result",
          "data": {
            "text/plain": [
              "array([[1, 2, 3],\n",
              "       [4, 5, 6]])"
            ]
          },
          "metadata": {
            "tags": []
          },
          "execution_count": 90
        }
      ]
    },
    {
      "cell_type": "markdown",
      "metadata": {
        "id": "killing-american"
      },
      "source": [
        "How do you obtain the sum of rows with the list? How do you perform with an array? this should be the result:\n",
        "```\n",
        "[[ 6],\n",
        " [15]]\n",
        "```"
      ],
      "id": "killing-american"
    },
    {
      "cell_type": "code",
      "metadata": {
        "colab": {
          "base_uri": "https://localhost:8080/"
        },
        "id": "realistic-passing",
        "outputId": "756a347c-484c-459f-e175-d56d7a77ad03"
      },
      "source": [
        "d_list2=np.sum(d_list, axis=1)\n",
        "d_list2"
      ],
      "id": "realistic-passing",
      "execution_count": 91,
      "outputs": [
        {
          "output_type": "execute_result",
          "data": {
            "text/plain": [
              "array([ 6, 15])"
            ]
          },
          "metadata": {
            "tags": []
          },
          "execution_count": 91
        }
      ]
    },
    {
      "cell_type": "markdown",
      "metadata": {
        "id": "likely-veteran"
      },
      "source": [
        "Let's mesure the time of calculation. Usee the magic command %%time at the beginning of the cell to measure time.  Compare the time of calculation to obtain the sum of elements of the following list and array. What is your conclusion? "
      ],
      "id": "likely-veteran"
    },
    {
      "cell_type": "code",
      "metadata": {
        "colab": {
          "base_uri": "https://localhost:8080/"
        },
        "id": "novel-trial",
        "outputId": "1ed779c8-9af2-4f9c-b1b1-469986023f69"
      },
      "source": [
        "%%time\n",
        "A = np.random.rand(1000, 1000)\n",
        "a = A.tolist()"
      ],
      "id": "novel-trial",
      "execution_count": 92,
      "outputs": [
        {
          "output_type": "stream",
          "text": [
            "CPU times: user 27.8 ms, sys: 6.9 ms, total: 34.7 ms\n",
            "Wall time: 35 ms\n"
          ],
          "name": "stdout"
        }
      ]
    },
    {
      "cell_type": "code",
      "metadata": {
        "colab": {
          "base_uri": "https://localhost:8080/"
        },
        "id": "decent-portuguese",
        "outputId": "9a50e177-a120-4d5e-ecd3-4a4f522852ed"
      },
      "source": [
        "%%time\n",
        "total = 0\n",
        "for row in a:\n",
        "    for n in row:\n",
        "        total += n\n",
        "round(total, 2)\n"
      ],
      "id": "decent-portuguese",
      "execution_count": 93,
      "outputs": [
        {
          "output_type": "stream",
          "text": [
            "CPU times: user 89.9 ms, sys: 0 ns, total: 89.9 ms\n",
            "Wall time: 92.4 ms\n"
          ],
          "name": "stdout"
        }
      ]
    },
    {
      "cell_type": "code",
      "metadata": {
        "colab": {
          "base_uri": "https://localhost:8080/"
        },
        "id": "least-wellington",
        "outputId": "45981704-e0ea-4282-ad69-a5d513c8d317"
      },
      "source": [
        "%%time\n",
        "round(np.sum(A), 2)"
      ],
      "id": "least-wellington",
      "execution_count": 94,
      "outputs": [
        {
          "output_type": "stream",
          "text": [
            "CPU times: user 1.55 ms, sys: 0 ns, total: 1.55 ms\n",
            "Wall time: 1.07 ms\n"
          ],
          "name": "stdout"
        },
        {
          "output_type": "execute_result",
          "data": {
            "text/plain": [
              "499519.0"
            ]
          },
          "metadata": {
            "tags": []
          },
          "execution_count": 94
        }
      ]
    },
    {
      "cell_type": "markdown",
      "metadata": {
        "id": "entertaining-holiday"
      },
      "source": [
        "## boolean indexing"
      ],
      "id": "entertaining-holiday"
    },
    {
      "cell_type": "markdown",
      "metadata": {
        "id": "integrated-sauce"
      },
      "source": [
        "Given the G matrix, use boolean indexing to change the values of numbers > 25 to 100. "
      ],
      "id": "integrated-sauce"
    },
    {
      "cell_type": "code",
      "metadata": {
        "colab": {
          "base_uri": "https://localhost:8080/"
        },
        "id": "effective-mainstream",
        "outputId": "ce8b18b8-8ec1-499c-e894-41be190f5120"
      },
      "source": [
        "G = np.arange(1,51).reshape(5,10)\n",
        "G"
      ],
      "id": "effective-mainstream",
      "execution_count": 112,
      "outputs": [
        {
          "output_type": "execute_result",
          "data": {
            "text/plain": [
              "array([[ 1,  2,  3,  4,  5,  6,  7,  8,  9, 10],\n",
              "       [11, 12, 13, 14, 15, 16, 17, 18, 19, 20],\n",
              "       [21, 22, 23, 24, 25, 26, 27, 28, 29, 30],\n",
              "       [31, 32, 33, 34, 35, 36, 37, 38, 39, 40],\n",
              "       [41, 42, 43, 44, 45, 46, 47, 48, 49, 50]])"
            ]
          },
          "metadata": {
            "tags": []
          },
          "execution_count": 112
        }
      ]
    },
    {
      "cell_type": "code",
      "metadata": {
        "colab": {
          "base_uri": "https://localhost:8080/"
        },
        "id": "neutral-correspondence",
        "outputId": "477e207b-56ce-42ca-ec16-f8b3765c64ff"
      },
      "source": [
        "G = np.arange(25,101)\n",
        "G"
      ],
      "id": "neutral-correspondence",
      "execution_count": 115,
      "outputs": [
        {
          "output_type": "execute_result",
          "data": {
            "text/plain": [
              "array([ 25,  26,  27,  28,  29,  30,  31,  32,  33,  34,  35,  36,  37,\n",
              "        38,  39,  40,  41,  42,  43,  44,  45,  46,  47,  48,  49,  50,\n",
              "        51,  52,  53,  54,  55,  56,  57,  58,  59,  60,  61,  62,  63,\n",
              "        64,  65,  66,  67,  68,  69,  70,  71,  72,  73,  74,  75,  76,\n",
              "        77,  78,  79,  80,  81,  82,  83,  84,  85,  86,  87,  88,  89,\n",
              "        90,  91,  92,  93,  94,  95,  96,  97,  98,  99, 100])"
            ]
          },
          "metadata": {
            "tags": []
          },
          "execution_count": 115
        }
      ]
    },
    {
      "cell_type": "markdown",
      "metadata": {
        "id": "indie-shoot"
      },
      "source": [
        "## numpy broadcasting"
      ],
      "id": "indie-shoot"
    },
    {
      "cell_type": "markdown",
      "metadata": {
        "id": "complimentary-microwave"
      },
      "source": [
        "Execute the following cells and describe with your own words, what is happening."
      ],
      "id": "complimentary-microwave"
    },
    {
      "cell_type": "code",
      "metadata": {
        "colab": {
          "base_uri": "https://localhost:8080/"
        },
        "id": "rational-envelope",
        "outputId": "0a1e2f1f-16c5-4a71-d173-dfd9c08445e8"
      },
      "source": [
        "P = np.arange(1,5)\n",
        "Q = np.arange(6,10).reshape(4,1)\n",
        "print(P)\n",
        "print(Q)"
      ],
      "id": "rational-envelope",
      "execution_count": 116,
      "outputs": [
        {
          "output_type": "stream",
          "text": [
            "[1 2 3 4]\n",
            "[[6]\n",
            " [7]\n",
            " [8]\n",
            " [9]]\n"
          ],
          "name": "stdout"
        }
      ]
    },
    {
      "cell_type": "code",
      "metadata": {
        "colab": {
          "base_uri": "https://localhost:8080/"
        },
        "id": "historic-separate",
        "outputId": "05476144-7395-4eb7-a390-4a6b7b9cb8f3"
      },
      "source": [
        "P+Q"
      ],
      "id": "historic-separate",
      "execution_count": 117,
      "outputs": [
        {
          "output_type": "execute_result",
          "data": {
            "text/plain": [
              "array([[ 7,  8,  9, 10],\n",
              "       [ 8,  9, 10, 11],\n",
              "       [ 9, 10, 11, 12],\n",
              "       [10, 11, 12, 13]])"
            ]
          },
          "metadata": {
            "tags": []
          },
          "execution_count": 117
        }
      ]
    },
    {
      "cell_type": "code",
      "metadata": {
        "colab": {
          "base_uri": "https://localhost:8080/"
        },
        "id": "conservative-prayer",
        "outputId": "32eefe09-5a93-4a8a-c8b8-eecb2d8b3d5e"
      },
      "source": [
        "O = np.arange(1,5).reshape(2,2)\n",
        "O"
      ],
      "id": "conservative-prayer",
      "execution_count": 118,
      "outputs": [
        {
          "output_type": "execute_result",
          "data": {
            "text/plain": [
              "array([[1, 2],\n",
              "       [3, 4]])"
            ]
          },
          "metadata": {
            "tags": []
          },
          "execution_count": 118
        }
      ]
    },
    {
      "cell_type": "code",
      "metadata": {
        "colab": {
          "base_uri": "https://localhost:8080/",
          "height": 174
        },
        "id": "empirical-attendance",
        "outputId": "daf64bc8-6c30-4479-c436-1a0b24930470"
      },
      "source": [
        "O+P"
      ],
      "id": "empirical-attendance",
      "execution_count": 119,
      "outputs": [
        {
          "output_type": "error",
          "ename": "ValueError",
          "evalue": "ignored",
          "traceback": [
            "\u001b[0;31m---------------------------------------------------------------------------\u001b[0m",
            "\u001b[0;31mValueError\u001b[0m                                Traceback (most recent call last)",
            "\u001b[0;32m<ipython-input-119-9293319b8b07>\u001b[0m in \u001b[0;36m<module>\u001b[0;34m()\u001b[0m\n\u001b[0;32m----> 1\u001b[0;31m \u001b[0mO\u001b[0m\u001b[0;34m+\u001b[0m\u001b[0mP\u001b[0m\u001b[0;34m\u001b[0m\u001b[0;34m\u001b[0m\u001b[0m\n\u001b[0m",
            "\u001b[0;31mValueError\u001b[0m: operands could not be broadcast together with shapes (2,2) (4,) "
          ]
        }
      ]
    },
    {
      "cell_type": "markdown",
      "metadata": {
        "id": "opponent-replica"
      },
      "source": [
        "Why we obtain the last error? why O+P didn't work?"
      ],
      "id": "opponent-replica"
    },
    {
      "cell_type": "markdown",
      "metadata": {
        "id": "qualified-player"
      },
      "source": [
        "## Differences between pandas and numpy (series and arrays)"
      ],
      "id": "qualified-player"
    },
    {
      "cell_type": "markdown",
      "metadata": {
        "id": "guided-bibliography"
      },
      "source": [
        "Create three arrays (D1, D2, D3) of shape (100,1) with random integer numbers. The first array will have random numbers between (20 to 150), the second between (1 to 10) and the last one from (100000 to 800000) \n",
        "\n",
        "Create one single array D of shape (100,3) by concatenating all the last 3 arrays. \n",
        "\n",
        "Then, store this information into a dataframe sales_df where the three columns are renamed as surface, nb_rooms, SalePrice. You should obtain something like this\n",
        "\n",
        "![image-2.png](attachment:image-2.png)"
      ],
      "id": "guided-bibliography"
    },
    {
      "cell_type": "code",
      "metadata": {
        "id": "rental-boring"
      },
      "source": [
        "import pandas\n"
      ],
      "id": "rental-boring",
      "execution_count": 133,
      "outputs": []
    },
    {
      "cell_type": "code",
      "metadata": {
        "colab": {
          "base_uri": "https://localhost:8080/"
        },
        "id": "generic-immunology",
        "outputId": "3e8ee65f-07c7-47f2-fcda-a1952bc40df4"
      },
      "source": [
        "D1=np.random.randint(20,151,size=(100,1))\n",
        "D1"
      ],
      "id": "generic-immunology",
      "execution_count": 143,
      "outputs": [
        {
          "output_type": "execute_result",
          "data": {
            "text/plain": [
              "array([[ 59],\n",
              "       [ 85],\n",
              "       [ 35],\n",
              "       [ 51],\n",
              "       [148],\n",
              "       [ 45],\n",
              "       [ 35],\n",
              "       [109],\n",
              "       [ 43],\n",
              "       [135],\n",
              "       [142],\n",
              "       [ 86],\n",
              "       [ 50],\n",
              "       [139],\n",
              "       [ 28],\n",
              "       [ 43],\n",
              "       [ 77],\n",
              "       [ 60],\n",
              "       [ 99],\n",
              "       [ 85],\n",
              "       [ 59],\n",
              "       [ 48],\n",
              "       [ 82],\n",
              "       [ 55],\n",
              "       [ 41],\n",
              "       [ 30],\n",
              "       [107],\n",
              "       [ 51],\n",
              "       [ 58],\n",
              "       [ 41],\n",
              "       [ 89],\n",
              "       [ 56],\n",
              "       [ 77],\n",
              "       [ 20],\n",
              "       [ 32],\n",
              "       [ 49],\n",
              "       [ 97],\n",
              "       [ 95],\n",
              "       [132],\n",
              "       [ 61],\n",
              "       [131],\n",
              "       [ 74],\n",
              "       [ 73],\n",
              "       [ 88],\n",
              "       [ 71],\n",
              "       [ 98],\n",
              "       [ 60],\n",
              "       [116],\n",
              "       [ 74],\n",
              "       [ 44],\n",
              "       [ 44],\n",
              "       [ 85],\n",
              "       [119],\n",
              "       [ 35],\n",
              "       [126],\n",
              "       [ 28],\n",
              "       [122],\n",
              "       [ 78],\n",
              "       [ 84],\n",
              "       [104],\n",
              "       [ 97],\n",
              "       [109],\n",
              "       [140],\n",
              "       [ 45],\n",
              "       [ 75],\n",
              "       [130],\n",
              "       [128],\n",
              "       [ 61],\n",
              "       [ 32],\n",
              "       [ 80],\n",
              "       [101],\n",
              "       [118],\n",
              "       [ 57],\n",
              "       [ 31],\n",
              "       [ 92],\n",
              "       [ 61],\n",
              "       [ 60],\n",
              "       [ 67],\n",
              "       [ 71],\n",
              "       [ 54],\n",
              "       [135],\n",
              "       [ 81],\n",
              "       [ 52],\n",
              "       [ 87],\n",
              "       [137],\n",
              "       [ 28],\n",
              "       [ 24],\n",
              "       [112],\n",
              "       [140],\n",
              "       [140],\n",
              "       [ 27],\n",
              "       [ 38],\n",
              "       [ 77],\n",
              "       [144],\n",
              "       [ 23],\n",
              "       [ 35],\n",
              "       [131],\n",
              "       [ 61],\n",
              "       [ 67],\n",
              "       [148]])"
            ]
          },
          "metadata": {
            "tags": []
          },
          "execution_count": 143
        }
      ]
    },
    {
      "cell_type": "code",
      "metadata": {
        "colab": {
          "base_uri": "https://localhost:8080/"
        },
        "id": "UvXO-tomlMeV",
        "outputId": "49a2452b-2908-47cc-de17-33cd9c952bcb"
      },
      "source": [
        "D2=np.random.randint(1,11,size=(100,1))\n",
        "D2"
      ],
      "id": "UvXO-tomlMeV",
      "execution_count": 142,
      "outputs": [
        {
          "output_type": "execute_result",
          "data": {
            "text/plain": [
              "array([[ 8],\n",
              "       [ 2],\n",
              "       [ 3],\n",
              "       [ 6],\n",
              "       [ 4],\n",
              "       [ 5],\n",
              "       [ 9],\n",
              "       [ 7],\n",
              "       [ 8],\n",
              "       [ 3],\n",
              "       [ 9],\n",
              "       [ 1],\n",
              "       [ 4],\n",
              "       [10],\n",
              "       [ 6],\n",
              "       [ 4],\n",
              "       [ 7],\n",
              "       [ 7],\n",
              "       [10],\n",
              "       [ 2],\n",
              "       [10],\n",
              "       [ 1],\n",
              "       [ 7],\n",
              "       [ 6],\n",
              "       [ 2],\n",
              "       [ 1],\n",
              "       [ 4],\n",
              "       [ 3],\n",
              "       [ 6],\n",
              "       [ 6],\n",
              "       [ 5],\n",
              "       [ 7],\n",
              "       [10],\n",
              "       [ 2],\n",
              "       [ 9],\n",
              "       [ 5],\n",
              "       [10],\n",
              "       [ 2],\n",
              "       [ 8],\n",
              "       [ 5],\n",
              "       [ 6],\n",
              "       [ 1],\n",
              "       [ 6],\n",
              "       [ 3],\n",
              "       [ 3],\n",
              "       [ 5],\n",
              "       [ 1],\n",
              "       [ 3],\n",
              "       [ 2],\n",
              "       [10],\n",
              "       [ 1],\n",
              "       [ 3],\n",
              "       [ 3],\n",
              "       [ 5],\n",
              "       [10],\n",
              "       [ 3],\n",
              "       [ 1],\n",
              "       [10],\n",
              "       [ 8],\n",
              "       [ 3],\n",
              "       [ 8],\n",
              "       [ 9],\n",
              "       [ 1],\n",
              "       [ 6],\n",
              "       [ 1],\n",
              "       [ 8],\n",
              "       [ 7],\n",
              "       [ 8],\n",
              "       [ 8],\n",
              "       [ 8],\n",
              "       [ 1],\n",
              "       [ 2],\n",
              "       [ 1],\n",
              "       [ 9],\n",
              "       [ 5],\n",
              "       [ 3],\n",
              "       [ 5],\n",
              "       [ 4],\n",
              "       [ 1],\n",
              "       [ 2],\n",
              "       [10],\n",
              "       [ 6],\n",
              "       [ 2],\n",
              "       [ 9],\n",
              "       [ 1],\n",
              "       [ 2],\n",
              "       [ 3],\n",
              "       [ 5],\n",
              "       [ 5],\n",
              "       [ 8],\n",
              "       [ 2],\n",
              "       [10],\n",
              "       [ 8],\n",
              "       [ 4],\n",
              "       [ 2],\n",
              "       [10],\n",
              "       [ 4],\n",
              "       [ 7],\n",
              "       [ 7],\n",
              "       [ 3]])"
            ]
          },
          "metadata": {
            "tags": []
          },
          "execution_count": 142
        }
      ]
    },
    {
      "cell_type": "code",
      "metadata": {
        "colab": {
          "base_uri": "https://localhost:8080/"
        },
        "id": "qWZO7YA1laOn",
        "outputId": "748dd3ef-19ae-4d31-c5bf-0d4c0a6f97cb"
      },
      "source": [
        "D3=np.random.randint(100000,800000,size=(100,1))\n",
        "D3"
      ],
      "id": "qWZO7YA1laOn",
      "execution_count": 144,
      "outputs": [
        {
          "output_type": "execute_result",
          "data": {
            "text/plain": [
              "array([[684223],\n",
              "       [338984],\n",
              "       [518816],\n",
              "       [584929],\n",
              "       [607620],\n",
              "       [389974],\n",
              "       [133427],\n",
              "       [709727],\n",
              "       [178907],\n",
              "       [318000],\n",
              "       [371385],\n",
              "       [618323],\n",
              "       [229979],\n",
              "       [697935],\n",
              "       [319089],\n",
              "       [725838],\n",
              "       [482672],\n",
              "       [204358],\n",
              "       [771632],\n",
              "       [534576],\n",
              "       [369953],\n",
              "       [146496],\n",
              "       [391466],\n",
              "       [326874],\n",
              "       [777073],\n",
              "       [534382],\n",
              "       [280228],\n",
              "       [706335],\n",
              "       [553058],\n",
              "       [169771],\n",
              "       [660623],\n",
              "       [498871],\n",
              "       [158350],\n",
              "       [106472],\n",
              "       [203210],\n",
              "       [440721],\n",
              "       [516901],\n",
              "       [105063],\n",
              "       [558251],\n",
              "       [670196],\n",
              "       [370483],\n",
              "       [307870],\n",
              "       [794522],\n",
              "       [648367],\n",
              "       [639189],\n",
              "       [327528],\n",
              "       [244344],\n",
              "       [472553],\n",
              "       [430710],\n",
              "       [675512],\n",
              "       [225213],\n",
              "       [667802],\n",
              "       [324139],\n",
              "       [701854],\n",
              "       [687609],\n",
              "       [725246],\n",
              "       [727632],\n",
              "       [403005],\n",
              "       [389014],\n",
              "       [413851],\n",
              "       [238660],\n",
              "       [425307],\n",
              "       [178365],\n",
              "       [510500],\n",
              "       [349106],\n",
              "       [307316],\n",
              "       [643185],\n",
              "       [690557],\n",
              "       [118706],\n",
              "       [571639],\n",
              "       [634916],\n",
              "       [163441],\n",
              "       [162879],\n",
              "       [611831],\n",
              "       [273999],\n",
              "       [755251],\n",
              "       [782639],\n",
              "       [143746],\n",
              "       [592708],\n",
              "       [502161],\n",
              "       [370569],\n",
              "       [185315],\n",
              "       [153198],\n",
              "       [165055],\n",
              "       [214855],\n",
              "       [552371],\n",
              "       [180799],\n",
              "       [164402],\n",
              "       [786295],\n",
              "       [798919],\n",
              "       [704492],\n",
              "       [330625],\n",
              "       [203116],\n",
              "       [791086],\n",
              "       [496636],\n",
              "       [538128],\n",
              "       [332291],\n",
              "       [248956],\n",
              "       [660476],\n",
              "       [364235]])"
            ]
          },
          "metadata": {
            "tags": []
          },
          "execution_count": 144
        }
      ]
    },
    {
      "cell_type": "code",
      "metadata": {
        "colab": {
          "base_uri": "https://localhost:8080/"
        },
        "id": "signal-bachelor",
        "outputId": "1314f72f-4ba2-4934-ab0e-1984a3a85371"
      },
      "source": [
        "mydata = np.concatenate((D1, D2, D3),\n",
        "                  axis= 1,\n",
        "                  out= None) \n",
        "mydata\n"
      ],
      "id": "signal-bachelor",
      "execution_count": 151,
      "outputs": [
        {
          "output_type": "execute_result",
          "data": {
            "text/plain": [
              "array([[    59,      8, 684223],\n",
              "       [    85,      2, 338984],\n",
              "       [    35,      3, 518816],\n",
              "       [    51,      6, 584929],\n",
              "       [   148,      4, 607620],\n",
              "       [    45,      5, 389974],\n",
              "       [    35,      9, 133427],\n",
              "       [   109,      7, 709727],\n",
              "       [    43,      8, 178907],\n",
              "       [   135,      3, 318000],\n",
              "       [   142,      9, 371385],\n",
              "       [    86,      1, 618323],\n",
              "       [    50,      4, 229979],\n",
              "       [   139,     10, 697935],\n",
              "       [    28,      6, 319089],\n",
              "       [    43,      4, 725838],\n",
              "       [    77,      7, 482672],\n",
              "       [    60,      7, 204358],\n",
              "       [    99,     10, 771632],\n",
              "       [    85,      2, 534576],\n",
              "       [    59,     10, 369953],\n",
              "       [    48,      1, 146496],\n",
              "       [    82,      7, 391466],\n",
              "       [    55,      6, 326874],\n",
              "       [    41,      2, 777073],\n",
              "       [    30,      1, 534382],\n",
              "       [   107,      4, 280228],\n",
              "       [    51,      3, 706335],\n",
              "       [    58,      6, 553058],\n",
              "       [    41,      6, 169771],\n",
              "       [    89,      5, 660623],\n",
              "       [    56,      7, 498871],\n",
              "       [    77,     10, 158350],\n",
              "       [    20,      2, 106472],\n",
              "       [    32,      9, 203210],\n",
              "       [    49,      5, 440721],\n",
              "       [    97,     10, 516901],\n",
              "       [    95,      2, 105063],\n",
              "       [   132,      8, 558251],\n",
              "       [    61,      5, 670196],\n",
              "       [   131,      6, 370483],\n",
              "       [    74,      1, 307870],\n",
              "       [    73,      6, 794522],\n",
              "       [    88,      3, 648367],\n",
              "       [    71,      3, 639189],\n",
              "       [    98,      5, 327528],\n",
              "       [    60,      1, 244344],\n",
              "       [   116,      3, 472553],\n",
              "       [    74,      2, 430710],\n",
              "       [    44,     10, 675512],\n",
              "       [    44,      1, 225213],\n",
              "       [    85,      3, 667802],\n",
              "       [   119,      3, 324139],\n",
              "       [    35,      5, 701854],\n",
              "       [   126,     10, 687609],\n",
              "       [    28,      3, 725246],\n",
              "       [   122,      1, 727632],\n",
              "       [    78,     10, 403005],\n",
              "       [    84,      8, 389014],\n",
              "       [   104,      3, 413851],\n",
              "       [    97,      8, 238660],\n",
              "       [   109,      9, 425307],\n",
              "       [   140,      1, 178365],\n",
              "       [    45,      6, 510500],\n",
              "       [    75,      1, 349106],\n",
              "       [   130,      8, 307316],\n",
              "       [   128,      7, 643185],\n",
              "       [    61,      8, 690557],\n",
              "       [    32,      8, 118706],\n",
              "       [    80,      8, 571639],\n",
              "       [   101,      1, 634916],\n",
              "       [   118,      2, 163441],\n",
              "       [    57,      1, 162879],\n",
              "       [    31,      9, 611831],\n",
              "       [    92,      5, 273999],\n",
              "       [    61,      3, 755251],\n",
              "       [    60,      5, 782639],\n",
              "       [    67,      4, 143746],\n",
              "       [    71,      1, 592708],\n",
              "       [    54,      2, 502161],\n",
              "       [   135,     10, 370569],\n",
              "       [    81,      6, 185315],\n",
              "       [    52,      2, 153198],\n",
              "       [    87,      9, 165055],\n",
              "       [   137,      1, 214855],\n",
              "       [    28,      2, 552371],\n",
              "       [    24,      3, 180799],\n",
              "       [   112,      5, 164402],\n",
              "       [   140,      5, 786295],\n",
              "       [   140,      8, 798919],\n",
              "       [    27,      2, 704492],\n",
              "       [    38,     10, 330625],\n",
              "       [    77,      8, 203116],\n",
              "       [   144,      4, 791086],\n",
              "       [    23,      2, 496636],\n",
              "       [    35,     10, 538128],\n",
              "       [   131,      4, 332291],\n",
              "       [    61,      7, 248956],\n",
              "       [    67,      7, 660476],\n",
              "       [   148,      3, 364235]])"
            ]
          },
          "metadata": {
            "tags": []
          },
          "execution_count": 151
        }
      ]
    },
    {
      "cell_type": "code",
      "metadata": {
        "id": "BKOSERRGnhom"
      },
      "source": [
        "import pandas as pd"
      ],
      "id": "BKOSERRGnhom",
      "execution_count": 153,
      "outputs": []
    },
    {
      "cell_type": "code",
      "metadata": {
        "scrolled": true,
        "colab": {
          "base_uri": "https://localhost:8080/",
          "height": 423
        },
        "id": "thick-rover",
        "outputId": "1bd6b2e8-b151-4855-d26c-40d2a56e6e5b"
      },
      "source": [
        "df_sales = pd.DataFrame(mydata, columns=['surface','nb_rooms','Sale Price' ])\n",
        "df_sales\n"
      ],
      "id": "thick-rover",
      "execution_count": 155,
      "outputs": [
        {
          "output_type": "execute_result",
          "data": {
            "text/html": [
              "<div>\n",
              "<style scoped>\n",
              "    .dataframe tbody tr th:only-of-type {\n",
              "        vertical-align: middle;\n",
              "    }\n",
              "\n",
              "    .dataframe tbody tr th {\n",
              "        vertical-align: top;\n",
              "    }\n",
              "\n",
              "    .dataframe thead th {\n",
              "        text-align: right;\n",
              "    }\n",
              "</style>\n",
              "<table border=\"1\" class=\"dataframe\">\n",
              "  <thead>\n",
              "    <tr style=\"text-align: right;\">\n",
              "      <th></th>\n",
              "      <th>surface</th>\n",
              "      <th>nb_rooms</th>\n",
              "      <th>Sale Price</th>\n",
              "    </tr>\n",
              "  </thead>\n",
              "  <tbody>\n",
              "    <tr>\n",
              "      <th>0</th>\n",
              "      <td>59</td>\n",
              "      <td>8</td>\n",
              "      <td>684223</td>\n",
              "    </tr>\n",
              "    <tr>\n",
              "      <th>1</th>\n",
              "      <td>85</td>\n",
              "      <td>2</td>\n",
              "      <td>338984</td>\n",
              "    </tr>\n",
              "    <tr>\n",
              "      <th>2</th>\n",
              "      <td>35</td>\n",
              "      <td>3</td>\n",
              "      <td>518816</td>\n",
              "    </tr>\n",
              "    <tr>\n",
              "      <th>3</th>\n",
              "      <td>51</td>\n",
              "      <td>6</td>\n",
              "      <td>584929</td>\n",
              "    </tr>\n",
              "    <tr>\n",
              "      <th>4</th>\n",
              "      <td>148</td>\n",
              "      <td>4</td>\n",
              "      <td>607620</td>\n",
              "    </tr>\n",
              "    <tr>\n",
              "      <th>...</th>\n",
              "      <td>...</td>\n",
              "      <td>...</td>\n",
              "      <td>...</td>\n",
              "    </tr>\n",
              "    <tr>\n",
              "      <th>95</th>\n",
              "      <td>35</td>\n",
              "      <td>10</td>\n",
              "      <td>538128</td>\n",
              "    </tr>\n",
              "    <tr>\n",
              "      <th>96</th>\n",
              "      <td>131</td>\n",
              "      <td>4</td>\n",
              "      <td>332291</td>\n",
              "    </tr>\n",
              "    <tr>\n",
              "      <th>97</th>\n",
              "      <td>61</td>\n",
              "      <td>7</td>\n",
              "      <td>248956</td>\n",
              "    </tr>\n",
              "    <tr>\n",
              "      <th>98</th>\n",
              "      <td>67</td>\n",
              "      <td>7</td>\n",
              "      <td>660476</td>\n",
              "    </tr>\n",
              "    <tr>\n",
              "      <th>99</th>\n",
              "      <td>148</td>\n",
              "      <td>3</td>\n",
              "      <td>364235</td>\n",
              "    </tr>\n",
              "  </tbody>\n",
              "</table>\n",
              "<p>100 rows × 3 columns</p>\n",
              "</div>"
            ],
            "text/plain": [
              "    surface  nb_rooms  Sale Price\n",
              "0        59         8      684223\n",
              "1        85         2      338984\n",
              "2        35         3      518816\n",
              "3        51         6      584929\n",
              "4       148         4      607620\n",
              "..      ...       ...         ...\n",
              "95       35        10      538128\n",
              "96      131         4      332291\n",
              "97       61         7      248956\n",
              "98       67         7      660476\n",
              "99      148         3      364235\n",
              "\n",
              "[100 rows x 3 columns]"
            ]
          },
          "metadata": {
            "tags": []
          },
          "execution_count": 155
        }
      ]
    },
    {
      "cell_type": "markdown",
      "metadata": {
        "id": "express-office"
      },
      "source": [
        "use scatter plot to observe SalePrice in fonction of surface"
      ],
      "id": "express-office"
    },
    {
      "cell_type": "code",
      "metadata": {
        "id": "empty-envelope"
      },
      "source": [
        "import seaborn as sn"
      ],
      "id": "empty-envelope",
      "execution_count": 156,
      "outputs": []
    },
    {
      "cell_type": "code",
      "metadata": {
        "colab": {
          "base_uri": "https://localhost:8080/",
          "height": 279
        },
        "id": "aAh4MOsVppjN",
        "outputId": "4423ae06-733e-4441-cd63-23b5418bed84"
      },
      "source": [
        "visu1 = sn.scatterplot(data=df_sales, x='Sale Price', y='surface', color='pink')"
      ],
      "id": "aAh4MOsVppjN",
      "execution_count": 161,
      "outputs": [
        {
          "output_type": "display_data",
          "data": {
            "image/png": "[encoded data removed]",
            "text/plain": [
              "<Figure size 432x288 with 1 Axes>"
            ]
          },
          "metadata": {
            "tags": [],
            "needs_background": "light"
          }
        }
      ]
    },
    {
      "cell_type": "markdown",
      "metadata": {
        "id": "organized-crawford"
      },
      "source": [
        "In Machine Learning, we would like to create a linear model to predict SalePrice. In this problem, you have 2 features and 1 target. The linear model is composed of parameters (b0,b1,b2) to estimate the SalePrice by following the formula $y' = b0 + b1 * x1 + b2 * x2$ which in matrix representation would be $Y' = X * B$, where B = [b0 b1 b2] and X is the a matrix with the values of the dataframe \n",
        "\n",
        "We are going to calculate the prediction manually : \n",
        "\n",
        "1- take the data from column sales_df['SalePrice'] and store it into an array called y\n",
        "\n",
        "2- take data from columns 'surface' and 'nb_rooms' and store it into an array called X\n",
        "\n",
        "3- create an array of ones of shape (100,1) and concatenate X. replace X with the new array, this should have the shape (3,1) and should look like this\n",
        "\n",
        "![image.png](attachment:image.png)\n",
        "\n",
        "4- create the array of parameters B = [100000, 5000, 1000]\n",
        "\n",
        "5- calculate the predictions using X and B, store in variable y_hat\n",
        "\n",
        "6 - Plot the linear model with the dataset. You should obtain this graph: \n",
        "\n",
        "![image-2.png](attachment:image-2.png)\n",
        "\n",
        "7 - calculate the L1 and L2 errors between y and y_hat"
      ],
      "id": "organized-crawford"
    },
    {
      "cell_type": "code",
      "metadata": {
        "colab": {
          "base_uri": "https://localhost:8080/"
        },
        "id": "compact-polyester",
        "outputId": "d97eb8b9-852f-4622-bdfc-a80bf19122f1"
      },
      "source": [
        "df_saleprice = pd.DataFrame(df_sales['Sale Price'])\n",
        "y = df_saleprice.to_numpy()\n",
        "y\n"
      ],
      "id": "compact-polyester",
      "execution_count": 171,
      "outputs": [
        {
          "output_type": "execute_result",
          "data": {
            "text/plain": [
              "array([[684223],\n",
              "       [338984],\n",
              "       [518816],\n",
              "       [584929],\n",
              "       [607620],\n",
              "       [389974],\n",
              "       [133427],\n",
              "       [709727],\n",
              "       [178907],\n",
              "       [318000],\n",
              "       [371385],\n",
              "       [618323],\n",
              "       [229979],\n",
              "       [697935],\n",
              "       [319089],\n",
              "       [725838],\n",
              "       [482672],\n",
              "       [204358],\n",
              "       [771632],\n",
              "       [534576],\n",
              "       [369953],\n",
              "       [146496],\n",
              "       [391466],\n",
              "       [326874],\n",
              "       [777073],\n",
              "       [534382],\n",
              "       [280228],\n",
              "       [706335],\n",
              "       [553058],\n",
              "       [169771],\n",
              "       [660623],\n",
              "       [498871],\n",
              "       [158350],\n",
              "       [106472],\n",
              "       [203210],\n",
              "       [440721],\n",
              "       [516901],\n",
              "       [105063],\n",
              "       [558251],\n",
              "       [670196],\n",
              "       [370483],\n",
              "       [307870],\n",
              "       [794522],\n",
              "       [648367],\n",
              "       [639189],\n",
              "       [327528],\n",
              "       [244344],\n",
              "       [472553],\n",
              "       [430710],\n",
              "       [675512],\n",
              "       [225213],\n",
              "       [667802],\n",
              "       [324139],\n",
              "       [701854],\n",
              "       [687609],\n",
              "       [725246],\n",
              "       [727632],\n",
              "       [403005],\n",
              "       [389014],\n",
              "       [413851],\n",
              "       [238660],\n",
              "       [425307],\n",
              "       [178365],\n",
              "       [510500],\n",
              "       [349106],\n",
              "       [307316],\n",
              "       [643185],\n",
              "       [690557],\n",
              "       [118706],\n",
              "       [571639],\n",
              "       [634916],\n",
              "       [163441],\n",
              "       [162879],\n",
              "       [611831],\n",
              "       [273999],\n",
              "       [755251],\n",
              "       [782639],\n",
              "       [143746],\n",
              "       [592708],\n",
              "       [502161],\n",
              "       [370569],\n",
              "       [185315],\n",
              "       [153198],\n",
              "       [165055],\n",
              "       [214855],\n",
              "       [552371],\n",
              "       [180799],\n",
              "       [164402],\n",
              "       [786295],\n",
              "       [798919],\n",
              "       [704492],\n",
              "       [330625],\n",
              "       [203116],\n",
              "       [791086],\n",
              "       [496636],\n",
              "       [538128],\n",
              "       [332291],\n",
              "       [248956],\n",
              "       [660476],\n",
              "       [364235]])"
            ]
          },
          "metadata": {
            "tags": []
          },
          "execution_count": 171
        }
      ]
    },
    {
      "cell_type": "code",
      "metadata": {
        "colab": {
          "base_uri": "https://localhost:8080/"
        },
        "id": "demonstrated-cocktail",
        "outputId": "9598847d-8c18-4ff4-9563-945c684b4db8"
      },
      "source": [
        "df_x = pd.DataFrame(df_sales, columns=['surface','nb_rooms'])\n",
        "x = df_x.to_numpy()\n",
        "x\n",
        "\n"
      ],
      "id": "demonstrated-cocktail",
      "execution_count": 176,
      "outputs": [
        {
          "output_type": "execute_result",
          "data": {
            "text/plain": [
              "array([[ 59,   8],\n",
              "       [ 85,   2],\n",
              "       [ 35,   3],\n",
              "       [ 51,   6],\n",
              "       [148,   4],\n",
              "       [ 45,   5],\n",
              "       [ 35,   9],\n",
              "       [109,   7],\n",
              "       [ 43,   8],\n",
              "       [135,   3],\n",
              "       [142,   9],\n",
              "       [ 86,   1],\n",
              "       [ 50,   4],\n",
              "       [139,  10],\n",
              "       [ 28,   6],\n",
              "       [ 43,   4],\n",
              "       [ 77,   7],\n",
              "       [ 60,   7],\n",
              "       [ 99,  10],\n",
              "       [ 85,   2],\n",
              "       [ 59,  10],\n",
              "       [ 48,   1],\n",
              "       [ 82,   7],\n",
              "       [ 55,   6],\n",
              "       [ 41,   2],\n",
              "       [ 30,   1],\n",
              "       [107,   4],\n",
              "       [ 51,   3],\n",
              "       [ 58,   6],\n",
              "       [ 41,   6],\n",
              "       [ 89,   5],\n",
              "       [ 56,   7],\n",
              "       [ 77,  10],\n",
              "       [ 20,   2],\n",
              "       [ 32,   9],\n",
              "       [ 49,   5],\n",
              "       [ 97,  10],\n",
              "       [ 95,   2],\n",
              "       [132,   8],\n",
              "       [ 61,   5],\n",
              "       [131,   6],\n",
              "       [ 74,   1],\n",
              "       [ 73,   6],\n",
              "       [ 88,   3],\n",
              "       [ 71,   3],\n",
              "       [ 98,   5],\n",
              "       [ 60,   1],\n",
              "       [116,   3],\n",
              "       [ 74,   2],\n",
              "       [ 44,  10],\n",
              "       [ 44,   1],\n",
              "       [ 85,   3],\n",
              "       [119,   3],\n",
              "       [ 35,   5],\n",
              "       [126,  10],\n",
              "       [ 28,   3],\n",
              "       [122,   1],\n",
              "       [ 78,  10],\n",
              "       [ 84,   8],\n",
              "       [104,   3],\n",
              "       [ 97,   8],\n",
              "       [109,   9],\n",
              "       [140,   1],\n",
              "       [ 45,   6],\n",
              "       [ 75,   1],\n",
              "       [130,   8],\n",
              "       [128,   7],\n",
              "       [ 61,   8],\n",
              "       [ 32,   8],\n",
              "       [ 80,   8],\n",
              "       [101,   1],\n",
              "       [118,   2],\n",
              "       [ 57,   1],\n",
              "       [ 31,   9],\n",
              "       [ 92,   5],\n",
              "       [ 61,   3],\n",
              "       [ 60,   5],\n",
              "       [ 67,   4],\n",
              "       [ 71,   1],\n",
              "       [ 54,   2],\n",
              "       [135,  10],\n",
              "       [ 81,   6],\n",
              "       [ 52,   2],\n",
              "       [ 87,   9],\n",
              "       [137,   1],\n",
              "       [ 28,   2],\n",
              "       [ 24,   3],\n",
              "       [112,   5],\n",
              "       [140,   5],\n",
              "       [140,   8],\n",
              "       [ 27,   2],\n",
              "       [ 38,  10],\n",
              "       [ 77,   8],\n",
              "       [144,   4],\n",
              "       [ 23,   2],\n",
              "       [ 35,  10],\n",
              "       [131,   4],\n",
              "       [ 61,   7],\n",
              "       [ 67,   7],\n",
              "       [148,   3]])"
            ]
          },
          "metadata": {
            "tags": []
          },
          "execution_count": 176
        }
      ]
    },
    {
      "cell_type": "code",
      "metadata": {
        "id": "biblical-germany"
      },
      "source": [
        "# create vector ones\n"
      ],
      "id": "biblical-germany",
      "execution_count": 126,
      "outputs": []
    },
    {
      "cell_type": "code",
      "metadata": {
        "id": "sweet-tooth"
      },
      "source": [
        "# modify vector X\n"
      ],
      "id": "sweet-tooth",
      "execution_count": 127,
      "outputs": []
    },
    {
      "cell_type": "code",
      "metadata": {
        "id": "loaded-champagne"
      },
      "source": [
        "# create array with parameters\n"
      ],
      "id": "loaded-champagne",
      "execution_count": 128,
      "outputs": []
    },
    {
      "cell_type": "code",
      "metadata": {
        "id": "blond-malta"
      },
      "source": [
        "# calculate predictions\n"
      ],
      "id": "blond-malta",
      "execution_count": 129,
      "outputs": []
    },
    {
      "cell_type": "code",
      "metadata": {
        "id": "announced-liabilities"
      },
      "source": [
        "# Plot!\n"
      ],
      "id": "announced-liabilities",
      "execution_count": 130,
      "outputs": []
    },
    {
      "cell_type": "code",
      "metadata": {
        "id": "limited-disclosure"
      },
      "source": [
        "# Calculate L1 and L2 error between reality (y) and predictions (y_hat)"
      ],
      "id": "limited-disclosure",
      "execution_count": 131,
      "outputs": []
    },
    {
      "cell_type": "code",
      "metadata": {
        "id": "minimal-spirituality"
      },
      "source": [
        ""
      ],
      "id": "minimal-spirituality",
      "execution_count": 131,
      "outputs": []
    }
  ]
}