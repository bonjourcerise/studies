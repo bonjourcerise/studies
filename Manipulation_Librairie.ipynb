{
 "cells": [
  {
   "cell_type": "markdown",
   "metadata": {
    "id": "tRY2zJrBmxSR"
   },
   "source": [
    "# Manipulation avec Pandas"
   ]
  },
  {
   "cell_type": "markdown",
   "metadata": {},
   "source": [
    "★ Création du dataframe (1 ligne par client)\n",
    "★ Centrer et réduire les données\n",
    "★ Visualition des données réduites sur la colonne \"âge\"\n",
    "★ Matrice de corrélation\n",
    "★ Elbow chart\n",
    "★ Clustering\n",
    "★ Silhouette score ★ Visualisation"
   ]
  },
  {
   "cell_type": "markdown",
   "metadata": {
    "id": "g8YGWE9RmxSV"
   },
   "source": [
    "## Import des librairies"
   ]
  },
  {
   "cell_type": "code",
   "execution_count": null,
   "metadata": {},
   "outputs": [],
   "source": []
  },
  {
   "cell_type": "code",
   "execution_count": 67,
   "metadata": {
    "id": "JAOqFKwrmxSW"
   },
   "outputs": [],
   "source": [
    "import pandas as pd\n",
    "import numpy as np\n",
    "import datetime\n",
    "import time\n",
    "from sklearn.cluster import KMeans\n",
    "import matplotlib.pyplot as plt\n",
    "import seaborn as sns\n",
    "%matplotlib inline "
   ]
  },
  {
   "cell_type": "code",
   "execution_count": 82,
   "metadata": {
    "id": "ErwZxkHFmxSW",
    "outputId": "601c745c-a0c4-46c6-8dc8-0e8297962471"
   },
   "outputs": [],
   "source": [
    "customers=pd.read_csv(\"customers.csv\")"
   ]
  },
  {
   "cell_type": "code",
   "execution_count": 83,
   "metadata": {
    "id": "cpxfaw0LmxSY",
    "outputId": "f46a9ec5-608b-4cec-f849-ddc53cf3a9e2"
   },
   "outputs": [],
   "source": [
    "products=pd.read_csv(\"products.csv\")"
   ]
  },
  {
   "cell_type": "code",
   "execution_count": 84,
   "metadata": {
    "id": "tJKGEwr4mxSY",
    "outputId": "acf28bc5-28ac-42bf-f625-cf70259eac8d"
   },
   "outputs": [],
   "source": [
    "transactions=pd.read_csv(\"transactions.csv\")"
   ]
  },
  {
   "cell_type": "code",
   "execution_count": 85,
   "metadata": {
    "id": "w6WB46Y-mxSZ",
    "outputId": "9f21fc92-d688-41da-96b5-ee99a80c6565"
   },
   "outputs": [],
   "source": [
    "data_inter=customers.merge(transactions)"
   ]
  },
  {
   "cell_type": "code",
   "execution_count": 86,
   "metadata": {
    "id": "Ow_E7EGGmxSZ",
    "outputId": "ea298059-4890-433b-d306-d9c0b2c13634"
   },
   "outputs": [],
   "source": [
    "data = data_inter.merge(products)\n",
    "data['age'] = 2022 - data.birth"
   ]
  },
  {
   "cell_type": "code",
   "execution_count": 87,
   "metadata": {
    "id": "OZhcgGpymxSa",
    "outputId": "2a9be2dc-827e-4c1b-af2f-4ab2d80486d2"
   },
   "outputs": [],
   "source": [
    "data = data.drop(data[data.price < 0].index)"
   ]
  },
  {
   "cell_type": "code",
   "execution_count": 88,
   "metadata": {},
   "outputs": [
    {
     "data": {
      "text/html": [
       "<div>\n",
       "<style scoped>\n",
       "    .dataframe tbody tr th:only-of-type {\n",
       "        vertical-align: middle;\n",
       "    }\n",
       "\n",
       "    .dataframe tbody tr th {\n",
       "        vertical-align: top;\n",
       "    }\n",
       "\n",
       "    .dataframe thead th {\n",
       "        text-align: right;\n",
       "    }\n",
       "</style>\n",
       "<table border=\"1\" class=\"dataframe\">\n",
       "  <thead>\n",
       "    <tr style=\"text-align: right;\">\n",
       "      <th></th>\n",
       "      <th>client_id</th>\n",
       "      <th>sex</th>\n",
       "      <th>birth</th>\n",
       "      <th>id_prod</th>\n",
       "      <th>date</th>\n",
       "      <th>session_id</th>\n",
       "      <th>price</th>\n",
       "      <th>categ</th>\n",
       "      <th>age</th>\n",
       "    </tr>\n",
       "  </thead>\n",
       "  <tbody>\n",
       "    <tr>\n",
       "      <th>0</th>\n",
       "      <td>c_4410</td>\n",
       "      <td>f</td>\n",
       "      <td>1967</td>\n",
       "      <td>0_1455</td>\n",
       "      <td>2021-03-22 14:29:25.189266</td>\n",
       "      <td>s_9942</td>\n",
       "      <td>8.99</td>\n",
       "      <td>0</td>\n",
       "      <td>55</td>\n",
       "    </tr>\n",
       "    <tr>\n",
       "      <th>1</th>\n",
       "      <td>c_4389</td>\n",
       "      <td>m</td>\n",
       "      <td>1984</td>\n",
       "      <td>0_1455</td>\n",
       "      <td>2021-07-09 11:16:18.579726</td>\n",
       "      <td>s_59967</td>\n",
       "      <td>8.99</td>\n",
       "      <td>0</td>\n",
       "      <td>38</td>\n",
       "    </tr>\n",
       "    <tr>\n",
       "      <th>2</th>\n",
       "      <td>c_5019</td>\n",
       "      <td>f</td>\n",
       "      <td>1977</td>\n",
       "      <td>0_1455</td>\n",
       "      <td>2022-01-15 00:01:53.456196</td>\n",
       "      <td>s_149928</td>\n",
       "      <td>8.99</td>\n",
       "      <td>0</td>\n",
       "      <td>45</td>\n",
       "    </tr>\n",
       "    <tr>\n",
       "      <th>3</th>\n",
       "      <td>c_7049</td>\n",
       "      <td>f</td>\n",
       "      <td>1987</td>\n",
       "      <td>0_1455</td>\n",
       "      <td>2021-03-04 14:01:38.698752</td>\n",
       "      <td>s_1637</td>\n",
       "      <td>8.99</td>\n",
       "      <td>0</td>\n",
       "      <td>35</td>\n",
       "    </tr>\n",
       "    <tr>\n",
       "      <th>4</th>\n",
       "      <td>c_5110</td>\n",
       "      <td>f</td>\n",
       "      <td>1982</td>\n",
       "      <td>0_1455</td>\n",
       "      <td>2021-09-05 11:48:41.065009</td>\n",
       "      <td>s_85364</td>\n",
       "      <td>8.99</td>\n",
       "      <td>0</td>\n",
       "      <td>40</td>\n",
       "    </tr>\n",
       "    <tr>\n",
       "      <th>...</th>\n",
       "      <td>...</td>\n",
       "      <td>...</td>\n",
       "      <td>...</td>\n",
       "      <td>...</td>\n",
       "      <td>...</td>\n",
       "      <td>...</td>\n",
       "      <td>...</td>\n",
       "      <td>...</td>\n",
       "      <td>...</td>\n",
       "    </tr>\n",
       "    <tr>\n",
       "      <th>336908</th>\n",
       "      <td>c_7135</td>\n",
       "      <td>m</td>\n",
       "      <td>1996</td>\n",
       "      <td>2_99</td>\n",
       "      <td>2021-07-11 20:56:49.820935</td>\n",
       "      <td>s_61009</td>\n",
       "      <td>84.99</td>\n",
       "      <td>2</td>\n",
       "      <td>26</td>\n",
       "    </tr>\n",
       "    <tr>\n",
       "      <th>336909</th>\n",
       "      <td>c_5828</td>\n",
       "      <td>f</td>\n",
       "      <td>1998</td>\n",
       "      <td>2_99</td>\n",
       "      <td>2021-11-21 01:53:46.967570</td>\n",
       "      <td>s_122697</td>\n",
       "      <td>84.99</td>\n",
       "      <td>2</td>\n",
       "      <td>24</td>\n",
       "    </tr>\n",
       "    <tr>\n",
       "      <th>336910</th>\n",
       "      <td>c_8260</td>\n",
       "      <td>m</td>\n",
       "      <td>1991</td>\n",
       "      <td>0_833</td>\n",
       "      <td>2021-09-27 23:22:40.394509</td>\n",
       "      <td>s_96558</td>\n",
       "      <td>2.99</td>\n",
       "      <td>0</td>\n",
       "      <td>31</td>\n",
       "    </tr>\n",
       "    <tr>\n",
       "      <th>336911</th>\n",
       "      <td>c_8138</td>\n",
       "      <td>f</td>\n",
       "      <td>1984</td>\n",
       "      <td>0_394</td>\n",
       "      <td>2021-11-09 09:02:38.299240</td>\n",
       "      <td>s_116986</td>\n",
       "      <td>2.14</td>\n",
       "      <td>0</td>\n",
       "      <td>38</td>\n",
       "    </tr>\n",
       "    <tr>\n",
       "      <th>336912</th>\n",
       "      <td>c_8327</td>\n",
       "      <td>m</td>\n",
       "      <td>1972</td>\n",
       "      <td>0_394</td>\n",
       "      <td>2021-12-28 22:44:11.200205</td>\n",
       "      <td>s_141516</td>\n",
       "      <td>2.14</td>\n",
       "      <td>0</td>\n",
       "      <td>50</td>\n",
       "    </tr>\n",
       "  </tbody>\n",
       "</table>\n",
       "<p>336713 rows × 9 columns</p>\n",
       "</div>"
      ],
      "text/plain": [
       "       client_id sex  birth id_prod                        date session_id  \\\n",
       "0         c_4410   f   1967  0_1455  2021-03-22 14:29:25.189266     s_9942   \n",
       "1         c_4389   m   1984  0_1455  2021-07-09 11:16:18.579726    s_59967   \n",
       "2         c_5019   f   1977  0_1455  2022-01-15 00:01:53.456196   s_149928   \n",
       "3         c_7049   f   1987  0_1455  2021-03-04 14:01:38.698752     s_1637   \n",
       "4         c_5110   f   1982  0_1455  2021-09-05 11:48:41.065009    s_85364   \n",
       "...          ...  ..    ...     ...                         ...        ...   \n",
       "336908    c_7135   m   1996    2_99  2021-07-11 20:56:49.820935    s_61009   \n",
       "336909    c_5828   f   1998    2_99  2021-11-21 01:53:46.967570   s_122697   \n",
       "336910    c_8260   m   1991   0_833  2021-09-27 23:22:40.394509    s_96558   \n",
       "336911    c_8138   f   1984   0_394  2021-11-09 09:02:38.299240   s_116986   \n",
       "336912    c_8327   m   1972   0_394  2021-12-28 22:44:11.200205   s_141516   \n",
       "\n",
       "        price  categ  age  \n",
       "0        8.99      0   55  \n",
       "1        8.99      0   38  \n",
       "2        8.99      0   45  \n",
       "3        8.99      0   35  \n",
       "4        8.99      0   40  \n",
       "...       ...    ...  ...  \n",
       "336908  84.99      2   26  \n",
       "336909  84.99      2   24  \n",
       "336910   2.99      0   31  \n",
       "336911   2.14      0   38  \n",
       "336912   2.14      0   50  \n",
       "\n",
       "[336713 rows x 9 columns]"
      ]
     },
     "execution_count": 88,
     "metadata": {},
     "output_type": "execute_result"
    }
   ],
   "source": [
    "data"
   ]
  },
  {
   "cell_type": "markdown",
   "metadata": {
    "id": "hRJnYIg4mxSa"
   },
   "source": [
    "## Travail à faire"
   ]
  },
  {
   "cell_type": "markdown",
   "metadata": {
    "id": "TrVoRoucmxSb"
   },
   "source": [
    "# Créer le dataset par client"
   ]
  },
  {
   "cell_type": "markdown",
   "metadata": {
    "id": "N_djor_kmxSb"
   },
   "source": [
    "| id_client | Age | Sexe | *Montant | *Fréquence | *Panier Moyen | *Tranche d'Age | *Montant catégorie 0 | *Montant catég 1 | *Montant catég 2 | *Récence |\n",
    "|:---------:|-----|------|----------|------------|---------------|----------------|----------------------|------------------|------------------|---------|\n",
    "|           |     |      |          |            |               |                |                      |                  |                  |         |\n",
    "|           |     |      |          |            |               |                |                      |                  |                  |         |"
   ]
  },
  {
   "cell_type": "markdown",
   "metadata": {
    "id": "qHw6n3iImxSc"
   },
   "source": [
    "Les colonnes précédées d'un \"*\" sont les nouvelles colonnes à calculer.  \n",
    "Montant : montant dépensé total des achats sur la période  \n",
    "Fréquence : nombre d'achat sur la période\n",
    "Récence : nombre de jour depuis le dernier achat (Attention, partir du max(Date) du dataset !)\n",
    "  \n",
    "Vous devez avoir à la fin, une ligne par client.  "
   ]
  },
  {
   "cell_type": "markdown",
   "metadata": {
    "id": "6W03lXjimxSc"
   },
   "source": [
    "**Fonctions nécessaires :**  \n",
    " - [groupby()](https://pandas.pydata.org/pandas-docs/stable/reference/api/pandas.DataFrame.groupby.html)\n",
    " - [pivot_table()](https://pandas.pydata.org/pandas-docs/stable/reference/api/pandas.pivot_table.html) (+ reset_index() )\n",
    " "
   ]
  },
  {
   "cell_type": "markdown",
   "metadata": {},
   "source": [
    "# Panier moyen / Fréquence / Montant"
   ]
  },
  {
   "cell_type": "code",
   "execution_count": 18,
   "metadata": {},
   "outputs": [],
   "source": [
    "#dataframe avec valeurs montant total des achats par client, fréquence et panier moyen\n",
    "mydf=data.groupby(['client_id','age','sex']).agg(Montant=pd.NamedAgg(column='price', aggfunc=sum), Fréquence=pd.NamedAgg(column='price', aggfunc='count'),Panier=pd.NamedAgg(column='price', aggfunc='mean')).reset_index()\n"
   ]
  },
  {
   "cell_type": "markdown",
   "metadata": {},
   "source": [
    "# Catégorie"
   ]
  },
  {
   "cell_type": "code",
   "execution_count": 19,
   "metadata": {},
   "outputs": [],
   "source": [
    "cat= data.groupby(['client_id','categ']).sum().reset_index()"
   ]
  },
  {
   "cell_type": "code",
   "execution_count": 20,
   "metadata": {},
   "outputs": [],
   "source": [
    "#pivot sur les 3 catégories\n",
    "pivot = cat.pivot_table(index='client_id', columns= 'categ', values= 'price',fill_value=0)"
   ]
  },
  {
   "cell_type": "markdown",
   "metadata": {},
   "source": [
    "# Tranche d'âge"
   ]
  },
  {
   "cell_type": "code",
   "execution_count": 21,
   "metadata": {},
   "outputs": [
    {
     "data": {
      "text/plain": [
       "18"
      ]
     },
     "execution_count": 21,
     "metadata": {},
     "output_type": "execute_result"
    }
   ],
   "source": [
    "#âge minimum dans le dataset\n",
    "data['age'].min()"
   ]
  },
  {
   "cell_type": "code",
   "execution_count": 22,
   "metadata": {},
   "outputs": [],
   "source": [
    "#tranche d'âge\n",
    "tranche = data.groupby(data.client_id).max().reset_index()\n",
    "tranche['tranche'] = pd.cut(x=tranche['age'], bins=[18,30,50,70,100])"
   ]
  },
  {
   "cell_type": "markdown",
   "metadata": {},
   "source": [
    "# Recense"
   ]
  },
  {
   "cell_type": "code",
   "execution_count": 23,
   "metadata": {},
   "outputs": [
    {
     "data": {
      "text/plain": [
       "'2022-02-28 23:59:58.040472'"
      ]
     },
     "execution_count": 23,
     "metadata": {},
     "output_type": "execute_result"
    }
   ],
   "source": [
    "#date max dans le dataset\n",
    "data['date'].max()"
   ]
  },
  {
   "cell_type": "code",
   "execution_count": 24,
   "metadata": {},
   "outputs": [],
   "source": [
    "#import bibliothèque\n",
    "from datetime import datetime"
   ]
  },
  {
   "cell_type": "code",
   "execution_count": 25,
   "metadata": {},
   "outputs": [],
   "source": [
    "#recense\n",
    "data['date'] = data['date'].apply(pd.to_datetime)\n",
    "date_format = \"%m/%d/%Y\"\n",
    "a = data['date']\n",
    "b = max(data['date'])\n",
    "data['recence'] = b-a\n",
    "data['recence'] = data['recence'].astype('timedelta64[D]')"
   ]
  },
  {
   "cell_type": "markdown",
   "metadata": {},
   "source": [
    "# Jointures"
   ]
  },
  {
   "cell_type": "code",
   "execution_count": 26,
   "metadata": {},
   "outputs": [],
   "source": [
    "mydata30 = data.groupby('client_id').min()"
   ]
  },
  {
   "cell_type": "code",
   "execution_count": 27,
   "metadata": {},
   "outputs": [],
   "source": [
    "df_merge1 = pd.merge(mydf, pivot, left_on='client_id', right_on='client_id')"
   ]
  },
  {
   "cell_type": "code",
   "execution_count": 28,
   "metadata": {},
   "outputs": [],
   "source": [
    "df_merge2 = pd.merge(df_merge1, mydata30, left_on='client_id', right_on='client_id')"
   ]
  },
  {
   "cell_type": "code",
   "execution_count": 29,
   "metadata": {},
   "outputs": [],
   "source": [
    "df_merge3 = pd.merge(df_merge2, tranche, left_on='client_id', right_on='client_id')"
   ]
  },
  {
   "cell_type": "code",
   "execution_count": 30,
   "metadata": {},
   "outputs": [],
   "source": [
    "df_merge4 = df_merge3.drop(['sex_y', 'sex_x','age_x', 'birth_y', 'id_prod_y', 'date_y', 'session_id_y', 'age_y', 'categ_y', 'price_y', 'birth_x', 'id_prod_x', 'date_x', 'session_id_x', 'price_x', 'categ_x'], axis = 1)"
   ]
  },
  {
   "cell_type": "code",
   "execution_count": 31,
   "metadata": {},
   "outputs": [],
   "source": [
    "# renommer colonnes\n",
    "df_merge4.columns = ['id_client', 'Montant', 'Fréquence', 'Panier Moyen', \"Montant catég 0\", 'Montant catég 1', 'Montant catég 2', 'Recence', 'Sexe', 'Age', 'Tranche age'] "
   ]
  },
  {
   "cell_type": "markdown",
   "metadata": {},
   "source": [
    "# Lecture CSV"
   ]
  },
  {
   "cell_type": "code",
   "execution_count": 32,
   "metadata": {},
   "outputs": [],
   "source": [
    "#lecture CSV du tableau de Marianne\n",
    "dataset = pd.read_csv('dataset.csv')"
   ]
  },
  {
   "cell_type": "markdown",
   "metadata": {
    "id": "fIi6hj5qmxSe"
   },
   "source": [
    "### Centrer/Réduire les données"
   ]
  },
  {
   "cell_type": "markdown",
   "metadata": {
    "id": "4-H9Vm7lmxSe"
   },
   "source": [
    "Petite veille sur le sujet avant de se lancer : https://mrmint.fr/data-preprocessing-feature-scaling-python   \n",
    "Mais n'oubliez pas de faire aussi vos propres recherches."
   ]
  },
  {
   "cell_type": "markdown",
   "metadata": {
    "id": "85TRLVKqmxSe"
   },
   "source": [
    "Créer le dataset avec les données centrées et réduites."
   ]
  },
  {
   "cell_type": "code",
   "execution_count": 33,
   "metadata": {},
   "outputs": [],
   "source": [
    "#import des bibliothèques\n",
    "from sklearn.preprocessing import MinMaxScaler\n",
    "from sklearn.preprocessing import StandardScaler"
   ]
  },
  {
   "cell_type": "markdown",
   "metadata": {},
   "source": [
    "# Dataset avec données centrées et réduites"
   ]
  },
  {
   "cell_type": "code",
   "execution_count": 34,
   "metadata": {},
   "outputs": [],
   "source": [
    "#dataset avec uniquement les valeurs numériques\n",
    "dataset2= pd.DataFrame(dataset, columns =['age', 'montant', 'frequence','panier_moyen', 'montant_categ_0', 'montant_categ_1', 'montant_categ_2', 'recence'])"
   ]
  },
  {
   "cell_type": "code",
   "execution_count": 35,
   "metadata": {},
   "outputs": [
    {
     "data": {
      "text/plain": [
       "<seaborn.axisgrid.FacetGrid at 0x165c653eb50>"
      ]
     },
     "execution_count": 35,
     "metadata": {},
     "output_type": "execute_result"
    },
    {
     "data": {
      "image/png": "[encoded data removed]",
      "text/plain": [
       "<Figure size 360x360 with 1 Axes>"
      ]
     },
     "metadata": {
      "needs_background": "light"
     },
     "output_type": "display_data"
    }
   ],
   "source": [
    "#displot valeur âge\n",
    "sns.displot(dataset2['age'], kde=True, color='pink')"
   ]
  },
  {
   "cell_type": "code",
   "execution_count": 36,
   "metadata": {},
   "outputs": [],
   "source": [
    "#array et reshape valeur âge\n",
    "age_scaler=np.array(dataset2['age'])\n",
    "age_scaler=age_scaler.reshape(8600, 1)"
   ]
  },
  {
   "cell_type": "code",
   "execution_count": 37,
   "metadata": {},
   "outputs": [],
   "source": [
    "#scaler StandardScaler valeur âge\n",
    "scaler = StandardScaler()\n",
    "scaler_standard = scaler.fit_transform(age_scaler)"
   ]
  },
  {
   "cell_type": "code",
   "execution_count": 38,
   "metadata": {},
   "outputs": [
    {
     "data": {
      "text/plain": [
       "<seaborn.axisgrid.FacetGrid at 0x16580a310a0>"
      ]
     },
     "execution_count": 38,
     "metadata": {},
     "output_type": "execute_result"
    },
    {
     "data": {
      "image/png": "[encoded data removed]",
      "text/plain": [
       "<Figure size 402.375x360 with 1 Axes>"
      ]
     },
     "metadata": {
      "needs_background": "light"
     },
     "output_type": "display_data"
    }
   ],
   "source": [
    "#displot valeur âge StandardScaler\n",
    "sns.displot(scaler_standard, kde=True)"
   ]
  },
  {
   "cell_type": "code",
   "execution_count": 39,
   "metadata": {},
   "outputs": [],
   "source": [
    "#scaler MinMaxScaler valeur âge\n",
    "scaler = MinMaxScaler()\n",
    "scaler_minmax = scaler.fit_transform(age_scaler)"
   ]
  },
  {
   "cell_type": "code",
   "execution_count": 40,
   "metadata": {},
   "outputs": [
    {
     "data": {
      "text/plain": [
       "<seaborn.axisgrid.FacetGrid at 0x165c7cd48e0>"
      ]
     },
     "execution_count": 40,
     "metadata": {},
     "output_type": "execute_result"
    },
    {
     "data": {
      "image/png": "[encoded data removed]",
      "text/plain": [
       "<Figure size 402.375x360 with 1 Axes>"
      ]
     },
     "metadata": {
      "needs_background": "light"
     },
     "output_type": "display_data"
    }
   ],
   "source": [
    "#displot valeur âge MinMaxScaler\n",
    "sns.displot(scaler_minmax, kde=True)"
   ]
  },
  {
   "cell_type": "code",
   "execution_count": 41,
   "metadata": {},
   "outputs": [],
   "source": [
    "#scaler dataset2\n",
    "scaler=StandardScaler()\n",
    "scaler_dataset2=scaler.fit_transform(dataset2)"
   ]
  },
  {
   "cell_type": "code",
   "execution_count": 42,
   "metadata": {},
   "outputs": [],
   "source": [
    "#convertir scaler_dataset2 en dataframe\n",
    "dataset_heatmap = pd.DataFrame(scaler_dataset2, columns =['age', 'montant', 'frequence','panier_moyen', 'montant_categ_0', 'montant_categ_1', 'montant_categ_2', 'recence'])"
   ]
  },
  {
   "cell_type": "markdown",
   "metadata": {
    "id": "aswe1tDjmxSf"
   },
   "source": [
    "# Matrice de corrélation"
   ]
  },
  {
   "cell_type": "markdown",
   "metadata": {
    "id": "HFwmG5k_mxSf"
   },
   "source": [
    "Comment sont calculés les coefficients ? Par quelle méthode ? Qu'est-ce que signifie une corrélation positive/négative ? "
   ]
  },
  {
   "cell_type": "markdown",
   "metadata": {
    "id": "Yxkq5TC3mxSf"
   },
   "source": [
    "Pour vous aiguillez avec Python : https://www.delftstack.com/fr/howto/python-pandas/pandas-correlation-matrix/"
   ]
  },
  {
   "cell_type": "code",
   "execution_count": 43,
   "metadata": {},
   "outputs": [
    {
     "data": {
      "text/plain": [
       "<AxesSubplot:>"
      ]
     },
     "execution_count": 43,
     "metadata": {},
     "output_type": "execute_result"
    },
    {
     "data": {
      "image/png": "[encoded data removed]",
      "text/plain": [
       "<Figure size 720x720 with 2 Axes>"
      ]
     },
     "metadata": {
      "needs_background": "light"
     },
     "output_type": "display_data"
    }
   ],
   "source": [
    "#Heatmap\n",
    "plt.figure(figsize = (10,10))\n",
    "sns.heatmap(dataset_heatmap.corr(),annot= True, cbar = True, cmap=\"PiYG\")"
   ]
  },
  {
   "cell_type": "markdown",
   "metadata": {},
   "source": [
    "# Réduire le dataset"
   ]
  },
  {
   "cell_type": "code",
   "execution_count": 44,
   "metadata": {},
   "outputs": [],
   "source": [
    "#drop les colonnes fréquence et montant_categ_0\n",
    "dataset_drop = dataset_heatmap.drop(['frequence','montant_categ_1'], axis=1)"
   ]
  },
  {
   "cell_type": "markdown",
   "metadata": {},
   "source": [
    "# Elbow chart"
   ]
  },
  {
   "cell_type": "code",
   "execution_count": 72,
   "metadata": {},
   "outputs": [],
   "source": [
    "#import des bibliothèques\n",
    "from sklearn import datasets\n",
    "from sklearn.preprocessing import scale\n",
    "from yellowbrick.cluster import KElbowVisualizer\n",
    "from yellowbrick.datasets.loaders import load_nfl"
   ]
  },
  {
   "cell_type": "code",
   "execution_count": 46,
   "metadata": {},
   "outputs": [],
   "source": [
    "#X est égale à mon dataset\n",
    "X = dataset_drop"
   ]
  },
  {
   "cell_type": "code",
   "execution_count": 73,
   "metadata": {},
   "outputs": [
    {
     "data": {
      "image/png": "[encoded data removed]",
      "text/plain": [
       "<Figure size 432x288 with 2 Axes>"
      ]
     },
     "metadata": {},
     "output_type": "display_data"
    },
    {
     "data": {
      "text/plain": [
       "<AxesSubplot:title={'center':'Distortion Score Elbow for KMeans Clustering'}, xlabel='k', ylabel='distortion score'>"
      ]
     },
     "execution_count": 73,
     "metadata": {},
     "output_type": "execute_result"
    }
   ],
   "source": [
    "#visualisation \n",
    "KMeans(X)\n",
    "visu= KElbowVisualizer(KMeans(X), k=(1,8))\n",
    "visu.fit(X)\n",
    "visu.show()"
   ]
  },
  {
   "cell_type": "markdown",
   "metadata": {},
   "source": [
    "# Clustering"
   ]
  },
  {
   "cell_type": "code",
   "execution_count": 74,
   "metadata": {},
   "outputs": [
    {
     "data": {
      "text/html": [
       "<div>\n",
       "<style scoped>\n",
       "    .dataframe tbody tr th:only-of-type {\n",
       "        vertical-align: middle;\n",
       "    }\n",
       "\n",
       "    .dataframe tbody tr th {\n",
       "        vertical-align: top;\n",
       "    }\n",
       "\n",
       "    .dataframe thead th {\n",
       "        text-align: right;\n",
       "    }\n",
       "</style>\n",
       "<table border=\"1\" class=\"dataframe\">\n",
       "  <thead>\n",
       "    <tr style=\"text-align: right;\">\n",
       "      <th></th>\n",
       "      <th>client_id</th>\n",
       "      <th>age</th>\n",
       "      <th>sex</th>\n",
       "      <th>montant</th>\n",
       "      <th>frequence</th>\n",
       "      <th>panier_moyen</th>\n",
       "      <th>tranche_age</th>\n",
       "      <th>montant_categ_0</th>\n",
       "      <th>montant_categ_1</th>\n",
       "      <th>montant_categ_2</th>\n",
       "      <th>recence</th>\n",
       "      <th>clusters</th>\n",
       "    </tr>\n",
       "  </thead>\n",
       "  <tbody>\n",
       "    <tr>\n",
       "      <th>0</th>\n",
       "      <td>c_1</td>\n",
       "      <td>67</td>\n",
       "      <td>m</td>\n",
       "      <td>300.65</td>\n",
       "      <td>15</td>\n",
       "      <td>20.043333</td>\n",
       "      <td>(50, 100]</td>\n",
       "      <td>174.20</td>\n",
       "      <td>71.58</td>\n",
       "      <td>54.87</td>\n",
       "      <td>27.0</td>\n",
       "      <td>0</td>\n",
       "    </tr>\n",
       "    <tr>\n",
       "      <th>1</th>\n",
       "      <td>c_10</td>\n",
       "      <td>66</td>\n",
       "      <td>m</td>\n",
       "      <td>586.18</td>\n",
       "      <td>16</td>\n",
       "      <td>36.636250</td>\n",
       "      <td>(50, 100]</td>\n",
       "      <td>124.92</td>\n",
       "      <td>391.27</td>\n",
       "      <td>69.99</td>\n",
       "      <td>76.0</td>\n",
       "      <td>0</td>\n",
       "    </tr>\n",
       "    <tr>\n",
       "      <th>2</th>\n",
       "      <td>c_100</td>\n",
       "      <td>30</td>\n",
       "      <td>m</td>\n",
       "      <td>222.87</td>\n",
       "      <td>3</td>\n",
       "      <td>74.290000</td>\n",
       "      <td>(25, 35]</td>\n",
       "      <td>31.38</td>\n",
       "      <td>52.96</td>\n",
       "      <td>138.53</td>\n",
       "      <td>202.0</td>\n",
       "      <td>2</td>\n",
       "    </tr>\n",
       "    <tr>\n",
       "      <th>3</th>\n",
       "      <td>c_1000</td>\n",
       "      <td>56</td>\n",
       "      <td>f</td>\n",
       "      <td>980.02</td>\n",
       "      <td>42</td>\n",
       "      <td>23.333810</td>\n",
       "      <td>(50, 100]</td>\n",
       "      <td>169.85</td>\n",
       "      <td>810.17</td>\n",
       "      <td>0.00</td>\n",
       "      <td>0.0</td>\n",
       "      <td>0</td>\n",
       "    </tr>\n",
       "    <tr>\n",
       "      <th>4</th>\n",
       "      <td>c_1001</td>\n",
       "      <td>40</td>\n",
       "      <td>m</td>\n",
       "      <td>1102.45</td>\n",
       "      <td>24</td>\n",
       "      <td>45.935417</td>\n",
       "      <td>(35, 50]</td>\n",
       "      <td>527.81</td>\n",
       "      <td>274.64</td>\n",
       "      <td>300.00</td>\n",
       "      <td>2.0</td>\n",
       "      <td>0</td>\n",
       "    </tr>\n",
       "    <tr>\n",
       "      <th>...</th>\n",
       "      <td>...</td>\n",
       "      <td>...</td>\n",
       "      <td>...</td>\n",
       "      <td>...</td>\n",
       "      <td>...</td>\n",
       "      <td>...</td>\n",
       "      <td>...</td>\n",
       "      <td>...</td>\n",
       "      <td>...</td>\n",
       "      <td>...</td>\n",
       "      <td>...</td>\n",
       "      <td>...</td>\n",
       "    </tr>\n",
       "    <tr>\n",
       "      <th>8595</th>\n",
       "      <td>c_995</td>\n",
       "      <td>67</td>\n",
       "      <td>m</td>\n",
       "      <td>119.08</td>\n",
       "      <td>5</td>\n",
       "      <td>23.816000</td>\n",
       "      <td>(50, 100]</td>\n",
       "      <td>55.34</td>\n",
       "      <td>63.74</td>\n",
       "      <td>0.00</td>\n",
       "      <td>116.0</td>\n",
       "      <td>0</td>\n",
       "    </tr>\n",
       "    <tr>\n",
       "      <th>8596</th>\n",
       "      <td>c_996</td>\n",
       "      <td>52</td>\n",
       "      <td>f</td>\n",
       "      <td>739.60</td>\n",
       "      <td>36</td>\n",
       "      <td>20.544444</td>\n",
       "      <td>(50, 100]</td>\n",
       "      <td>204.70</td>\n",
       "      <td>534.90</td>\n",
       "      <td>0.00</td>\n",
       "      <td>22.0</td>\n",
       "      <td>0</td>\n",
       "    </tr>\n",
       "    <tr>\n",
       "      <th>8597</th>\n",
       "      <td>c_997</td>\n",
       "      <td>28</td>\n",
       "      <td>f</td>\n",
       "      <td>572.89</td>\n",
       "      <td>10</td>\n",
       "      <td>57.289000</td>\n",
       "      <td>(25, 35]</td>\n",
       "      <td>84.86</td>\n",
       "      <td>158.92</td>\n",
       "      <td>329.11</td>\n",
       "      <td>54.0</td>\n",
       "      <td>2</td>\n",
       "    </tr>\n",
       "    <tr>\n",
       "      <th>8598</th>\n",
       "      <td>c_998</td>\n",
       "      <td>21</td>\n",
       "      <td>m</td>\n",
       "      <td>1527.69</td>\n",
       "      <td>13</td>\n",
       "      <td>117.514615</td>\n",
       "      <td>(18, 25]</td>\n",
       "      <td>88.17</td>\n",
       "      <td>108.06</td>\n",
       "      <td>1331.46</td>\n",
       "      <td>5.0</td>\n",
       "      <td>2</td>\n",
       "    </tr>\n",
       "    <tr>\n",
       "      <th>8599</th>\n",
       "      <td>c_999</td>\n",
       "      <td>58</td>\n",
       "      <td>m</td>\n",
       "      <td>305.00</td>\n",
       "      <td>21</td>\n",
       "      <td>14.523810</td>\n",
       "      <td>(50, 100]</td>\n",
       "      <td>92.65</td>\n",
       "      <td>212.35</td>\n",
       "      <td>0.00</td>\n",
       "      <td>6.0</td>\n",
       "      <td>0</td>\n",
       "    </tr>\n",
       "  </tbody>\n",
       "</table>\n",
       "<p>8600 rows × 12 columns</p>\n",
       "</div>"
      ],
      "text/plain": [
       "     client_id  age sex  montant  frequence  panier_moyen tranche_age  \\\n",
       "0          c_1   67   m   300.65         15     20.043333   (50, 100]   \n",
       "1         c_10   66   m   586.18         16     36.636250   (50, 100]   \n",
       "2        c_100   30   m   222.87          3     74.290000    (25, 35]   \n",
       "3       c_1000   56   f   980.02         42     23.333810   (50, 100]   \n",
       "4       c_1001   40   m  1102.45         24     45.935417    (35, 50]   \n",
       "...        ...  ...  ..      ...        ...           ...         ...   \n",
       "8595     c_995   67   m   119.08          5     23.816000   (50, 100]   \n",
       "8596     c_996   52   f   739.60         36     20.544444   (50, 100]   \n",
       "8597     c_997   28   f   572.89         10     57.289000    (25, 35]   \n",
       "8598     c_998   21   m  1527.69         13    117.514615    (18, 25]   \n",
       "8599     c_999   58   m   305.00         21     14.523810   (50, 100]   \n",
       "\n",
       "      montant_categ_0  montant_categ_1  montant_categ_2  recence  clusters  \n",
       "0              174.20            71.58            54.87     27.0         0  \n",
       "1              124.92           391.27            69.99     76.0         0  \n",
       "2               31.38            52.96           138.53    202.0         2  \n",
       "3              169.85           810.17             0.00      0.0         0  \n",
       "4              527.81           274.64           300.00      2.0         0  \n",
       "...               ...              ...              ...      ...       ...  \n",
       "8595            55.34            63.74             0.00    116.0         0  \n",
       "8596           204.70           534.90             0.00     22.0         0  \n",
       "8597            84.86           158.92           329.11     54.0         2  \n",
       "8598            88.17           108.06          1331.46      5.0         2  \n",
       "8599            92.65           212.35             0.00      6.0         0  \n",
       "\n",
       "[8600 rows x 12 columns]"
      ]
     },
     "execution_count": 74,
     "metadata": {},
     "output_type": "execute_result"
    }
   ],
   "source": [
    "# kmeans / fit / predict (nombre de clusters : 4) / dataset avec colonne \"clusters\"\n",
    "kmeans = KMeans(4)\n",
    "dataset['clusters'] = kmeans.fit_predict(X)\n",
    "dataset"
   ]
  },
  {
   "cell_type": "code",
   "execution_count": 75,
   "metadata": {},
   "outputs": [
    {
     "data": {
      "text/plain": [
       "0    6223\n",
       "2    2375\n",
       "1       1\n",
       "3       1\n",
       "Name: clusters, dtype: int64"
      ]
     },
     "execution_count": 75,
     "metadata": {},
     "output_type": "execute_result"
    }
   ],
   "source": [
    "#cluster 1 et 2 sont inutiles\n",
    "dataset['clusters'].value_counts()"
   ]
  },
  {
   "cell_type": "markdown",
   "metadata": {},
   "source": [
    "# Silhouette score"
   ]
  },
  {
   "cell_type": "code",
   "execution_count": 76,
   "metadata": {},
   "outputs": [
    {
     "data": {
      "text/plain": [
       "0.4577761550208151"
      ]
     },
     "execution_count": 76,
     "metadata": {},
     "output_type": "execute_result"
    }
   ],
   "source": [
    "#calcul du silhouette score\n",
    "from sklearn.metrics import silhouette_score\n",
    "silhouette_score(X, dataset['clusters'])"
   ]
  },
  {
   "cell_type": "code",
   "execution_count": 77,
   "metadata": {},
   "outputs": [],
   "source": [
    "from yellowbrick.cluster import SilhouetteVisualizer"
   ]
  },
  {
   "cell_type": "code",
   "execution_count": 78,
   "metadata": {},
   "outputs": [
    {
     "data": {
      "text/plain": [
       "SilhouetteVisualizer(ax=<AxesSubplot:>, estimator=KMeans(n_clusters=4))"
      ]
     },
     "execution_count": 78,
     "metadata": {},
     "output_type": "execute_result"
    },
    {
     "data": {
      "image/png": "[encoded data removed]",
      "text/plain": [
       "<Figure size 432x288 with 1 Axes>"
      ]
     },
     "metadata": {
      "needs_background": "light"
     },
     "output_type": "display_data"
    }
   ],
   "source": [
    "vizu = SilhouetteVisualizer(kmeans)\n",
    "vizu.fit(X)"
   ]
  },
  {
   "cell_type": "markdown",
   "metadata": {},
   "source": [
    "# Visualisation"
   ]
  },
  {
   "cell_type": "code",
   "execution_count": 79,
   "metadata": {},
   "outputs": [
    {
     "data": {
      "text/plain": [
       "<AxesSubplot:xlabel='clusters', ylabel='montant'>"
      ]
     },
     "execution_count": 79,
     "metadata": {},
     "output_type": "execute_result"
    },
    {
     "data": {
      "image/png": "[encoded data removed]",
      "text/plain": [
       "<Figure size 432x288 with 1 Axes>"
      ]
     },
     "metadata": {
      "needs_background": "light"
     },
     "output_type": "display_data"
    }
   ],
   "source": [
    "#visualisation sur le montant\n",
    "visu_montant = sns.boxplot(x=dataset['clusters'], y=dataset['montant'])\n",
    "visu_montant"
   ]
  },
  {
   "cell_type": "code",
   "execution_count": 80,
   "metadata": {},
   "outputs": [
    {
     "data": {
      "text/plain": [
       "<AxesSubplot:xlabel='clusters', ylabel='panier_moyen'>"
      ]
     },
     "execution_count": 80,
     "metadata": {},
     "output_type": "execute_result"
    },
    {
     "data": {
      "image/png": "[encoded data removed]",
      "text/plain": [
       "<Figure size 432x288 with 1 Axes>"
      ]
     },
     "metadata": {
      "needs_background": "light"
     },
     "output_type": "display_data"
    }
   ],
   "source": [
    "#visualisation sur le panier moyen\n",
    "visu_panier = sns.boxplot(x=dataset['clusters'], y=dataset['panier_moyen'])\n",
    "visu_panier"
   ]
  },
  {
   "cell_type": "code",
   "execution_count": 81,
   "metadata": {},
   "outputs": [
    {
     "data": {
      "text/plain": [
       "<AxesSubplot:xlabel='clusters', ylabel='frequence'>"
      ]
     },
     "execution_count": 81,
     "metadata": {},
     "output_type": "execute_result"
    },
    {
     "data": {
      "image/png": "[encoded data removed]",
      "text/plain": [
       "<Figure size 432x288 with 1 Axes>"
      ]
     },
     "metadata": {
      "needs_background": "light"
     },
     "output_type": "display_data"
    }
   ],
   "source": [
    "#visualisation sur la fréquence\n",
    "visu_frequence = sns.boxplot(x=dataset['clusters'], y=dataset['frequence'])\n",
    "visu_frequence"
   ]
  },
  {
   "cell_type": "code",
   "execution_count": null,
   "metadata": {},
   "outputs": [],
   "source": []
  }
 ],
 "metadata": {
  "colab": {
   "collapsed_sections": [],
   "name": "Manipulation_Librairie.ipynb",
   "provenance": []
  },
  "kernelspec": {
   "display_name": "Python 3",
   "language": "python",
   "name": "python3"
  },
  "language_info": {
   "codemirror_mode": {
    "name": "ipython",
    "version": 3
   },
   "file_extension": ".py",
   "mimetype": "text/x-python",
   "name": "python",
   "nbconvert_exporter": "python",
   "pygments_lexer": "ipython3",
   "version": "3.8.8"
  },
  "toc": {
   "base_numbering": 1,
   "nav_menu": {},
   "number_sections": true,
   "sideBar": true,
   "skip_h1_title": false,
   "title_cell": "Table of Contents",
   "title_sidebar": "Contents",
   "toc_cell": false,
   "toc_position": {},
   "toc_section_display": true,
   "toc_window_display": false
  }
 },
 "nbformat": 4,
 "nbformat_minor": 1
}
