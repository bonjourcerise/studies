{
 "cells": [
  {
   "cell_type": "markdown",
   "id": "precious-softball",
   "metadata": {
    "id": "precious-softball"
   },
   "source": [
    "# Introduction to regression models"
   ]
  },
  {
   "cell_type": "markdown",
   "id": "afcd3715",
   "metadata": {},
   "source": [
    "★ Create your own linear model\n",
    "★ Analyse correlation\n",
    "★ Creating your linear model by hand\n",
    "★ Find the best parameters with an algorithm\n",
    "★ Predict wine quality - regression problem\n",
    "★ Simple Linear regression\n",
    "★ Multi linear regression\n",
    "★ Simple Logistic regression\n",
    "★ Multi logistic regression"
   ]
  },
  {
   "cell_type": "markdown",
   "id": "joint-footage",
   "metadata": {
    "id": "joint-footage"
   },
   "source": [
    "Import relevant libraries"
   ]
  },
  {
   "cell_type": "code",
   "execution_count": 6,
   "id": "aggregate-ability",
   "metadata": {
    "id": "aggregate-ability"
   },
   "outputs": [],
   "source": [
    "import numpy as np\n",
    "import pandas as pd\n",
    "import matplotlib.pyplot as plt\n",
    "import seaborn as sns\n",
    "from sklearn.model_selection import train_test_split\n",
    "from sklearn import linear_model"
   ]
  },
  {
   "cell_type": "markdown",
   "id": "unavailable-spyware",
   "metadata": {
    "id": "unavailable-spyware"
   },
   "source": [
    "## Load data"
   ]
  },
  {
   "cell_type": "code",
   "execution_count": 7,
   "id": "dedicated-fleece",
   "metadata": {
    "id": "dedicated-fleece"
   },
   "outputs": [],
   "source": [
    "wine_df = pd.read_csv('https://archive.ics.uci.edu/ml/machine-learning-databases/wine-quality/winequality-red.csv', delimiter=';')"
   ]
  },
  {
   "cell_type": "code",
   "execution_count": 8,
   "id": "continental-function",
   "metadata": {
    "colab": {
     "base_uri": "https://localhost:8080/",
     "height": 240
    },
    "executionInfo": {
     "elapsed": 4,
     "status": "ok",
     "timestamp": 1628412733968,
     "user": {
      "displayName": "Cerise Prost",
      "photoUrl": "https://lh3.googleusercontent.com/a-/AOh14GgqIP0TK0osPjoJ7bS-G22fGqR0AOBHYpz99fUU=s64",
      "userId": "16809151529975518036"
     },
     "user_tz": -120
    },
    "id": "continental-function",
    "outputId": "3be93529-6f2c-47ff-d172-a9876ac581ff"
   },
   "outputs": [
    {
     "data": {
      "text/html": [
       "<div>\n",
       "<style scoped>\n",
       "    .dataframe tbody tr th:only-of-type {\n",
       "        vertical-align: middle;\n",
       "    }\n",
       "\n",
       "    .dataframe tbody tr th {\n",
       "        vertical-align: top;\n",
       "    }\n",
       "\n",
       "    .dataframe thead th {\n",
       "        text-align: right;\n",
       "    }\n",
       "</style>\n",
       "<table border=\"1\" class=\"dataframe\">\n",
       "  <thead>\n",
       "    <tr style=\"text-align: right;\">\n",
       "      <th></th>\n",
       "      <th>fixed acidity</th>\n",
       "      <th>volatile acidity</th>\n",
       "      <th>citric acid</th>\n",
       "      <th>residual sugar</th>\n",
       "      <th>chlorides</th>\n",
       "      <th>free sulfur dioxide</th>\n",
       "      <th>total sulfur dioxide</th>\n",
       "      <th>density</th>\n",
       "      <th>pH</th>\n",
       "      <th>sulphates</th>\n",
       "      <th>alcohol</th>\n",
       "      <th>quality</th>\n",
       "    </tr>\n",
       "  </thead>\n",
       "  <tbody>\n",
       "    <tr>\n",
       "      <th>0</th>\n",
       "      <td>7.4</td>\n",
       "      <td>0.70</td>\n",
       "      <td>0.00</td>\n",
       "      <td>1.9</td>\n",
       "      <td>0.076</td>\n",
       "      <td>11.0</td>\n",
       "      <td>34.0</td>\n",
       "      <td>0.9978</td>\n",
       "      <td>3.51</td>\n",
       "      <td>0.56</td>\n",
       "      <td>9.4</td>\n",
       "      <td>5</td>\n",
       "    </tr>\n",
       "    <tr>\n",
       "      <th>1</th>\n",
       "      <td>7.8</td>\n",
       "      <td>0.88</td>\n",
       "      <td>0.00</td>\n",
       "      <td>2.6</td>\n",
       "      <td>0.098</td>\n",
       "      <td>25.0</td>\n",
       "      <td>67.0</td>\n",
       "      <td>0.9968</td>\n",
       "      <td>3.20</td>\n",
       "      <td>0.68</td>\n",
       "      <td>9.8</td>\n",
       "      <td>5</td>\n",
       "    </tr>\n",
       "    <tr>\n",
       "      <th>2</th>\n",
       "      <td>7.8</td>\n",
       "      <td>0.76</td>\n",
       "      <td>0.04</td>\n",
       "      <td>2.3</td>\n",
       "      <td>0.092</td>\n",
       "      <td>15.0</td>\n",
       "      <td>54.0</td>\n",
       "      <td>0.9970</td>\n",
       "      <td>3.26</td>\n",
       "      <td>0.65</td>\n",
       "      <td>9.8</td>\n",
       "      <td>5</td>\n",
       "    </tr>\n",
       "    <tr>\n",
       "      <th>3</th>\n",
       "      <td>11.2</td>\n",
       "      <td>0.28</td>\n",
       "      <td>0.56</td>\n",
       "      <td>1.9</td>\n",
       "      <td>0.075</td>\n",
       "      <td>17.0</td>\n",
       "      <td>60.0</td>\n",
       "      <td>0.9980</td>\n",
       "      <td>3.16</td>\n",
       "      <td>0.58</td>\n",
       "      <td>9.8</td>\n",
       "      <td>6</td>\n",
       "    </tr>\n",
       "    <tr>\n",
       "      <th>4</th>\n",
       "      <td>7.4</td>\n",
       "      <td>0.70</td>\n",
       "      <td>0.00</td>\n",
       "      <td>1.9</td>\n",
       "      <td>0.076</td>\n",
       "      <td>11.0</td>\n",
       "      <td>34.0</td>\n",
       "      <td>0.9978</td>\n",
       "      <td>3.51</td>\n",
       "      <td>0.56</td>\n",
       "      <td>9.4</td>\n",
       "      <td>5</td>\n",
       "    </tr>\n",
       "  </tbody>\n",
       "</table>\n",
       "</div>"
      ],
      "text/plain": [
       "   fixed acidity  volatile acidity  citric acid  residual sugar  chlorides  \\\n",
       "0            7.4              0.70         0.00             1.9      0.076   \n",
       "1            7.8              0.88         0.00             2.6      0.098   \n",
       "2            7.8              0.76         0.04             2.3      0.092   \n",
       "3           11.2              0.28         0.56             1.9      0.075   \n",
       "4            7.4              0.70         0.00             1.9      0.076   \n",
       "\n",
       "   free sulfur dioxide  total sulfur dioxide  density    pH  sulphates  \\\n",
       "0                 11.0                  34.0   0.9978  3.51       0.56   \n",
       "1                 25.0                  67.0   0.9968  3.20       0.68   \n",
       "2                 15.0                  54.0   0.9970  3.26       0.65   \n",
       "3                 17.0                  60.0   0.9980  3.16       0.58   \n",
       "4                 11.0                  34.0   0.9978  3.51       0.56   \n",
       "\n",
       "   alcohol  quality  \n",
       "0      9.4        5  \n",
       "1      9.8        5  \n",
       "2      9.8        5  \n",
       "3      9.8        6  \n",
       "4      9.4        5  "
      ]
     },
     "execution_count": 8,
     "metadata": {},
     "output_type": "execute_result"
    }
   ],
   "source": [
    "wine_df.head()"
   ]
  },
  {
   "cell_type": "markdown",
   "id": "selective-marks",
   "metadata": {
    "id": "selective-marks"
   },
   "source": [
    "Get 100 samples with random state (seed) = 1"
   ]
  },
  {
   "cell_type": "code",
   "execution_count": 267,
   "id": "infrared-bulgarian",
   "metadata": {
    "colab": {
     "base_uri": "https://localhost:8080/",
     "height": 458
    },
    "executionInfo": {
     "elapsed": 3,
     "status": "ok",
     "timestamp": 1628412735289,
     "user": {
      "displayName": "Cerise Prost",
      "photoUrl": "https://lh3.googleusercontent.com/a-/AOh14GgqIP0TK0osPjoJ7bS-G22fGqR0AOBHYpz99fUU=s64",
      "userId": "16809151529975518036"
     },
     "user_tz": -120
    },
    "id": "infrared-bulgarian",
    "outputId": "c9b260aa-9eef-4570-95ed-de382731847b"
   },
   "outputs": [
    {
     "data": {
      "text/html": [
       "<div>\n",
       "<style scoped>\n",
       "    .dataframe tbody tr th:only-of-type {\n",
       "        vertical-align: middle;\n",
       "    }\n",
       "\n",
       "    .dataframe tbody tr th {\n",
       "        vertical-align: top;\n",
       "    }\n",
       "\n",
       "    .dataframe thead th {\n",
       "        text-align: right;\n",
       "    }\n",
       "</style>\n",
       "<table border=\"1\" class=\"dataframe\">\n",
       "  <thead>\n",
       "    <tr style=\"text-align: right;\">\n",
       "      <th></th>\n",
       "      <th>fixed acidity</th>\n",
       "      <th>volatile acidity</th>\n",
       "      <th>citric acid</th>\n",
       "      <th>residual sugar</th>\n",
       "      <th>chlorides</th>\n",
       "      <th>free sulfur dioxide</th>\n",
       "      <th>total sulfur dioxide</th>\n",
       "      <th>density</th>\n",
       "      <th>pH</th>\n",
       "      <th>sulphates</th>\n",
       "      <th>alcohol</th>\n",
       "      <th>quality</th>\n",
       "    </tr>\n",
       "  </thead>\n",
       "  <tbody>\n",
       "    <tr>\n",
       "      <th>75</th>\n",
       "      <td>8.8</td>\n",
       "      <td>0.410</td>\n",
       "      <td>0.64</td>\n",
       "      <td>2.2</td>\n",
       "      <td>0.093</td>\n",
       "      <td>9.0</td>\n",
       "      <td>42.0</td>\n",
       "      <td>0.99860</td>\n",
       "      <td>3.54</td>\n",
       "      <td>0.66</td>\n",
       "      <td>10.5</td>\n",
       "      <td>5</td>\n",
       "    </tr>\n",
       "    <tr>\n",
       "      <th>1283</th>\n",
       "      <td>8.7</td>\n",
       "      <td>0.630</td>\n",
       "      <td>0.28</td>\n",
       "      <td>2.7</td>\n",
       "      <td>0.096</td>\n",
       "      <td>17.0</td>\n",
       "      <td>69.0</td>\n",
       "      <td>0.99734</td>\n",
       "      <td>3.26</td>\n",
       "      <td>0.63</td>\n",
       "      <td>10.2</td>\n",
       "      <td>6</td>\n",
       "    </tr>\n",
       "    <tr>\n",
       "      <th>408</th>\n",
       "      <td>10.4</td>\n",
       "      <td>0.340</td>\n",
       "      <td>0.58</td>\n",
       "      <td>3.7</td>\n",
       "      <td>0.174</td>\n",
       "      <td>6.0</td>\n",
       "      <td>16.0</td>\n",
       "      <td>0.99700</td>\n",
       "      <td>3.19</td>\n",
       "      <td>0.70</td>\n",
       "      <td>11.3</td>\n",
       "      <td>6</td>\n",
       "    </tr>\n",
       "    <tr>\n",
       "      <th>1281</th>\n",
       "      <td>7.1</td>\n",
       "      <td>0.460</td>\n",
       "      <td>0.20</td>\n",
       "      <td>1.9</td>\n",
       "      <td>0.077</td>\n",
       "      <td>28.0</td>\n",
       "      <td>54.0</td>\n",
       "      <td>0.99560</td>\n",
       "      <td>3.37</td>\n",
       "      <td>0.64</td>\n",
       "      <td>10.4</td>\n",
       "      <td>6</td>\n",
       "    </tr>\n",
       "    <tr>\n",
       "      <th>1118</th>\n",
       "      <td>7.1</td>\n",
       "      <td>0.390</td>\n",
       "      <td>0.12</td>\n",
       "      <td>2.1</td>\n",
       "      <td>0.065</td>\n",
       "      <td>14.0</td>\n",
       "      <td>24.0</td>\n",
       "      <td>0.99252</td>\n",
       "      <td>3.30</td>\n",
       "      <td>0.53</td>\n",
       "      <td>13.3</td>\n",
       "      <td>6</td>\n",
       "    </tr>\n",
       "    <tr>\n",
       "      <th>...</th>\n",
       "      <td>...</td>\n",
       "      <td>...</td>\n",
       "      <td>...</td>\n",
       "      <td>...</td>\n",
       "      <td>...</td>\n",
       "      <td>...</td>\n",
       "      <td>...</td>\n",
       "      <td>...</td>\n",
       "      <td>...</td>\n",
       "      <td>...</td>\n",
       "      <td>...</td>\n",
       "      <td>...</td>\n",
       "    </tr>\n",
       "    <tr>\n",
       "      <th>529</th>\n",
       "      <td>9.9</td>\n",
       "      <td>0.630</td>\n",
       "      <td>0.24</td>\n",
       "      <td>2.4</td>\n",
       "      <td>0.077</td>\n",
       "      <td>6.0</td>\n",
       "      <td>33.0</td>\n",
       "      <td>0.99740</td>\n",
       "      <td>3.09</td>\n",
       "      <td>0.57</td>\n",
       "      <td>9.4</td>\n",
       "      <td>5</td>\n",
       "    </tr>\n",
       "    <tr>\n",
       "      <th>912</th>\n",
       "      <td>10.0</td>\n",
       "      <td>0.460</td>\n",
       "      <td>0.44</td>\n",
       "      <td>2.9</td>\n",
       "      <td>0.065</td>\n",
       "      <td>4.0</td>\n",
       "      <td>8.0</td>\n",
       "      <td>0.99674</td>\n",
       "      <td>3.33</td>\n",
       "      <td>0.62</td>\n",
       "      <td>12.2</td>\n",
       "      <td>6</td>\n",
       "    </tr>\n",
       "    <tr>\n",
       "      <th>1227</th>\n",
       "      <td>9.0</td>\n",
       "      <td>0.580</td>\n",
       "      <td>0.25</td>\n",
       "      <td>2.0</td>\n",
       "      <td>0.104</td>\n",
       "      <td>8.0</td>\n",
       "      <td>21.0</td>\n",
       "      <td>0.99769</td>\n",
       "      <td>3.27</td>\n",
       "      <td>0.72</td>\n",
       "      <td>9.6</td>\n",
       "      <td>5</td>\n",
       "    </tr>\n",
       "    <tr>\n",
       "      <th>1374</th>\n",
       "      <td>6.8</td>\n",
       "      <td>0.815</td>\n",
       "      <td>0.00</td>\n",
       "      <td>1.2</td>\n",
       "      <td>0.267</td>\n",
       "      <td>16.0</td>\n",
       "      <td>29.0</td>\n",
       "      <td>0.99471</td>\n",
       "      <td>3.32</td>\n",
       "      <td>0.51</td>\n",
       "      <td>9.8</td>\n",
       "      <td>3</td>\n",
       "    </tr>\n",
       "    <tr>\n",
       "      <th>1198</th>\n",
       "      <td>7.7</td>\n",
       "      <td>0.260</td>\n",
       "      <td>0.26</td>\n",
       "      <td>2.0</td>\n",
       "      <td>0.052</td>\n",
       "      <td>19.0</td>\n",
       "      <td>77.0</td>\n",
       "      <td>0.99510</td>\n",
       "      <td>3.15</td>\n",
       "      <td>0.79</td>\n",
       "      <td>10.9</td>\n",
       "      <td>6</td>\n",
       "    </tr>\n",
       "  </tbody>\n",
       "</table>\n",
       "<p>100 rows × 12 columns</p>\n",
       "</div>"
      ],
      "text/plain": [
       "      fixed acidity  volatile acidity  citric acid  residual sugar  chlorides  \\\n",
       "75              8.8             0.410         0.64             2.2      0.093   \n",
       "1283            8.7             0.630         0.28             2.7      0.096   \n",
       "408            10.4             0.340         0.58             3.7      0.174   \n",
       "1281            7.1             0.460         0.20             1.9      0.077   \n",
       "1118            7.1             0.390         0.12             2.1      0.065   \n",
       "...             ...               ...          ...             ...        ...   \n",
       "529             9.9             0.630         0.24             2.4      0.077   \n",
       "912            10.0             0.460         0.44             2.9      0.065   \n",
       "1227            9.0             0.580         0.25             2.0      0.104   \n",
       "1374            6.8             0.815         0.00             1.2      0.267   \n",
       "1198            7.7             0.260         0.26             2.0      0.052   \n",
       "\n",
       "      free sulfur dioxide  total sulfur dioxide  density    pH  sulphates  \\\n",
       "75                    9.0                  42.0  0.99860  3.54       0.66   \n",
       "1283                 17.0                  69.0  0.99734  3.26       0.63   \n",
       "408                   6.0                  16.0  0.99700  3.19       0.70   \n",
       "1281                 28.0                  54.0  0.99560  3.37       0.64   \n",
       "1118                 14.0                  24.0  0.99252  3.30       0.53   \n",
       "...                   ...                   ...      ...   ...        ...   \n",
       "529                   6.0                  33.0  0.99740  3.09       0.57   \n",
       "912                   4.0                   8.0  0.99674  3.33       0.62   \n",
       "1227                  8.0                  21.0  0.99769  3.27       0.72   \n",
       "1374                 16.0                  29.0  0.99471  3.32       0.51   \n",
       "1198                 19.0                  77.0  0.99510  3.15       0.79   \n",
       "\n",
       "      alcohol  quality  \n",
       "75       10.5        5  \n",
       "1283     10.2        6  \n",
       "408      11.3        6  \n",
       "1281     10.4        6  \n",
       "1118     13.3        6  \n",
       "...       ...      ...  \n",
       "529       9.4        5  \n",
       "912      12.2        6  \n",
       "1227      9.6        5  \n",
       "1374      9.8        3  \n",
       "1198     10.9        6  \n",
       "\n",
       "[100 rows x 12 columns]"
      ]
     },
     "execution_count": 267,
     "metadata": {},
     "output_type": "execute_result"
    }
   ],
   "source": [
    "sample_wine_df = wine_df.sample(n=100,random_state=1)\n",
    "sample_wine_df"
   ]
  },
  {
   "cell_type": "markdown",
   "id": "reasonable-programmer",
   "metadata": {
    "id": "reasonable-programmer"
   },
   "source": [
    "## Create your own linear model"
   ]
  },
  {
   "cell_type": "markdown",
   "id": "attended-aging",
   "metadata": {
    "id": "attended-aging"
   },
   "source": [
    "Plot pH in function of fixed acidity"
   ]
  },
  {
   "cell_type": "code",
   "execution_count": 10,
   "id": "derived-allocation",
   "metadata": {
    "colab": {
     "base_uri": "https://localhost:8080/"
    },
    "executionInfo": {
     "elapsed": 212,
     "status": "ok",
     "timestamp": 1628412737225,
     "user": {
      "displayName": "Cerise Prost",
      "photoUrl": "https://lh3.googleusercontent.com/a-/AOh14GgqIP0TK0osPjoJ7bS-G22fGqR0AOBHYpz99fUU=s64",
      "userId": "16809151529975518036"
     },
     "user_tz": -120
    },
    "id": "derived-allocation",
    "outputId": "862460d2-94e5-4329-bcaa-4132bd51aee1"
   },
   "outputs": [
    {
     "data": {
      "text/plain": [
       "['5', '6', '7', '8', '9', '10', '11', '12', '13', '14']"
      ]
     },
     "execution_count": 10,
     "metadata": {},
     "output_type": "execute_result"
    }
   ],
   "source": [
    "[str(x) for x in list(range(5,15))]"
   ]
  },
  {
   "cell_type": "code",
   "execution_count": 235,
   "id": "specialized-korean",
   "metadata": {
    "colab": {
     "base_uri": "https://localhost:8080/",
     "height": 383
    },
    "executionInfo": {
     "elapsed": 1180,
     "status": "ok",
     "timestamp": 1628412739091,
     "user": {
      "displayName": "Cerise Prost",
      "photoUrl": "https://lh3.googleusercontent.com/a-/AOh14GgqIP0TK0osPjoJ7bS-G22fGqR0AOBHYpz99fUU=s64",
      "userId": "16809151529975518036"
     },
     "user_tz": -120
    },
    "id": "specialized-korean",
    "outputId": "0fe97cf4-0bee-4b80-a044-286cd4710cca"
   },
   "outputs": [
    {
     "data": {
      "image/png": "[encoded data removed]",
      "text/plain": [
       "<Figure size 360x360 with 1 Axes>"
      ]
     },
     "metadata": {
      "needs_background": "light"
     },
     "output_type": "display_data"
    }
   ],
   "source": [
    "s_x=sample_wine_df['fixed acidity']\n",
    "s_y=sample_wine_df['pH']\n",
    "g = sns.catplot(x=s_x, y=s_y, data=sample_wine_df)"
   ]
  },
  {
   "cell_type": "code",
   "execution_count": 236,
   "id": "matched-scope",
   "metadata": {
    "colab": {
     "base_uri": "https://localhost:8080/",
     "height": 279
    },
    "executionInfo": {
     "elapsed": 430,
     "status": "ok",
     "timestamp": 1628412740564,
     "user": {
      "displayName": "Cerise Prost",
      "photoUrl": "https://lh3.googleusercontent.com/a-/AOh14GgqIP0TK0osPjoJ7bS-G22fGqR0AOBHYpz99fUU=s64",
      "userId": "16809151529975518036"
     },
     "user_tz": -120
    },
    "id": "matched-scope",
    "outputId": "1acf8412-d6dc-4f00-dd1d-b54e210a7779"
   },
   "outputs": [
    {
     "data": {
      "image/png": "[encoded data removed]",
      "text/plain": [
       "<Figure size 432x288 with 1 Axes>"
      ]
     },
     "metadata": {
      "needs_background": "light"
     },
     "output_type": "display_data"
    }
   ],
   "source": [
    "sns.scatterplot(x=sample_wine_df[\"fixed acidity\"], y=sample_wine_df[\"pH\"]);"
   ]
  },
  {
   "cell_type": "markdown",
   "id": "republican-bookmark",
   "metadata": {
    "id": "republican-bookmark"
   },
   "source": [
    "### Analyse correlation "
   ]
  },
  {
   "cell_type": "markdown",
   "id": "informal-danish",
   "metadata": {
    "id": "informal-danish"
   },
   "source": [
    "What can you say about pH and fixed acidity? are they correlated ? "
   ]
  },
  {
   "cell_type": "code",
   "execution_count": 237,
   "id": "attractive-marker",
   "metadata": {
    "id": "attractive-marker"
   },
   "outputs": [],
   "source": [
    "corr = sample_wine_df.corr()"
   ]
  },
  {
   "cell_type": "code",
   "execution_count": 268,
   "id": "toxic-hybrid",
   "metadata": {
    "colab": {
     "base_uri": "https://localhost:8080/",
     "height": 372
    },
    "executionInfo": {
     "elapsed": 656,
     "status": "ok",
     "timestamp": 1628412743914,
     "user": {
      "displayName": "Cerise Prost",
      "photoUrl": "https://lh3.googleusercontent.com/a-/AOh14GgqIP0TK0osPjoJ7bS-G22fGqR0AOBHYpz99fUU=s64",
      "userId": "16809151529975518036"
     },
     "user_tz": -120
    },
    "id": "toxic-hybrid",
    "outputId": "e3d73af2-78a2-43ae-f0a3-1e9ba235d987"
   },
   "outputs": [
    {
     "data": {
      "text/plain": [
       "<AxesSubplot:>"
      ]
     },
     "execution_count": 268,
     "metadata": {},
     "output_type": "execute_result"
    },
    {
     "data": {
      "image/png": "[encoded data removed]",
      "text/plain": [
       "<Figure size 432x288 with 2 Axes>"
      ]
     },
     "metadata": {
      "needs_background": "light"
     },
     "output_type": "display_data"
    }
   ],
   "source": [
    "#heatmap\n",
    "sns.heatmap(corr, \n",
    "        xticklabels=corr.columns,\n",
    "        yticklabels=corr.columns,\n",
    "        cmap= \"YlGnBu\")"
   ]
  },
  {
   "cell_type": "code",
   "execution_count": 269,
   "id": "honest-regulation",
   "metadata": {
    "colab": {
     "base_uri": "https://localhost:8080/",
     "height": 206
    },
    "executionInfo": {
     "elapsed": 241,
     "status": "ok",
     "timestamp": 1628412746200,
     "user": {
      "displayName": "Cerise Prost",
      "photoUrl": "https://lh3.googleusercontent.com/a-/AOh14GgqIP0TK0osPjoJ7bS-G22fGqR0AOBHYpz99fUU=s64",
      "userId": "16809151529975518036"
     },
     "user_tz": -120
    },
    "id": "honest-regulation",
    "outputId": "846213d4-aed9-4d7d-9654-b883b7935242",
    "scrolled": true
   },
   "outputs": [
    {
     "data": {
      "text/html": [
       "<div>\n",
       "<style scoped>\n",
       "    .dataframe tbody tr th:only-of-type {\n",
       "        vertical-align: middle;\n",
       "    }\n",
       "\n",
       "    .dataframe tbody tr th {\n",
       "        vertical-align: top;\n",
       "    }\n",
       "\n",
       "    .dataframe thead th {\n",
       "        text-align: right;\n",
       "    }\n",
       "</style>\n",
       "<table border=\"1\" class=\"dataframe\">\n",
       "  <thead>\n",
       "    <tr style=\"text-align: right;\">\n",
       "      <th></th>\n",
       "      <th>feature_1</th>\n",
       "      <th>feature_2</th>\n",
       "      <th>correlation</th>\n",
       "    </tr>\n",
       "  </thead>\n",
       "  <tbody>\n",
       "    <tr>\n",
       "      <th>66</th>\n",
       "      <td>free sulfur dioxide</td>\n",
       "      <td>total sulfur dioxide</td>\n",
       "      <td>0.697088</td>\n",
       "    </tr>\n",
       "    <tr>\n",
       "      <th>77</th>\n",
       "      <td>total sulfur dioxide</td>\n",
       "      <td>free sulfur dioxide</td>\n",
       "      <td>0.697088</td>\n",
       "    </tr>\n",
       "    <tr>\n",
       "      <th>2</th>\n",
       "      <td>fixed acidity</td>\n",
       "      <td>citric acid</td>\n",
       "      <td>0.658054</td>\n",
       "    </tr>\n",
       "    <tr>\n",
       "      <th>24</th>\n",
       "      <td>citric acid</td>\n",
       "      <td>fixed acidity</td>\n",
       "      <td>0.658054</td>\n",
       "    </tr>\n",
       "    <tr>\n",
       "      <th>7</th>\n",
       "      <td>fixed acidity</td>\n",
       "      <td>density</td>\n",
       "      <td>0.652115</td>\n",
       "    </tr>\n",
       "  </tbody>\n",
       "</table>\n",
       "</div>"
      ],
      "text/plain": [
       "               feature_1             feature_2  correlation\n",
       "66   free sulfur dioxide  total sulfur dioxide     0.697088\n",
       "77  total sulfur dioxide   free sulfur dioxide     0.697088\n",
       "2          fixed acidity           citric acid     0.658054\n",
       "24           citric acid         fixed acidity     0.658054\n",
       "7          fixed acidity               density     0.652115"
      ]
     },
     "execution_count": 269,
     "metadata": {},
     "output_type": "execute_result"
    }
   ],
   "source": [
    "#unstack correlation matrix \n",
    "corr_df = corr.unstack().reset_index() \n",
    "corr_df\n",
    "\n",
    "#rename columns\n",
    "corr_df.columns = ['feature_1','feature_2', 'correlation'] \n",
    "\n",
    "#sort by correlation\n",
    "corr_df.sort_values(by=\"correlation\",ascending=False, inplace=True) \n",
    "\n",
    "#remove self correlation\n",
    "corr_df = corr_df[corr_df['feature_1'] != corr_df['feature_2']] \n",
    "corr_df.head()"
   ]
  },
  {
   "cell_type": "code",
   "execution_count": 240,
   "id": "streaming-encyclopedia",
   "metadata": {
    "colab": {
     "base_uri": "https://localhost:8080/",
     "height": 80
    },
    "executionInfo": {
     "elapsed": 7,
     "status": "ok",
     "timestamp": 1628412748908,
     "user": {
      "displayName": "Cerise Prost",
      "photoUrl": "https://lh3.googleusercontent.com/a-/AOh14GgqIP0TK0osPjoJ7bS-G22fGqR0AOBHYpz99fUU=s64",
      "userId": "16809151529975518036"
     },
     "user_tz": -120
    },
    "id": "streaming-encyclopedia",
    "outputId": "ba254ae3-0890-4d77-a7ab-18896bfcbf30"
   },
   "outputs": [
    {
     "data": {
      "text/html": [
       "<div>\n",
       "<style scoped>\n",
       "    .dataframe tbody tr th:only-of-type {\n",
       "        vertical-align: middle;\n",
       "    }\n",
       "\n",
       "    .dataframe tbody tr th {\n",
       "        vertical-align: top;\n",
       "    }\n",
       "\n",
       "    .dataframe thead th {\n",
       "        text-align: right;\n",
       "    }\n",
       "</style>\n",
       "<table border=\"1\" class=\"dataframe\">\n",
       "  <thead>\n",
       "    <tr style=\"text-align: right;\">\n",
       "      <th></th>\n",
       "      <th>feature_1</th>\n",
       "      <th>feature_2</th>\n",
       "      <th>correlation</th>\n",
       "    </tr>\n",
       "  </thead>\n",
       "  <tbody>\n",
       "    <tr>\n",
       "      <th>96</th>\n",
       "      <td>pH</td>\n",
       "      <td>fixed acidity</td>\n",
       "      <td>-0.619941</td>\n",
       "    </tr>\n",
       "  </tbody>\n",
       "</table>\n",
       "</div>"
      ],
      "text/plain": [
       "   feature_1      feature_2  correlation\n",
       "96        pH  fixed acidity    -0.619941"
      ]
     },
     "execution_count": 240,
     "metadata": {},
     "output_type": "execute_result"
    }
   ],
   "source": [
    "pH_corr_df = corr_df[corr_df['feature_1'] == 'pH']\n",
    "pH_corr_df[pH_corr_df['feature_2'] == 'fixed acidity']"
   ]
  },
  {
   "cell_type": "markdown",
   "id": "imposed-vinyl",
   "metadata": {
    "id": "imposed-vinyl"
   },
   "source": [
    "### Creating your  linear model by hand"
   ]
  },
  {
   "cell_type": "markdown",
   "id": "banner-friday",
   "metadata": {
    "id": "banner-friday"
   },
   "source": [
    "Try to find a linear model by hand. plot it with the sample set\n",
    "\n",
    "Hint: define an intercept and slope. Then, plot it graphically\n",
    "\n",
    "y = a * x + b, where a is slope and b is intercept"
   ]
  },
  {
   "cell_type": "code",
   "execution_count": 241,
   "id": "advance-newton",
   "metadata": {
    "id": "advance-newton"
   },
   "outputs": [],
   "source": [
    "def plot_line(a, b, ax):\n",
    "    \"\"\"Plot a line from slope and intercept on the ax\"\"\"\n",
    "    x_vals = np.array(ax.get_xlim())\n",
    "    y_vals = a * x_vals + b\n",
    "    ax.plot(x_vals, y_vals, '-')"
   ]
  },
  {
   "cell_type": "code",
   "execution_count": 242,
   "id": "civilian-privilege",
   "metadata": {
    "colab": {
     "base_uri": "https://localhost:8080/",
     "height": 279
    },
    "executionInfo": {
     "elapsed": 371,
     "status": "ok",
     "timestamp": 1628413639418,
     "user": {
      "displayName": "Cerise Prost",
      "photoUrl": "https://lh3.googleusercontent.com/a-/AOh14GgqIP0TK0osPjoJ7bS-G22fGqR0AOBHYpz99fUU=s64",
      "userId": "16809151529975518036"
     },
     "user_tz": -120
    },
    "id": "civilian-privilege",
    "outputId": "84d867ac-0557-433d-9409-dc99a6e2cb63"
   },
   "outputs": [
    {
     "data": {
      "image/png": "[encoded data removed]",
      "text/plain": [
       "<Figure size 432x288 with 1 Axes>"
      ]
     },
     "metadata": {
      "needs_background": "light"
     },
     "output_type": "display_data"
    }
   ],
   "source": [
    "ax = sns.scatterplot(x=\"fixed acidity\", y=\"pH\", data=sample_wine_df)\n",
    "plot_line(-0.1, 3.8, ax)"
   ]
  },
  {
   "cell_type": "markdown",
   "id": "returning-genre",
   "metadata": {
    "id": "returning-genre"
   },
   "source": [
    "### Find the best linear model by hand"
   ]
  },
  {
   "cell_type": "markdown",
   "id": "constant-pilot",
   "metadata": {
    "id": "constant-pilot"
   },
   "source": [
    "what is the best linear model you can find ? try to define different intercepts and slopes by hand"
   ]
  },
  {
   "cell_type": "code",
   "execution_count": 243,
   "id": "rental-constraint",
   "metadata": {
    "colab": {
     "base_uri": "https://localhost:8080/",
     "height": 249
    },
    "executionInfo": {
     "elapsed": 714,
     "status": "error",
     "timestamp": 1628683678880,
     "user": {
      "displayName": "Cerise Prost",
      "photoUrl": "https://lh3.googleusercontent.com/a-/AOh14GgqIP0TK0osPjoJ7bS-G22fGqR0AOBHYpz99fUU=s64",
      "userId": "16809151529975518036"
     },
     "user_tz": -120
    },
    "id": "rental-constraint",
    "outputId": "008e340e-68d7-497e-b80b-45f0dd727d51"
   },
   "outputs": [
    {
     "data": {
      "image/png": "[encoded data removed]",
      "text/plain": [
       "<Figure size 432x288 with 1 Axes>"
      ]
     },
     "metadata": {
      "needs_background": "light"
     },
     "output_type": "display_data"
    }
   ],
   "source": [
    "ax = sns.scatterplot(x=\"fixed acidity\", y=\"pH\", data=sample_wine_df)\n",
    "a_list = [-0.08, -0.1, -0.05]\n",
    "b_list = [4, 4, 4]\n",
    "for i in range(len(a_list)):\n",
    "    plot_line(a_list[i], b_list[i], ax)"
   ]
  },
  {
   "cell_type": "markdown",
   "id": "single-visibility",
   "metadata": {
    "id": "single-visibility"
   },
   "source": [
    "Compare to seaborn regplot"
   ]
  },
  {
   "cell_type": "code",
   "execution_count": 244,
   "id": "informative-tiger",
   "metadata": {
    "id": "informative-tiger"
   },
   "outputs": [
    {
     "data": {
      "image/png": "[encoded data removed]",
      "text/plain": [
       "<Figure size 432x288 with 1 Axes>"
      ]
     },
     "metadata": {
      "needs_background": "light"
     },
     "output_type": "display_data"
    }
   ],
   "source": [
    "# plot your linear model with regplot and compare\n",
    "ax = sns.regplot(y='pH', x='fixed acidity', data=sample_wine_df)\n",
    "plot_line(-0.08, 4, ax)"
   ]
  },
  {
   "cell_type": "markdown",
   "id": "printable-feeling",
   "metadata": {
    "id": "printable-feeling"
   },
   "source": [
    "How far is your linear model from seaborn model?"
   ]
  },
  {
   "cell_type": "code",
   "execution_count": 270,
   "id": "automotive-purpose",
   "metadata": {
    "id": "automotive-purpose"
   },
   "outputs": [],
   "source": [
    "#the slope is higher than the one calculated by regplot"
   ]
  },
  {
   "cell_type": "markdown",
   "id": "sudden-force",
   "metadata": {
    "id": "sudden-force"
   },
   "source": [
    "How do you evaluate the performance of your linear models at each iteration ?"
   ]
  },
  {
   "cell_type": "code",
   "execution_count": 272,
   "id": "standing-thomas",
   "metadata": {
    "id": "standing-thomas"
   },
   "outputs": [],
   "source": [
    "#using a loss function to evaluate the difference between observations and predictions"
   ]
  },
  {
   "cell_type": "code",
   "execution_count": 275,
   "id": "copyrighted-electronics",
   "metadata": {
    "id": "copyrighted-electronics"
   },
   "outputs": [],
   "source": [
    "#function calculate square errors\n",
    "def squared_errors(slope, intercept, fixed_acidity, pH):\n",
    "    return (pH - ((slope * fixed_acidity) + intercept)) ** 2"
   ]
  },
  {
   "cell_type": "code",
   "execution_count": 276,
   "id": "liable-egypt",
   "metadata": {
    "id": "liable-egypt"
   },
   "outputs": [],
   "source": [
    "#function calculate MSE\n",
    "def mse(slope, intercept, fixed_acidity, pH):\n",
    "    errors = squared_errors(slope, intercept, fixed_acidity, pH)\n",
    "    return np.mean(errors)"
   ]
  },
  {
   "cell_type": "code",
   "execution_count": 277,
   "id": "unavailable-champagne",
   "metadata": {
    "id": "unavailable-champagne"
   },
   "outputs": [
    {
     "data": {
      "text/plain": [
       "0.035038000000000034"
      ]
     },
     "execution_count": 277,
     "metadata": {},
     "output_type": "execute_result"
    }
   ],
   "source": [
    "mse(-0.1, 4, sample_wine_df[\"fixed acidity\"], sample_wine_df.pH)"
   ]
  },
  {
   "cell_type": "code",
   "execution_count": 278,
   "id": "sticky-seafood",
   "metadata": {
    "id": "sticky-seafood"
   },
   "outputs": [
    {
     "data": {
      "text/plain": [
       "3.5038000000000027"
      ]
     },
     "execution_count": 278,
     "metadata": {},
     "output_type": "execute_result"
    }
   ],
   "source": [
    "squared_errors(-0.1, 4, sample_wine_df[\"fixed acidity\"], sample_wine_df.pH).sum()"
   ]
  },
  {
   "cell_type": "markdown",
   "id": "protective-disney",
   "metadata": {
    "id": "protective-disney"
   },
   "source": [
    "### Find the best parameters with an algorithm"
   ]
  },
  {
   "cell_type": "markdown",
   "id": "worst-analyst",
   "metadata": {
    "id": "worst-analyst"
   },
   "source": [
    "Try to create a method where each time you define a slope or intercept, you reduce the error of the model. Then, you iterate to find the best model\n",
    "\n",
    "Hint: choose a fixed intercept, find the slope that reduce the error of the model. Then keep that slope, find the new intercept that reduce the error of the model ..."
   ]
  },
  {
   "cell_type": "markdown",
   "id": "signal-antarctica",
   "metadata": {
    "id": "signal-antarctica"
   },
   "source": [
    "##### Fixing intercept to find best slope"
   ]
  },
  {
   "cell_type": "code",
   "execution_count": 245,
   "id": "racial-article",
   "metadata": {
    "colab": {
     "base_uri": "https://localhost:8080/",
     "height": 268
    },
    "executionInfo": {
     "elapsed": 764,
     "status": "error",
     "timestamp": 1628685438415,
     "user": {
      "displayName": "Cerise Prost",
      "photoUrl": "https://lh3.googleusercontent.com/a-/AOh14GgqIP0TK0osPjoJ7bS-G22fGqR0AOBHYpz99fUU=s64",
      "userId": "16809151529975518036"
     },
     "user_tz": -120
    },
    "id": "racial-article",
    "outputId": "aca85d6f-57a9-4748-8dc9-faf0d841d781"
   },
   "outputs": [],
   "source": [
    "intercept_initial_guess = 4 # For instance, we may suppose there is always a small transaction fee even for very small flats?\n",
    "\n",
    "#create a range of 100 slopes which contains what you believe is the optimal slope (hint: np.linspace())\n",
    "slope_range = np.linspace(-0.1,-0.05,100)\n",
    "\n",
    "#create the list of MSEs for each slope value\n",
    "mses = list(map(lambda x: mse(x, intercept_initial_guess, sample_wine_df[\"fixed acidity\"], sample_wine_df.pH), slope_range))"
   ]
  },
  {
   "cell_type": "code",
   "execution_count": 246,
   "id": "documentary-theta",
   "metadata": {
    "executionInfo": {
     "elapsed": 736,
     "status": "aborted",
     "timestamp": 1628685438394,
     "user": {
      "displayName": "Cerise Prost",
      "photoUrl": "https://lh3.googleusercontent.com/a-/AOh14GgqIP0TK0osPjoJ7bS-G22fGqR0AOBHYpz99fUU=s64",
      "userId": "16809151529975518036"
     },
     "user_tz": -120
    },
    "id": "documentary-theta"
   },
   "outputs": [
    {
     "data": {
      "text/plain": [
       "Text(0, 0.5, 'MSE')"
      ]
     },
     "execution_count": 246,
     "metadata": {},
     "output_type": "execute_result"
    },
    {
     "data": {
      "image/png": "[encoded data removed]",
      "text/plain": [
       "<Figure size 432x288 with 1 Axes>"
      ]
     },
     "metadata": {
      "needs_background": "light"
     },
     "output_type": "display_data"
    }
   ],
   "source": [
    "#plot MSEs against slopes. Do you see a minimum? If not, try another range of slopes!\n",
    "plt.plot(slope_range, mses)\n",
    "plt.xlabel(\"slope\")\n",
    "plt.ylabel(\"MSE\")"
   ]
  },
  {
   "cell_type": "code",
   "execution_count": 247,
   "id": "connected-rochester",
   "metadata": {
    "executionInfo": {
     "elapsed": 742,
     "status": "aborted",
     "timestamp": 1628685438400,
     "user": {
      "displayName": "Cerise Prost",
      "photoUrl": "https://lh3.googleusercontent.com/a-/AOh14GgqIP0TK0osPjoJ7bS-G22fGqR0AOBHYpz99fUU=s64",
      "userId": "16809151529975518036"
     },
     "user_tz": -120
    },
    "id": "connected-rochester"
   },
   "outputs": [
    {
     "name": "stdout",
     "output_type": "stream",
     "text": [
      "mse_min: 0.013490916666666677\n",
      "slope_best: -0.08333333333333334\n"
     ]
    }
   ],
   "source": [
    "mse_min = min(mses)\n",
    "slope_best = slope_range[mses.index(mse_min)]\n",
    "print('mse_min:', mse_min)\n",
    "print('slope_best:', slope_best)"
   ]
  },
  {
   "cell_type": "markdown",
   "id": "mediterranean-heavy",
   "metadata": {
    "id": "mediterranean-heavy"
   },
   "source": [
    "##### Fixing best slope to find best intercept"
   ]
  },
  {
   "cell_type": "code",
   "execution_count": 279,
   "id": "increasing-breathing",
   "metadata": {
    "executionInfo": {
     "elapsed": 743,
     "status": "aborted",
     "timestamp": 1628685438401,
     "user": {
      "displayName": "Cerise Prost",
      "photoUrl": "https://lh3.googleusercontent.com/a-/AOh14GgqIP0TK0osPjoJ7bS-G22fGqR0AOBHYpz99fUU=s64",
      "userId": "16809151529975518036"
     },
     "user_tz": -120
    },
    "id": "increasing-breathing"
   },
   "outputs": [
    {
     "data": {
      "text/plain": [
       "Text(0, 0.5, 'MSE')"
      ]
     },
     "execution_count": 279,
     "metadata": {},
     "output_type": "execute_result"
    },
    {
     "data": {
      "image/png": "[encoded data removed]",
      "text/plain": [
       "<Figure size 432x288 with 1 Axes>"
      ]
     },
     "metadata": {
      "needs_background": "light"
     },
     "output_type": "display_data"
    }
   ],
   "source": [
    "#create a range of 100 intercepts which contains what you believe is the optimal intercept\n",
    "intercept_range = np.linspace(3,5, 100)\n",
    "\n",
    "#create the list of MSEs for each intercept value\n",
    "mses = list(map(lambda x: mse(slope_best, x, sample_wine_df[\"fixed acidity\"], sample_wine_df.pH), intercept_range))\n",
    "\n",
    "#plot MSEs against slopes. Do you see a minimum? If not, try another range of slopes!\n",
    "plt.plot(intercept_range, mses)\n",
    "plt.scatter(intercept_initial_guess, mse(slope_best, intercept_initial_guess, sample_wine_df[\"fixed acidity\"], sample_wine_df.pH), color = 'r')\n",
    "plt.xlabel('intercept')\n",
    "plt.ylabel(\"MSE\")"
   ]
  },
  {
   "cell_type": "code",
   "execution_count": 249,
   "id": "radical-survivor",
   "metadata": {
    "executionInfo": {
     "elapsed": 743,
     "status": "aborted",
     "timestamp": 1628685438402,
     "user": {
      "displayName": "Cerise Prost",
      "photoUrl": "https://lh3.googleusercontent.com/a-/AOh14GgqIP0TK0osPjoJ7bS-G22fGqR0AOBHYpz99fUU=s64",
      "userId": "16809151529975518036"
     },
     "user_tz": -120
    },
    "id": "radical-survivor"
   },
   "outputs": [
    {
     "name": "stdout",
     "output_type": "stream",
     "text": [
      "mse_min: 0.013416852795633101\n",
      "intercept_best: 3.98989898989899\n"
     ]
    }
   ],
   "source": [
    "# Compute the min value of MSEs for slope=slope_best and store the corresponding best intercept\n",
    "mse_min = min(mses)\n",
    "intercept_best = intercept_range[mses.index(mse_min)]\n",
    "\n",
    "print('mse_min:', mse_min)\n",
    "print('intercept_best:', intercept_best)"
   ]
  },
  {
   "cell_type": "code",
   "execution_count": 250,
   "id": "incorporate-pillow",
   "metadata": {
    "executionInfo": {
     "elapsed": 744,
     "status": "aborted",
     "timestamp": 1628685438403,
     "user": {
      "displayName": "Cerise Prost",
      "photoUrl": "https://lh3.googleusercontent.com/a-/AOh14GgqIP0TK0osPjoJ7bS-G22fGqR0AOBHYpz99fUU=s64",
      "userId": "16809151529975518036"
     },
     "user_tz": -120
    },
    "id": "incorporate-pillow"
   },
   "outputs": [
    {
     "data": {
      "image/png": "[encoded data removed]",
      "text/plain": [
       "<Figure size 432x288 with 1 Axes>"
      ]
     },
     "metadata": {
      "needs_background": "light"
     },
     "output_type": "display_data"
    }
   ],
   "source": [
    "ax = sns.scatterplot(x=\"fixed acidity\", y=\"pH\", data=sample_wine_df)\n",
    "plot_line(slope_best, intercept_best, ax)"
   ]
  },
  {
   "cell_type": "markdown",
   "id": "administrative-adobe",
   "metadata": {
    "id": "administrative-adobe"
   },
   "source": [
    "How many iterations did you tried ? what are the best intercept and slope you found? Are you closer to the seaborn linear model ?  "
   ]
  },
  {
   "cell_type": "code",
   "execution_count": 251,
   "id": "judicial-discretion",
   "metadata": {
    "executionInfo": {
     "elapsed": 744,
     "status": "aborted",
     "timestamp": 1628685438404,
     "user": {
      "displayName": "Cerise Prost",
      "photoUrl": "https://lh3.googleusercontent.com/a-/AOh14GgqIP0TK0osPjoJ7bS-G22fGqR0AOBHYpz99fUU=s64",
      "userId": "16809151529975518036"
     },
     "user_tz": -120
    },
    "id": "judicial-discretion"
   },
   "outputs": [
    {
     "name": "stdout",
     "output_type": "stream",
     "text": [
      "-0.08333333333333334\n",
      "3.98989898989899\n"
     ]
    }
   ],
   "source": [
    "# just 2 iterations. \n",
    "print(slope_best)\n",
    "print(intercept_best)\n"
   ]
  },
  {
   "cell_type": "code",
   "execution_count": 252,
   "id": "liable-violence",
   "metadata": {
    "executionInfo": {
     "elapsed": 745,
     "status": "aborted",
     "timestamp": 1628685438405,
     "user": {
      "displayName": "Cerise Prost",
      "photoUrl": "https://lh3.googleusercontent.com/a-/AOh14GgqIP0TK0osPjoJ7bS-G22fGqR0AOBHYpz99fUU=s64",
      "userId": "16809151529975518036"
     },
     "user_tz": -120
    },
    "id": "liable-violence",
    "scrolled": true
   },
   "outputs": [
    {
     "data": {
      "image/png": "[encoded data removed]",
      "text/plain": [
       "<Figure size 432x288 with 1 Axes>"
      ]
     },
     "metadata": {
      "needs_background": "light"
     },
     "output_type": "display_data"
    }
   ],
   "source": [
    "# plot your linear model with regplot and compare\n",
    "ax = sns.regplot(y='pH', x='fixed acidity', data=sample_wine_df)\n",
    "plot_line(slope_best, intercept_best, ax)"
   ]
  },
  {
   "cell_type": "markdown",
   "id": "complete-interface",
   "metadata": {
    "id": "complete-interface"
   },
   "source": [
    "Compare with the Linear regression used in scikit learn"
   ]
  },
  {
   "cell_type": "code",
   "execution_count": 280,
   "id": "southeast-humor",
   "metadata": {
    "executionInfo": {
     "elapsed": 745,
     "status": "aborted",
     "timestamp": 1628685438407,
     "user": {
      "displayName": "Cerise Prost",
      "photoUrl": "https://lh3.googleusercontent.com/a-/AOh14GgqIP0TK0osPjoJ7bS-G22fGqR0AOBHYpz99fUU=s64",
      "userId": "16809151529975518036"
     },
     "user_tz": -120
    },
    "id": "southeast-humor"
   },
   "outputs": [
    {
     "name": "stdout",
     "output_type": "stream",
     "text": [
      "[-0.051601]\n",
      "3.7176554637668797\n"
     ]
    }
   ],
   "source": [
    "#import the model\n",
    "from sklearn.linear_model import LinearRegression\n",
    "\n",
    "#instanciate the model\n",
    "model = LinearRegression()\n",
    "\n",
    "#define X and y\n",
    "X = sample_wine_df[['fixed acidity']]\n",
    "y = sample_wine_df['pH']\n",
    "\n",
    "#train the model on the data\n",
    "model.fit(X, y)\n",
    "\n",
    "#check results\n",
    "#model's slope (a)\n",
    "print(model.coef_)\n",
    "\n",
    "#model's intercept (b)\n",
    "print(model.intercept_)"
   ]
  },
  {
   "cell_type": "code",
   "execution_count": 254,
   "id": "perfect-restoration",
   "metadata": {
    "executionInfo": {
     "elapsed": 746,
     "status": "aborted",
     "timestamp": 1628685438408,
     "user": {
      "displayName": "Cerise Prost",
      "photoUrl": "https://lh3.googleusercontent.com/a-/AOh14GgqIP0TK0osPjoJ7bS-G22fGqR0AOBHYpz99fUU=s64",
      "userId": "16809151529975518036"
     },
     "user_tz": -120
    },
    "id": "perfect-restoration"
   },
   "outputs": [
    {
     "name": "stdout",
     "output_type": "stream",
     "text": [
      "-0.08333333333333334\n",
      "3.98989898989899\n"
     ]
    }
   ],
   "source": [
    "# my best parameters\n",
    "print(slope_best)\n",
    "print(intercept_best)\n"
   ]
  },
  {
   "cell_type": "code",
   "execution_count": 255,
   "id": "norwegian-hollow",
   "metadata": {
    "executionInfo": {
     "elapsed": 747,
     "status": "aborted",
     "timestamp": 1628685438409,
     "user": {
      "displayName": "Cerise Prost",
      "photoUrl": "https://lh3.googleusercontent.com/a-/AOh14GgqIP0TK0osPjoJ7bS-G22fGqR0AOBHYpz99fUU=s64",
      "userId": "16809151529975518036"
     },
     "user_tz": -120
    },
    "id": "norwegian-hollow"
   },
   "outputs": [
    {
     "name": "stdout",
     "output_type": "stream",
     "text": [
      "[-0.051601]\n",
      "3.7176554637668797\n"
     ]
    }
   ],
   "source": [
    "#sklearn best parameters\n",
    "print(model.coef_)\n",
    "print(model.intercept_)"
   ]
  },
  {
   "cell_type": "code",
   "execution_count": 256,
   "id": "realistic-guyana",
   "metadata": {
    "executionInfo": {
     "elapsed": 29,
     "status": "aborted",
     "timestamp": 1628685438412,
     "user": {
      "displayName": "Cerise Prost",
      "photoUrl": "https://lh3.googleusercontent.com/a-/AOh14GgqIP0TK0osPjoJ7bS-G22fGqR0AOBHYpz99fUU=s64",
      "userId": "16809151529975518036"
     },
     "user_tz": -120
    },
    "id": "realistic-guyana"
   },
   "outputs": [
    {
     "data": {
      "text/plain": [
       "0.013416852795633101"
      ]
     },
     "execution_count": 256,
     "metadata": {},
     "output_type": "execute_result"
    }
   ],
   "source": [
    "mse(slope_best, intercept_best, sample_wine_df[\"fixed acidity\"], sample_wine_df.pH)"
   ]
  },
  {
   "cell_type": "code",
   "execution_count": 257,
   "id": "greenhouse-wrong",
   "metadata": {
    "executionInfo": {
     "elapsed": 29,
     "status": "aborted",
     "timestamp": 1628685438412,
     "user": {
      "displayName": "Cerise Prost",
      "photoUrl": "https://lh3.googleusercontent.com/a-/AOh14GgqIP0TK0osPjoJ7bS-G22fGqR0AOBHYpz99fUU=s64",
      "userId": "16809151529975518036"
     },
     "user_tz": -120
    },
    "id": "greenhouse-wrong"
   },
   "outputs": [
    {
     "data": {
      "text/plain": [
       "0.010852905727191518"
      ]
     },
     "execution_count": 257,
     "metadata": {},
     "output_type": "execute_result"
    }
   ],
   "source": [
    "mse(model.coef_, model.intercept_, sample_wine_df[\"fixed acidity\"], sample_wine_df.pH)"
   ]
  },
  {
   "cell_type": "markdown",
   "id": "fundamental-champion",
   "metadata": {
    "id": "fundamental-champion"
   },
   "source": [
    "## inference analysis"
   ]
  },
  {
   "cell_type": "markdown",
   "id": "hungarian-capability",
   "metadata": {
    "id": "hungarian-capability"
   },
   "source": [
    "Get a new sample of 100 with different random state (seed) = 60"
   ]
  },
  {
   "cell_type": "code",
   "execution_count": 281,
   "id": "weird-short",
   "metadata": {
    "id": "weird-short"
   },
   "outputs": [
    {
     "data": {
      "text/html": [
       "<div>\n",
       "<style scoped>\n",
       "    .dataframe tbody tr th:only-of-type {\n",
       "        vertical-align: middle;\n",
       "    }\n",
       "\n",
       "    .dataframe tbody tr th {\n",
       "        vertical-align: top;\n",
       "    }\n",
       "\n",
       "    .dataframe thead th {\n",
       "        text-align: right;\n",
       "    }\n",
       "</style>\n",
       "<table border=\"1\" class=\"dataframe\">\n",
       "  <thead>\n",
       "    <tr style=\"text-align: right;\">\n",
       "      <th></th>\n",
       "      <th>fixed acidity</th>\n",
       "      <th>volatile acidity</th>\n",
       "      <th>citric acid</th>\n",
       "      <th>residual sugar</th>\n",
       "      <th>chlorides</th>\n",
       "      <th>free sulfur dioxide</th>\n",
       "      <th>total sulfur dioxide</th>\n",
       "      <th>density</th>\n",
       "      <th>pH</th>\n",
       "      <th>sulphates</th>\n",
       "      <th>alcohol</th>\n",
       "      <th>quality</th>\n",
       "    </tr>\n",
       "  </thead>\n",
       "  <tbody>\n",
       "    <tr>\n",
       "      <th>31</th>\n",
       "      <td>6.9</td>\n",
       "      <td>0.685</td>\n",
       "      <td>0.00</td>\n",
       "      <td>2.5</td>\n",
       "      <td>0.105</td>\n",
       "      <td>22.0</td>\n",
       "      <td>37.0</td>\n",
       "      <td>0.99660</td>\n",
       "      <td>3.46</td>\n",
       "      <td>0.57</td>\n",
       "      <td>10.6</td>\n",
       "      <td>6</td>\n",
       "    </tr>\n",
       "    <tr>\n",
       "      <th>844</th>\n",
       "      <td>9.9</td>\n",
       "      <td>0.250</td>\n",
       "      <td>0.46</td>\n",
       "      <td>1.7</td>\n",
       "      <td>0.062</td>\n",
       "      <td>26.0</td>\n",
       "      <td>42.0</td>\n",
       "      <td>0.99590</td>\n",
       "      <td>3.18</td>\n",
       "      <td>0.83</td>\n",
       "      <td>10.6</td>\n",
       "      <td>6</td>\n",
       "    </tr>\n",
       "    <tr>\n",
       "      <th>1573</th>\n",
       "      <td>6.0</td>\n",
       "      <td>0.580</td>\n",
       "      <td>0.20</td>\n",
       "      <td>2.4</td>\n",
       "      <td>0.075</td>\n",
       "      <td>15.0</td>\n",
       "      <td>50.0</td>\n",
       "      <td>0.99467</td>\n",
       "      <td>3.58</td>\n",
       "      <td>0.67</td>\n",
       "      <td>12.5</td>\n",
       "      <td>6</td>\n",
       "    </tr>\n",
       "    <tr>\n",
       "      <th>150</th>\n",
       "      <td>7.3</td>\n",
       "      <td>0.330</td>\n",
       "      <td>0.47</td>\n",
       "      <td>2.1</td>\n",
       "      <td>0.077</td>\n",
       "      <td>5.0</td>\n",
       "      <td>11.0</td>\n",
       "      <td>0.99580</td>\n",
       "      <td>3.33</td>\n",
       "      <td>0.53</td>\n",
       "      <td>10.3</td>\n",
       "      <td>6</td>\n",
       "    </tr>\n",
       "    <tr>\n",
       "      <th>258</th>\n",
       "      <td>7.7</td>\n",
       "      <td>0.410</td>\n",
       "      <td>0.76</td>\n",
       "      <td>1.8</td>\n",
       "      <td>0.611</td>\n",
       "      <td>8.0</td>\n",
       "      <td>45.0</td>\n",
       "      <td>0.99680</td>\n",
       "      <td>3.06</td>\n",
       "      <td>1.26</td>\n",
       "      <td>9.4</td>\n",
       "      <td>5</td>\n",
       "    </tr>\n",
       "    <tr>\n",
       "      <th>...</th>\n",
       "      <td>...</td>\n",
       "      <td>...</td>\n",
       "      <td>...</td>\n",
       "      <td>...</td>\n",
       "      <td>...</td>\n",
       "      <td>...</td>\n",
       "      <td>...</td>\n",
       "      <td>...</td>\n",
       "      <td>...</td>\n",
       "      <td>...</td>\n",
       "      <td>...</td>\n",
       "      <td>...</td>\n",
       "    </tr>\n",
       "    <tr>\n",
       "      <th>1350</th>\n",
       "      <td>9.0</td>\n",
       "      <td>0.600</td>\n",
       "      <td>0.29</td>\n",
       "      <td>2.0</td>\n",
       "      <td>0.069</td>\n",
       "      <td>32.0</td>\n",
       "      <td>73.0</td>\n",
       "      <td>0.99654</td>\n",
       "      <td>3.34</td>\n",
       "      <td>0.57</td>\n",
       "      <td>10.0</td>\n",
       "      <td>5</td>\n",
       "    </tr>\n",
       "    <tr>\n",
       "      <th>677</th>\n",
       "      <td>8.6</td>\n",
       "      <td>0.800</td>\n",
       "      <td>0.11</td>\n",
       "      <td>2.3</td>\n",
       "      <td>0.084</td>\n",
       "      <td>12.0</td>\n",
       "      <td>31.0</td>\n",
       "      <td>0.99790</td>\n",
       "      <td>3.40</td>\n",
       "      <td>0.48</td>\n",
       "      <td>9.9</td>\n",
       "      <td>5</td>\n",
       "    </tr>\n",
       "    <tr>\n",
       "      <th>712</th>\n",
       "      <td>8.7</td>\n",
       "      <td>0.690</td>\n",
       "      <td>0.00</td>\n",
       "      <td>3.2</td>\n",
       "      <td>0.084</td>\n",
       "      <td>13.0</td>\n",
       "      <td>33.0</td>\n",
       "      <td>0.99920</td>\n",
       "      <td>3.36</td>\n",
       "      <td>0.45</td>\n",
       "      <td>9.4</td>\n",
       "      <td>5</td>\n",
       "    </tr>\n",
       "    <tr>\n",
       "      <th>1078</th>\n",
       "      <td>8.6</td>\n",
       "      <td>0.370</td>\n",
       "      <td>0.65</td>\n",
       "      <td>6.4</td>\n",
       "      <td>0.080</td>\n",
       "      <td>3.0</td>\n",
       "      <td>8.0</td>\n",
       "      <td>0.99817</td>\n",
       "      <td>3.27</td>\n",
       "      <td>0.58</td>\n",
       "      <td>11.0</td>\n",
       "      <td>5</td>\n",
       "    </tr>\n",
       "    <tr>\n",
       "      <th>1313</th>\n",
       "      <td>7.0</td>\n",
       "      <td>0.360</td>\n",
       "      <td>0.21</td>\n",
       "      <td>2.3</td>\n",
       "      <td>0.086</td>\n",
       "      <td>20.0</td>\n",
       "      <td>65.0</td>\n",
       "      <td>0.99558</td>\n",
       "      <td>3.40</td>\n",
       "      <td>0.54</td>\n",
       "      <td>10.1</td>\n",
       "      <td>6</td>\n",
       "    </tr>\n",
       "  </tbody>\n",
       "</table>\n",
       "<p>100 rows × 12 columns</p>\n",
       "</div>"
      ],
      "text/plain": [
       "      fixed acidity  volatile acidity  citric acid  residual sugar  chlorides  \\\n",
       "31              6.9             0.685         0.00             2.5      0.105   \n",
       "844             9.9             0.250         0.46             1.7      0.062   \n",
       "1573            6.0             0.580         0.20             2.4      0.075   \n",
       "150             7.3             0.330         0.47             2.1      0.077   \n",
       "258             7.7             0.410         0.76             1.8      0.611   \n",
       "...             ...               ...          ...             ...        ...   \n",
       "1350            9.0             0.600         0.29             2.0      0.069   \n",
       "677             8.6             0.800         0.11             2.3      0.084   \n",
       "712             8.7             0.690         0.00             3.2      0.084   \n",
       "1078            8.6             0.370         0.65             6.4      0.080   \n",
       "1313            7.0             0.360         0.21             2.3      0.086   \n",
       "\n",
       "      free sulfur dioxide  total sulfur dioxide  density    pH  sulphates  \\\n",
       "31                   22.0                  37.0  0.99660  3.46       0.57   \n",
       "844                  26.0                  42.0  0.99590  3.18       0.83   \n",
       "1573                 15.0                  50.0  0.99467  3.58       0.67   \n",
       "150                   5.0                  11.0  0.99580  3.33       0.53   \n",
       "258                   8.0                  45.0  0.99680  3.06       1.26   \n",
       "...                   ...                   ...      ...   ...        ...   \n",
       "1350                 32.0                  73.0  0.99654  3.34       0.57   \n",
       "677                  12.0                  31.0  0.99790  3.40       0.48   \n",
       "712                  13.0                  33.0  0.99920  3.36       0.45   \n",
       "1078                  3.0                   8.0  0.99817  3.27       0.58   \n",
       "1313                 20.0                  65.0  0.99558  3.40       0.54   \n",
       "\n",
       "      alcohol  quality  \n",
       "31       10.6        6  \n",
       "844      10.6        6  \n",
       "1573     12.5        6  \n",
       "150      10.3        6  \n",
       "258       9.4        5  \n",
       "...       ...      ...  \n",
       "1350     10.0        5  \n",
       "677       9.9        5  \n",
       "712       9.4        5  \n",
       "1078     11.0        5  \n",
       "1313     10.1        6  \n",
       "\n",
       "[100 rows x 12 columns]"
      ]
     },
     "execution_count": 281,
     "metadata": {},
     "output_type": "execute_result"
    }
   ],
   "source": [
    "wine_samples2 = wine_df.sample(random_state=60,n=100)\n",
    "wine_samples2"
   ]
  },
  {
   "cell_type": "markdown",
   "id": "peripheral-powder",
   "metadata": {
    "id": "peripheral-powder"
   },
   "source": [
    "Does your best linear model fit with this new sample set ?  Why ?\n"
   ]
  },
  {
   "cell_type": "code",
   "execution_count": 282,
   "id": "asian-august",
   "metadata": {
    "id": "asian-august",
    "scrolled": true
   },
   "outputs": [
    {
     "data": {
      "image/png": "[encoded data removed]",
      "text/plain": [
       "<Figure size 432x288 with 1 Axes>"
      ]
     },
     "metadata": {
      "needs_background": "light"
     },
     "output_type": "display_data"
    }
   ],
   "source": [
    "plt.scatter(data=wine_samples2, x='fixed acidity', y='pH', color='purple', marker='*')\n",
    "plt.xlabel('fixed acidity')\n",
    "plt.ylabel('pH')\n",
    "plt.show()"
   ]
  },
  {
   "cell_type": "markdown",
   "id": "designing-priority",
   "metadata": {
    "id": "designing-priority"
   },
   "source": [
    "How can you solve the problem ?"
   ]
  },
  {
   "cell_type": "code",
   "execution_count": 283,
   "id": "unsigned-collect",
   "metadata": {
    "id": "unsigned-collect"
   },
   "outputs": [
    {
     "name": "stdout",
     "output_type": "stream",
     "text": [
      "Coefficient: [-0.07687905]\n",
      "Intercept: 3.9588041512911536\n"
     ]
    }
   ],
   "source": [
    "model = LinearRegression()\n",
    "X = wine_samples2[['fixed acidity']]\n",
    "y = wine_samples2['pH']\n",
    "model.fit(X, y)\n",
    "print(\"Coefficient:\",(model.coef_))\n",
    "print(\"Intercept:\",(model.intercept_))"
   ]
  },
  {
   "cell_type": "code",
   "execution_count": 284,
   "id": "16c82640",
   "metadata": {},
   "outputs": [
    {
     "data": {
      "image/png": "[encoded data removed]",
      "text/plain": [
       "<Figure size 432x288 with 1 Axes>"
      ]
     },
     "metadata": {
      "needs_background": "light"
     },
     "output_type": "display_data"
    }
   ],
   "source": [
    "ax = sns.scatterplot(y='pH', x='fixed acidity', data=wine_samples2)\n",
    "plot_line(slope_best, intercept_best, ax)"
   ]
  },
  {
   "cell_type": "markdown",
   "id": "unlike-matthew",
   "metadata": {
    "id": "unlike-matthew"
   },
   "source": [
    "# Predict wine quality - regression problem"
   ]
  },
  {
   "cell_type": "markdown",
   "id": "inside-protocol",
   "metadata": {
    "id": "inside-protocol"
   },
   "source": [
    "## Simple Linear regression"
   ]
  },
  {
   "cell_type": "markdown",
   "id": "oriental-refrigerator",
   "metadata": {
    "id": "oriental-refrigerator"
   },
   "source": [
    "Let's try to create a new linear regression. This time, try to find the best model to predict quality in function of pH\n",
    "\n",
    "Follow the same steps as before: \n",
    "- choose a random sample with fixed seed\n",
    "- use seaborn to see the linear model in this sample\n",
    "- calculate the best linear regression\n",
    "- check if the model fits with a new sample"
   ]
  },
  {
   "cell_type": "code",
   "execution_count": 45,
   "id": "multiple-yorkshire",
   "metadata": {
    "id": "multiple-yorkshire"
   },
   "outputs": [
    {
     "data": {
      "text/html": [
       "<div>\n",
       "<style scoped>\n",
       "    .dataframe tbody tr th:only-of-type {\n",
       "        vertical-align: middle;\n",
       "    }\n",
       "\n",
       "    .dataframe tbody tr th {\n",
       "        vertical-align: top;\n",
       "    }\n",
       "\n",
       "    .dataframe thead th {\n",
       "        text-align: right;\n",
       "    }\n",
       "</style>\n",
       "<table border=\"1\" class=\"dataframe\">\n",
       "  <thead>\n",
       "    <tr style=\"text-align: right;\">\n",
       "      <th></th>\n",
       "      <th>fixed acidity</th>\n",
       "      <th>volatile acidity</th>\n",
       "      <th>citric acid</th>\n",
       "      <th>residual sugar</th>\n",
       "      <th>chlorides</th>\n",
       "      <th>free sulfur dioxide</th>\n",
       "      <th>total sulfur dioxide</th>\n",
       "      <th>density</th>\n",
       "      <th>pH</th>\n",
       "      <th>sulphates</th>\n",
       "      <th>alcohol</th>\n",
       "      <th>quality</th>\n",
       "    </tr>\n",
       "  </thead>\n",
       "  <tbody>\n",
       "    <tr>\n",
       "      <th>145</th>\n",
       "      <td>8.1</td>\n",
       "      <td>0.670</td>\n",
       "      <td>0.55</td>\n",
       "      <td>1.8</td>\n",
       "      <td>0.117</td>\n",
       "      <td>32.0</td>\n",
       "      <td>141.0</td>\n",
       "      <td>0.99680</td>\n",
       "      <td>3.17</td>\n",
       "      <td>0.62</td>\n",
       "      <td>9.4</td>\n",
       "      <td>5</td>\n",
       "    </tr>\n",
       "    <tr>\n",
       "      <th>345</th>\n",
       "      <td>7.0</td>\n",
       "      <td>0.685</td>\n",
       "      <td>0.00</td>\n",
       "      <td>1.9</td>\n",
       "      <td>0.067</td>\n",
       "      <td>40.0</td>\n",
       "      <td>63.0</td>\n",
       "      <td>0.99790</td>\n",
       "      <td>3.60</td>\n",
       "      <td>0.81</td>\n",
       "      <td>9.9</td>\n",
       "      <td>5</td>\n",
       "    </tr>\n",
       "    <tr>\n",
       "      <th>603</th>\n",
       "      <td>13.2</td>\n",
       "      <td>0.460</td>\n",
       "      <td>0.52</td>\n",
       "      <td>2.2</td>\n",
       "      <td>0.071</td>\n",
       "      <td>12.0</td>\n",
       "      <td>35.0</td>\n",
       "      <td>1.00060</td>\n",
       "      <td>3.10</td>\n",
       "      <td>0.56</td>\n",
       "      <td>9.0</td>\n",
       "      <td>6</td>\n",
       "    </tr>\n",
       "    <tr>\n",
       "      <th>319</th>\n",
       "      <td>9.6</td>\n",
       "      <td>0.770</td>\n",
       "      <td>0.12</td>\n",
       "      <td>2.9</td>\n",
       "      <td>0.082</td>\n",
       "      <td>30.0</td>\n",
       "      <td>74.0</td>\n",
       "      <td>0.99865</td>\n",
       "      <td>3.30</td>\n",
       "      <td>0.64</td>\n",
       "      <td>10.4</td>\n",
       "      <td>6</td>\n",
       "    </tr>\n",
       "    <tr>\n",
       "      <th>1544</th>\n",
       "      <td>8.4</td>\n",
       "      <td>0.370</td>\n",
       "      <td>0.43</td>\n",
       "      <td>2.3</td>\n",
       "      <td>0.063</td>\n",
       "      <td>12.0</td>\n",
       "      <td>19.0</td>\n",
       "      <td>0.99550</td>\n",
       "      <td>3.17</td>\n",
       "      <td>0.81</td>\n",
       "      <td>11.2</td>\n",
       "      <td>7</td>\n",
       "    </tr>\n",
       "    <tr>\n",
       "      <th>...</th>\n",
       "      <td>...</td>\n",
       "      <td>...</td>\n",
       "      <td>...</td>\n",
       "      <td>...</td>\n",
       "      <td>...</td>\n",
       "      <td>...</td>\n",
       "      <td>...</td>\n",
       "      <td>...</td>\n",
       "      <td>...</td>\n",
       "      <td>...</td>\n",
       "      <td>...</td>\n",
       "      <td>...</td>\n",
       "    </tr>\n",
       "    <tr>\n",
       "      <th>353</th>\n",
       "      <td>13.5</td>\n",
       "      <td>0.530</td>\n",
       "      <td>0.79</td>\n",
       "      <td>4.8</td>\n",
       "      <td>0.120</td>\n",
       "      <td>23.0</td>\n",
       "      <td>77.0</td>\n",
       "      <td>1.00180</td>\n",
       "      <td>3.18</td>\n",
       "      <td>0.77</td>\n",
       "      <td>13.0</td>\n",
       "      <td>5</td>\n",
       "    </tr>\n",
       "    <tr>\n",
       "      <th>939</th>\n",
       "      <td>6.2</td>\n",
       "      <td>0.460</td>\n",
       "      <td>0.17</td>\n",
       "      <td>1.6</td>\n",
       "      <td>0.073</td>\n",
       "      <td>7.0</td>\n",
       "      <td>11.0</td>\n",
       "      <td>0.99425</td>\n",
       "      <td>3.61</td>\n",
       "      <td>0.54</td>\n",
       "      <td>11.4</td>\n",
       "      <td>5</td>\n",
       "    </tr>\n",
       "    <tr>\n",
       "      <th>745</th>\n",
       "      <td>7.3</td>\n",
       "      <td>0.510</td>\n",
       "      <td>0.18</td>\n",
       "      <td>2.1</td>\n",
       "      <td>0.070</td>\n",
       "      <td>12.0</td>\n",
       "      <td>28.0</td>\n",
       "      <td>0.99768</td>\n",
       "      <td>3.52</td>\n",
       "      <td>0.73</td>\n",
       "      <td>9.5</td>\n",
       "      <td>6</td>\n",
       "    </tr>\n",
       "    <tr>\n",
       "      <th>85</th>\n",
       "      <td>6.9</td>\n",
       "      <td>0.550</td>\n",
       "      <td>0.15</td>\n",
       "      <td>2.2</td>\n",
       "      <td>0.076</td>\n",
       "      <td>19.0</td>\n",
       "      <td>40.0</td>\n",
       "      <td>0.99610</td>\n",
       "      <td>3.41</td>\n",
       "      <td>0.59</td>\n",
       "      <td>10.1</td>\n",
       "      <td>5</td>\n",
       "    </tr>\n",
       "    <tr>\n",
       "      <th>1567</th>\n",
       "      <td>7.2</td>\n",
       "      <td>0.695</td>\n",
       "      <td>0.13</td>\n",
       "      <td>2.0</td>\n",
       "      <td>0.076</td>\n",
       "      <td>12.0</td>\n",
       "      <td>20.0</td>\n",
       "      <td>0.99546</td>\n",
       "      <td>3.29</td>\n",
       "      <td>0.54</td>\n",
       "      <td>10.1</td>\n",
       "      <td>5</td>\n",
       "    </tr>\n",
       "  </tbody>\n",
       "</table>\n",
       "<p>100 rows × 12 columns</p>\n",
       "</div>"
      ],
      "text/plain": [
       "      fixed acidity  volatile acidity  citric acid  residual sugar  chlorides  \\\n",
       "145             8.1             0.670         0.55             1.8      0.117   \n",
       "345             7.0             0.685         0.00             1.9      0.067   \n",
       "603            13.2             0.460         0.52             2.2      0.071   \n",
       "319             9.6             0.770         0.12             2.9      0.082   \n",
       "1544            8.4             0.370         0.43             2.3      0.063   \n",
       "...             ...               ...          ...             ...        ...   \n",
       "353            13.5             0.530         0.79             4.8      0.120   \n",
       "939             6.2             0.460         0.17             1.6      0.073   \n",
       "745             7.3             0.510         0.18             2.1      0.070   \n",
       "85              6.9             0.550         0.15             2.2      0.076   \n",
       "1567            7.2             0.695         0.13             2.0      0.076   \n",
       "\n",
       "      free sulfur dioxide  total sulfur dioxide  density    pH  sulphates  \\\n",
       "145                  32.0                 141.0  0.99680  3.17       0.62   \n",
       "345                  40.0                  63.0  0.99790  3.60       0.81   \n",
       "603                  12.0                  35.0  1.00060  3.10       0.56   \n",
       "319                  30.0                  74.0  0.99865  3.30       0.64   \n",
       "1544                 12.0                  19.0  0.99550  3.17       0.81   \n",
       "...                   ...                   ...      ...   ...        ...   \n",
       "353                  23.0                  77.0  1.00180  3.18       0.77   \n",
       "939                   7.0                  11.0  0.99425  3.61       0.54   \n",
       "745                  12.0                  28.0  0.99768  3.52       0.73   \n",
       "85                   19.0                  40.0  0.99610  3.41       0.59   \n",
       "1567                 12.0                  20.0  0.99546  3.29       0.54   \n",
       "\n",
       "      alcohol  quality  \n",
       "145       9.4        5  \n",
       "345       9.9        5  \n",
       "603       9.0        6  \n",
       "319      10.4        6  \n",
       "1544     11.2        7  \n",
       "...       ...      ...  \n",
       "353      13.0        5  \n",
       "939      11.4        5  \n",
       "745       9.5        6  \n",
       "85       10.1        5  \n",
       "1567     10.1        5  \n",
       "\n",
       "[100 rows x 12 columns]"
      ]
     },
     "execution_count": 45,
     "metadata": {},
     "output_type": "execute_result"
    }
   ],
   "source": [
    "mywinesamples = wine_df.sample(random_state=8,n=100)\n",
    "mywinesamples"
   ]
  },
  {
   "cell_type": "code",
   "execution_count": 46,
   "id": "attached-quebec",
   "metadata": {
    "id": "attached-quebec"
   },
   "outputs": [
    {
     "data": {
      "text/plain": [
       "<seaborn.axisgrid.FacetGrid at 0x116efdc3280>"
      ]
     },
     "execution_count": 46,
     "metadata": {},
     "output_type": "execute_result"
    },
    {
     "data": {
      "image/png": "[encoded data removed]",
      "text/plain": [
       "<Figure size 360x360 with 1 Axes>"
      ]
     },
     "metadata": {
      "needs_background": "light"
     },
     "output_type": "display_data"
    }
   ],
   "source": [
    "#define x and y\n",
    "x=mywinesamples['pH']\n",
    "y=mywinesamples['quality'] \n",
    "\n",
    "#catplot pH / quality\n",
    "sns.catplot(x=x, y=y, data=mywinesamples)"
   ]
  },
  {
   "cell_type": "code",
   "execution_count": 47,
   "id": "5ab58a65",
   "metadata": {},
   "outputs": [
    {
     "data": {
      "image/png": "[encoded data removed]",
      "text/plain": [
       "<Figure size 432x288 with 1 Axes>"
      ]
     },
     "metadata": {
      "needs_background": "light"
     },
     "output_type": "display_data"
    }
   ],
   "source": [
    "ax2 = sns.scatterplot(y='quality', x='pH', data=mywinesamples)\n",
    "plot_line(slope_best, intercept_best, ax2)"
   ]
  },
  {
   "cell_type": "markdown",
   "id": "stuffed-conditions",
   "metadata": {
    "id": "stuffed-conditions"
   },
   "source": [
    "### Using Holdout method "
   ]
  },
  {
   "cell_type": "markdown",
   "id": "acquired-recovery",
   "metadata": {
    "id": "acquired-recovery"
   },
   "source": [
    "Use train split method to divide the dataset in 70% train set and 30% test set"
   ]
  },
  {
   "cell_type": "code",
   "execution_count": 48,
   "id": "1d03c305",
   "metadata": {},
   "outputs": [],
   "source": [
    "#scores :\n",
    "#pH / quality : 0,02741\n",
    "#volatile acidity / quality : 0,0229\n",
    "#fixed acidity / quality : 0,0971\n",
    "#pH,alcohol,fixed acidity,density,chlorides / quality: 0,19346\n",
    "#fixed acidity,volatile acidity,citric acid,residual sugar,chlorides,free sulfur dioxide,total sulfur dioxide,density,sulphates,alcohol / pH : 0,46002\n",
    "#fixed acidity,volatile acidity,citric acid,residual sugar,chlorides,free sulfur dioxide,total sulfur dioxide,density,sulphates,alcohol,quality / pH : 0,463422"
   ]
  },
  {
   "cell_type": "code",
   "execution_count": 398,
   "id": "composite-consortium",
   "metadata": {
    "id": "composite-consortium",
    "outputId": "9553758f-ffe5-4bcc-9f36-bdca8b58e342"
   },
   "outputs": [
    {
     "data": {
      "text/plain": [
       "-0.02741935633268433"
      ]
     },
     "execution_count": 398,
     "metadata": {},
     "output_type": "execute_result"
    }
   ],
   "source": [
    "#PH / quality\n",
    "\n",
    "# Choose your feature and your target\n",
    "X = mywinesamples[['pH']]\n",
    "y = mywinesamples['quality']\n",
    "\n",
    "# Splitting the data\n",
    "X_train, X_test, y_train, y_test = train_test_split(X, y, test_size=.3, random_state=1)\n",
    "\n",
    "# Choose your model\n",
    "model = LinearRegression()\n",
    "\n",
    "# Fit the model with the train set\n",
    "model.fit(X_train, y_train)\n",
    "\n",
    "# Evaluate the model with the test set\n",
    "model.score(X_test, y_test)"
   ]
  },
  {
   "cell_type": "code",
   "execution_count": 400,
   "id": "e48159c7",
   "metadata": {},
   "outputs": [
    {
     "name": "stdout",
     "output_type": "stream",
     "text": [
      "Coef: [-0.05123891]\n",
      "Intercept: 5.8680123732469625\n"
     ]
    }
   ],
   "source": [
    "#coef and intercept\n",
    "print('Coef:',model.coef_)\n",
    "print('Intercept:',model.intercept_)"
   ]
  },
  {
   "cell_type": "code",
   "execution_count": 401,
   "id": "982e7b9c",
   "metadata": {},
   "outputs": [
    {
     "data": {
      "text/plain": [
       "<AxesSubplot:xlabel='pH', ylabel='quality'>"
      ]
     },
     "execution_count": 401,
     "metadata": {},
     "output_type": "execute_result"
    },
    {
     "data": {
      "image/png": "[encoded data removed]",
      "text/plain": [
       "<Figure size 432x288 with 1 Axes>"
      ]
     },
     "metadata": {},
     "output_type": "display_data"
    }
   ],
   "source": [
    "sns.regplot(y='quality', x='pH', data=mywinesamples)"
   ]
  },
  {
   "cell_type": "markdown",
   "id": "funny-netscape",
   "metadata": {
    "id": "funny-netscape"
   },
   "source": [
    "Try another feature. Replace pH with fixed acidity, volatile acidity, ...\n",
    "\n",
    "Which feature increases this value? "
   ]
  },
  {
   "cell_type": "code",
   "execution_count": 402,
   "id": "95f8c3a8",
   "metadata": {},
   "outputs": [
    {
     "data": {
      "text/plain": [
       "0.022950255259280294"
      ]
     },
     "execution_count": 402,
     "metadata": {},
     "output_type": "execute_result"
    }
   ],
   "source": [
    "#volatile acidity / quality\n",
    "\n",
    "# Choose your feature and your target\n",
    "X = mywinesamples[['volatile acidity']]\n",
    "y = mywinesamples['quality']\n",
    "\n",
    "# Splitting the data\n",
    "X_train, X_test, y_train, y_test = train_test_split(X, y, test_size=.3, random_state=1)\n",
    "\n",
    "# Choose your model\n",
    "model = LinearRegression()\n",
    "\n",
    "# Fit the model with the train set\n",
    "model.fit(X_train, y_train)\n",
    "\n",
    "# Evaluate the model with the test set\n",
    "model.score(X_test, y_test)"
   ]
  },
  {
   "cell_type": "code",
   "execution_count": 403,
   "id": "0b877b53",
   "metadata": {},
   "outputs": [
    {
     "name": "stdout",
     "output_type": "stream",
     "text": [
      "Coef: [-1.14018321]\n",
      "Intercept: 6.317001999182073\n"
     ]
    }
   ],
   "source": [
    "#coef and intercept\n",
    "print('Coef:',model.coef_)\n",
    "print('Intercept:',model.intercept_)"
   ]
  },
  {
   "cell_type": "code",
   "execution_count": 404,
   "id": "impressed-piano",
   "metadata": {
    "id": "impressed-piano"
   },
   "outputs": [
    {
     "data": {
      "text/plain": [
       "<AxesSubplot:xlabel='volatile acidity', ylabel='quality'>"
      ]
     },
     "execution_count": 404,
     "metadata": {},
     "output_type": "execute_result"
    },
    {
     "data": {
      "image/png": "[encoded data removed]",
      "text/plain": [
       "<Figure size 432x288 with 1 Axes>"
      ]
     },
     "metadata": {},
     "output_type": "display_data"
    }
   ],
   "source": [
    "sns.regplot(y='quality', x='volatile acidity', data=mywinesamples)"
   ]
  },
  {
   "cell_type": "code",
   "execution_count": 405,
   "id": "f7673be0",
   "metadata": {},
   "outputs": [
    {
     "data": {
      "text/plain": [
       "-0.0971070292859586"
      ]
     },
     "execution_count": 405,
     "metadata": {},
     "output_type": "execute_result"
    }
   ],
   "source": [
    "#volatile fixed / quality\n",
    "\n",
    "# Choose your feature and your target\n",
    "X = mywinesamples[['fixed acidity']]\n",
    "y = mywinesamples['quality']\n",
    "\n",
    "# Splitting the data\n",
    "X_train, X_test, y_train, y_test = train_test_split(X, y, test_size=.3, random_state=1)\n",
    "\n",
    "# Choose your model\n",
    "model = LinearRegression()\n",
    "\n",
    "# Fit the model with the train set\n",
    "model.fit(X_train, y_train)\n",
    "\n",
    "# Evaluate the model with the test set\n",
    "model.score(X_test, y_test)"
   ]
  },
  {
   "cell_type": "code",
   "execution_count": 408,
   "id": "c0adec7e",
   "metadata": {},
   "outputs": [
    {
     "name": "stdout",
     "output_type": "stream",
     "text": [
      "Coef: [0.09908409]\n",
      "Intercept: 4.84631980675906\n"
     ]
    }
   ],
   "source": [
    "#coef and intercept\n",
    "print('Coef:',model.coef_)\n",
    "print('Intercept:',model.intercept_)"
   ]
  },
  {
   "cell_type": "code",
   "execution_count": 409,
   "id": "610e7245",
   "metadata": {},
   "outputs": [
    {
     "data": {
      "text/plain": [
       "<AxesSubplot:xlabel='fixed acidity', ylabel='quality'>"
      ]
     },
     "execution_count": 409,
     "metadata": {},
     "output_type": "execute_result"
    },
    {
     "data": {
      "image/png": "[encoded data removed]",
      "text/plain": [
       "<Figure size 432x288 with 1 Axes>"
      ]
     },
     "metadata": {},
     "output_type": "display_data"
    }
   ],
   "source": [
    "sns.regplot(y='quality', x='fixed acidity', data=mywinesamples)"
   ]
  },
  {
   "cell_type": "code",
   "execution_count": 410,
   "id": "113b1349",
   "metadata": {},
   "outputs": [
    {
     "data": {
      "text/html": [
       "<div>\n",
       "<style scoped>\n",
       "    .dataframe tbody tr th:only-of-type {\n",
       "        vertical-align: middle;\n",
       "    }\n",
       "\n",
       "    .dataframe tbody tr th {\n",
       "        vertical-align: top;\n",
       "    }\n",
       "\n",
       "    .dataframe thead th {\n",
       "        text-align: right;\n",
       "    }\n",
       "</style>\n",
       "<table border=\"1\" class=\"dataframe\">\n",
       "  <thead>\n",
       "    <tr style=\"text-align: right;\">\n",
       "      <th></th>\n",
       "      <th>feature_1</th>\n",
       "      <th>feature_2</th>\n",
       "      <th>correlation</th>\n",
       "    </tr>\n",
       "  </thead>\n",
       "  <tbody>\n",
       "    <tr>\n",
       "      <th>7</th>\n",
       "      <td>fixed acidity</td>\n",
       "      <td>density</td>\n",
       "      <td>0.778183</td>\n",
       "    </tr>\n",
       "    <tr>\n",
       "      <th>84</th>\n",
       "      <td>density</td>\n",
       "      <td>fixed acidity</td>\n",
       "      <td>0.778183</td>\n",
       "    </tr>\n",
       "    <tr>\n",
       "      <th>77</th>\n",
       "      <td>total sulfur dioxide</td>\n",
       "      <td>free sulfur dioxide</td>\n",
       "      <td>0.704293</td>\n",
       "    </tr>\n",
       "    <tr>\n",
       "      <th>66</th>\n",
       "      <td>free sulfur dioxide</td>\n",
       "      <td>total sulfur dioxide</td>\n",
       "      <td>0.704293</td>\n",
       "    </tr>\n",
       "    <tr>\n",
       "      <th>24</th>\n",
       "      <td>citric acid</td>\n",
       "      <td>fixed acidity</td>\n",
       "      <td>0.670295</td>\n",
       "    </tr>\n",
       "  </tbody>\n",
       "</table>\n",
       "</div>"
      ],
      "text/plain": [
       "               feature_1             feature_2  correlation\n",
       "7          fixed acidity               density     0.778183\n",
       "84               density         fixed acidity     0.778183\n",
       "77  total sulfur dioxide   free sulfur dioxide     0.704293\n",
       "66   free sulfur dioxide  total sulfur dioxide     0.704293\n",
       "24           citric acid         fixed acidity     0.670295"
      ]
     },
     "execution_count": 410,
     "metadata": {},
     "output_type": "execute_result"
    }
   ],
   "source": [
    "corr = mywinesamples.corr()\n",
    "\n",
    "# Unstack correlation matrix \n",
    "corr_df = corr.unstack().reset_index() \n",
    "corr_df\n",
    "\n",
    "# rename columns\n",
    "corr_df.columns = ['feature_1','feature_2', 'correlation'] \n",
    "\n",
    "# sort by correlation\n",
    "corr_df.sort_values(by=\"correlation\",ascending=False, inplace=True) \n",
    "\n",
    "# Remove self correlation\n",
    "corr_df = corr_df[corr_df['feature_1'] != corr_df['feature_2']] \n",
    "corr_df.head()"
   ]
  },
  {
   "cell_type": "markdown",
   "id": "unlike-momentum",
   "metadata": {
    "id": "unlike-momentum"
   },
   "source": [
    "## Multi linear regression"
   ]
  },
  {
   "cell_type": "markdown",
   "id": "deluxe-bennett",
   "metadata": {
    "id": "deluxe-bennett"
   },
   "source": [
    "Let's add multiple features in the regression model. Then create a new model and compare your results with Simple regression. Is it better or worst? "
   ]
  },
  {
   "cell_type": "code",
   "execution_count": 418,
   "id": "coordinated-estonia",
   "metadata": {
    "id": "coordinated-estonia"
   },
   "outputs": [
    {
     "data": {
      "text/plain": [
       "0.1934628491526229"
      ]
     },
     "execution_count": 418,
     "metadata": {},
     "output_type": "execute_result"
    }
   ],
   "source": [
    "# Choose your feature and your target\n",
    "X = mywinesamples[['pH','alcohol', 'fixed acidity', 'density', 'chlorides']]\n",
    "y = mywinesamples['quality']\n",
    "\n",
    "# Splitting the data\n",
    "X_train, X_test, y_train, y_test = train_test_split(X, y, test_size=.3, random_state=1)\n",
    "\n",
    "# Choose your model\n",
    "model = LinearRegression()\n",
    "\n",
    "# Fit the model with the train set\n",
    "model.fit(X_train, y_train)\n",
    "\n",
    "# Evaluate the model with the test set\n",
    "model.score(X_test, y_test)"
   ]
  },
  {
   "cell_type": "code",
   "execution_count": 419,
   "id": "fa676ef5",
   "metadata": {},
   "outputs": [
    {
     "name": "stdout",
     "output_type": "stream",
     "text": [
      "Coef: [  -0.47669576    0.2990266     0.17503535 -147.69494091   -1.5110335 ]\n",
      "Intercept: 150.06005978846147\n"
     ]
    }
   ],
   "source": [
    "#coef and intercept\n",
    "print('Coef:',model.coef_)\n",
    "print('Intercept:',model.intercept_)"
   ]
  },
  {
   "cell_type": "markdown",
   "id": "limited-officer",
   "metadata": {
    "id": "limited-officer"
   },
   "source": [
    "Try with all the features (all without column quality of course). \n",
    "\n",
    "Create a new model and compare with the last one. Is it better? Why? \n",
    "\n"
   ]
  },
  {
   "cell_type": "code",
   "execution_count": 420,
   "id": "breathing-parts",
   "metadata": {
    "id": "breathing-parts"
   },
   "outputs": [
    {
     "data": {
      "text/plain": [
       "0.4600201284969815"
      ]
     },
     "execution_count": 420,
     "metadata": {},
     "output_type": "execute_result"
    }
   ],
   "source": [
    "# Choose your feature and your target\n",
    "X = mywinesamples[['fixed acidity','volatile acidity','citric acid','residual sugar','chlorides','free sulfur dioxide','total sulfur dioxide','density','sulphates','alcohol']]\n",
    "y = mywinesamples['pH']\n",
    "\n",
    "# Splitting the data\n",
    "X_train, X_test, y_train, y_test = train_test_split(X, y, test_size=.3, random_state=1)\n",
    "\n",
    "# Choose your model\n",
    "model = LinearRegression()\n",
    "\n",
    "# Fit the model with the train set\n",
    "model.fit(X_train, y_train)\n",
    "\n",
    "# Evaluate the model with the test set\n",
    "model.score(X_test, y_test)"
   ]
  },
  {
   "cell_type": "markdown",
   "id": "economic-hygiene",
   "metadata": {
    "id": "economic-hygiene"
   },
   "source": [
    "If you add the column quality in the variable X, what would happen ? "
   ]
  },
  {
   "cell_type": "code",
   "execution_count": 421,
   "id": "active-annex",
   "metadata": {
    "id": "active-annex"
   },
   "outputs": [
    {
     "data": {
      "text/plain": [
       "0.4634222653598761"
      ]
     },
     "execution_count": 421,
     "metadata": {},
     "output_type": "execute_result"
    }
   ],
   "source": [
    "# Choose your feature and your target\n",
    "X = mywinesamples[['fixed acidity','volatile acidity','citric acid','residual sugar','chlorides','free sulfur dioxide','total sulfur dioxide','density','sulphates','alcohol','quality']]\n",
    "y = mywinesamples['pH']\n",
    "\n",
    "# Splitting the data\n",
    "X_train, X_test, y_train, y_test = train_test_split(X, y, test_size=.3, random_state=1)\n",
    "\n",
    "# Choose your model\n",
    "model = LinearRegression()\n",
    "\n",
    "# Fit the model with the train set\n",
    "model.fit(X_train, y_train)\n",
    "\n",
    "# Evaluate the model with the test set\n",
    "model.score(X_test, y_test)"
   ]
  },
  {
   "cell_type": "markdown",
   "id": "biological-leather",
   "metadata": {
    "id": "biological-leather"
   },
   "source": [
    "# Predict wine quality - classification problem"
   ]
  },
  {
   "cell_type": "markdown",
   "id": "limiting-preview",
   "metadata": {
    "id": "limiting-preview"
   },
   "source": [
    "## convert quality column in 2 classes"
   ]
  },
  {
   "cell_type": "markdown",
   "id": "deluxe-disorder",
   "metadata": {
    "id": "deluxe-disorder"
   },
   "source": [
    "Create a classification version (good or bad) of target variable (quality). To do so, let's consider that the wine with quality equal of higher than 7 is good quality and the rest bad quality. \n",
    "\n",
    "You can call the new column goodquality"
   ]
  },
  {
   "cell_type": "code",
   "execution_count": 397,
   "id": "brutal-uncertainty",
   "metadata": {
    "id": "brutal-uncertainty",
    "outputId": "8dda1d70-c9f1-4673-da9f-79f57867420c"
   },
   "outputs": [
    {
     "data": {
      "text/html": [
       "<div>\n",
       "<style scoped>\n",
       "    .dataframe tbody tr th:only-of-type {\n",
       "        vertical-align: middle;\n",
       "    }\n",
       "\n",
       "    .dataframe tbody tr th {\n",
       "        vertical-align: top;\n",
       "    }\n",
       "\n",
       "    .dataframe thead th {\n",
       "        text-align: right;\n",
       "    }\n",
       "</style>\n",
       "<table border=\"1\" class=\"dataframe\">\n",
       "  <thead>\n",
       "    <tr style=\"text-align: right;\">\n",
       "      <th></th>\n",
       "      <th>fixed acidity</th>\n",
       "      <th>volatile acidity</th>\n",
       "      <th>citric acid</th>\n",
       "      <th>residual sugar</th>\n",
       "      <th>chlorides</th>\n",
       "      <th>free sulfur dioxide</th>\n",
       "      <th>total sulfur dioxide</th>\n",
       "      <th>density</th>\n",
       "      <th>pH</th>\n",
       "      <th>sulphates</th>\n",
       "      <th>alcohol</th>\n",
       "      <th>quality</th>\n",
       "      <th>goodquality</th>\n",
       "    </tr>\n",
       "  </thead>\n",
       "  <tbody>\n",
       "    <tr>\n",
       "      <th>0</th>\n",
       "      <td>7.4</td>\n",
       "      <td>0.700</td>\n",
       "      <td>0.00</td>\n",
       "      <td>1.9</td>\n",
       "      <td>0.076</td>\n",
       "      <td>11.0</td>\n",
       "      <td>34.0</td>\n",
       "      <td>0.99780</td>\n",
       "      <td>3.51</td>\n",
       "      <td>0.56</td>\n",
       "      <td>9.4</td>\n",
       "      <td>5</td>\n",
       "      <td>0</td>\n",
       "    </tr>\n",
       "    <tr>\n",
       "      <th>1</th>\n",
       "      <td>7.8</td>\n",
       "      <td>0.880</td>\n",
       "      <td>0.00</td>\n",
       "      <td>2.6</td>\n",
       "      <td>0.098</td>\n",
       "      <td>25.0</td>\n",
       "      <td>67.0</td>\n",
       "      <td>0.99680</td>\n",
       "      <td>3.20</td>\n",
       "      <td>0.68</td>\n",
       "      <td>9.8</td>\n",
       "      <td>5</td>\n",
       "      <td>0</td>\n",
       "    </tr>\n",
       "    <tr>\n",
       "      <th>2</th>\n",
       "      <td>7.8</td>\n",
       "      <td>0.760</td>\n",
       "      <td>0.04</td>\n",
       "      <td>2.3</td>\n",
       "      <td>0.092</td>\n",
       "      <td>15.0</td>\n",
       "      <td>54.0</td>\n",
       "      <td>0.99700</td>\n",
       "      <td>3.26</td>\n",
       "      <td>0.65</td>\n",
       "      <td>9.8</td>\n",
       "      <td>5</td>\n",
       "      <td>0</td>\n",
       "    </tr>\n",
       "    <tr>\n",
       "      <th>3</th>\n",
       "      <td>11.2</td>\n",
       "      <td>0.280</td>\n",
       "      <td>0.56</td>\n",
       "      <td>1.9</td>\n",
       "      <td>0.075</td>\n",
       "      <td>17.0</td>\n",
       "      <td>60.0</td>\n",
       "      <td>0.99800</td>\n",
       "      <td>3.16</td>\n",
       "      <td>0.58</td>\n",
       "      <td>9.8</td>\n",
       "      <td>6</td>\n",
       "      <td>0</td>\n",
       "    </tr>\n",
       "    <tr>\n",
       "      <th>4</th>\n",
       "      <td>7.4</td>\n",
       "      <td>0.700</td>\n",
       "      <td>0.00</td>\n",
       "      <td>1.9</td>\n",
       "      <td>0.076</td>\n",
       "      <td>11.0</td>\n",
       "      <td>34.0</td>\n",
       "      <td>0.99780</td>\n",
       "      <td>3.51</td>\n",
       "      <td>0.56</td>\n",
       "      <td>9.4</td>\n",
       "      <td>5</td>\n",
       "      <td>0</td>\n",
       "    </tr>\n",
       "    <tr>\n",
       "      <th>...</th>\n",
       "      <td>...</td>\n",
       "      <td>...</td>\n",
       "      <td>...</td>\n",
       "      <td>...</td>\n",
       "      <td>...</td>\n",
       "      <td>...</td>\n",
       "      <td>...</td>\n",
       "      <td>...</td>\n",
       "      <td>...</td>\n",
       "      <td>...</td>\n",
       "      <td>...</td>\n",
       "      <td>...</td>\n",
       "      <td>...</td>\n",
       "    </tr>\n",
       "    <tr>\n",
       "      <th>1594</th>\n",
       "      <td>6.2</td>\n",
       "      <td>0.600</td>\n",
       "      <td>0.08</td>\n",
       "      <td>2.0</td>\n",
       "      <td>0.090</td>\n",
       "      <td>32.0</td>\n",
       "      <td>44.0</td>\n",
       "      <td>0.99490</td>\n",
       "      <td>3.45</td>\n",
       "      <td>0.58</td>\n",
       "      <td>10.5</td>\n",
       "      <td>5</td>\n",
       "      <td>0</td>\n",
       "    </tr>\n",
       "    <tr>\n",
       "      <th>1595</th>\n",
       "      <td>5.9</td>\n",
       "      <td>0.550</td>\n",
       "      <td>0.10</td>\n",
       "      <td>2.2</td>\n",
       "      <td>0.062</td>\n",
       "      <td>39.0</td>\n",
       "      <td>51.0</td>\n",
       "      <td>0.99512</td>\n",
       "      <td>3.52</td>\n",
       "      <td>0.76</td>\n",
       "      <td>11.2</td>\n",
       "      <td>6</td>\n",
       "      <td>0</td>\n",
       "    </tr>\n",
       "    <tr>\n",
       "      <th>1596</th>\n",
       "      <td>6.3</td>\n",
       "      <td>0.510</td>\n",
       "      <td>0.13</td>\n",
       "      <td>2.3</td>\n",
       "      <td>0.076</td>\n",
       "      <td>29.0</td>\n",
       "      <td>40.0</td>\n",
       "      <td>0.99574</td>\n",
       "      <td>3.42</td>\n",
       "      <td>0.75</td>\n",
       "      <td>11.0</td>\n",
       "      <td>6</td>\n",
       "      <td>0</td>\n",
       "    </tr>\n",
       "    <tr>\n",
       "      <th>1597</th>\n",
       "      <td>5.9</td>\n",
       "      <td>0.645</td>\n",
       "      <td>0.12</td>\n",
       "      <td>2.0</td>\n",
       "      <td>0.075</td>\n",
       "      <td>32.0</td>\n",
       "      <td>44.0</td>\n",
       "      <td>0.99547</td>\n",
       "      <td>3.57</td>\n",
       "      <td>0.71</td>\n",
       "      <td>10.2</td>\n",
       "      <td>5</td>\n",
       "      <td>0</td>\n",
       "    </tr>\n",
       "    <tr>\n",
       "      <th>1598</th>\n",
       "      <td>6.0</td>\n",
       "      <td>0.310</td>\n",
       "      <td>0.47</td>\n",
       "      <td>3.6</td>\n",
       "      <td>0.067</td>\n",
       "      <td>18.0</td>\n",
       "      <td>42.0</td>\n",
       "      <td>0.99549</td>\n",
       "      <td>3.39</td>\n",
       "      <td>0.66</td>\n",
       "      <td>11.0</td>\n",
       "      <td>6</td>\n",
       "      <td>0</td>\n",
       "    </tr>\n",
       "  </tbody>\n",
       "</table>\n",
       "<p>1599 rows × 13 columns</p>\n",
       "</div>"
      ],
      "text/plain": [
       "      fixed acidity  volatile acidity  citric acid  residual sugar  chlorides  \\\n",
       "0               7.4             0.700         0.00             1.9      0.076   \n",
       "1               7.8             0.880         0.00             2.6      0.098   \n",
       "2               7.8             0.760         0.04             2.3      0.092   \n",
       "3              11.2             0.280         0.56             1.9      0.075   \n",
       "4               7.4             0.700         0.00             1.9      0.076   \n",
       "...             ...               ...          ...             ...        ...   \n",
       "1594            6.2             0.600         0.08             2.0      0.090   \n",
       "1595            5.9             0.550         0.10             2.2      0.062   \n",
       "1596            6.3             0.510         0.13             2.3      0.076   \n",
       "1597            5.9             0.645         0.12             2.0      0.075   \n",
       "1598            6.0             0.310         0.47             3.6      0.067   \n",
       "\n",
       "      free sulfur dioxide  total sulfur dioxide  density    pH  sulphates  \\\n",
       "0                    11.0                  34.0  0.99780  3.51       0.56   \n",
       "1                    25.0                  67.0  0.99680  3.20       0.68   \n",
       "2                    15.0                  54.0  0.99700  3.26       0.65   \n",
       "3                    17.0                  60.0  0.99800  3.16       0.58   \n",
       "4                    11.0                  34.0  0.99780  3.51       0.56   \n",
       "...                   ...                   ...      ...   ...        ...   \n",
       "1594                 32.0                  44.0  0.99490  3.45       0.58   \n",
       "1595                 39.0                  51.0  0.99512  3.52       0.76   \n",
       "1596                 29.0                  40.0  0.99574  3.42       0.75   \n",
       "1597                 32.0                  44.0  0.99547  3.57       0.71   \n",
       "1598                 18.0                  42.0  0.99549  3.39       0.66   \n",
       "\n",
       "      alcohol  quality  goodquality  \n",
       "0         9.4        5            0  \n",
       "1         9.8        5            0  \n",
       "2         9.8        5            0  \n",
       "3         9.8        6            0  \n",
       "4         9.4        5            0  \n",
       "...       ...      ...          ...  \n",
       "1594     10.5        5            0  \n",
       "1595     11.2        6            0  \n",
       "1596     11.0        6            0  \n",
       "1597     10.2        5            0  \n",
       "1598     11.0        6            0  \n",
       "\n",
       "[1599 rows x 13 columns]"
      ]
     },
     "execution_count": 397,
     "metadata": {},
     "output_type": "execute_result"
    }
   ],
   "source": [
    "# Create Classification version of target variable\n",
    "red_df = wine_df.copy()\n",
    "red_df['goodquality'] = [1 if x >= 7 else 0 for x in red_df['quality']]\n",
    "# Separate feature variables and target variable\n",
    "X = red_df.drop(['quality','goodquality'], axis = 1)\n",
    "y = red_df['goodquality']\n",
    "red_df"
   ]
  },
  {
   "cell_type": "markdown",
   "id": "accredited-logistics",
   "metadata": {
    "id": "accredited-logistics"
   },
   "source": [
    "How many samples are considered as good and how many are bad? Is this balanced"
   ]
  },
  {
   "cell_type": "code",
   "execution_count": 396,
   "id": "wired-community",
   "metadata": {
    "id": "wired-community"
   },
   "outputs": [
    {
     "data": {
      "text/plain": [
       "0    1382\n",
       "1     217\n",
       "Name: goodquality, dtype: int64"
      ]
     },
     "execution_count": 396,
     "metadata": {},
     "output_type": "execute_result"
    }
   ],
   "source": [
    "red_df['goodquality'].value_counts()"
   ]
  },
  {
   "cell_type": "markdown",
   "id": "european-registration",
   "metadata": {
    "id": "european-registration"
   },
   "source": [
    "## Simple Logistic regression"
   ]
  },
  {
   "cell_type": "markdown",
   "id": "frozen-internship",
   "metadata": {
    "id": "frozen-internship"
   },
   "source": [
    "Try to create a first logistic regression model from a sample"
   ]
  },
  {
   "cell_type": "code",
   "execution_count": 361,
   "id": "hidden-breakfast",
   "metadata": {
    "id": "hidden-breakfast"
   },
   "outputs": [
    {
     "data": {
      "text/html": [
       "<div>\n",
       "<style scoped>\n",
       "    .dataframe tbody tr th:only-of-type {\n",
       "        vertical-align: middle;\n",
       "    }\n",
       "\n",
       "    .dataframe tbody tr th {\n",
       "        vertical-align: top;\n",
       "    }\n",
       "\n",
       "    .dataframe thead th {\n",
       "        text-align: right;\n",
       "    }\n",
       "</style>\n",
       "<table border=\"1\" class=\"dataframe\">\n",
       "  <thead>\n",
       "    <tr style=\"text-align: right;\">\n",
       "      <th></th>\n",
       "      <th>fixed acidity</th>\n",
       "      <th>volatile acidity</th>\n",
       "      <th>citric acid</th>\n",
       "      <th>residual sugar</th>\n",
       "      <th>chlorides</th>\n",
       "      <th>free sulfur dioxide</th>\n",
       "      <th>total sulfur dioxide</th>\n",
       "      <th>density</th>\n",
       "      <th>pH</th>\n",
       "      <th>sulphates</th>\n",
       "      <th>alcohol</th>\n",
       "      <th>quality</th>\n",
       "      <th>goodquality</th>\n",
       "    </tr>\n",
       "  </thead>\n",
       "  <tbody>\n",
       "    <tr>\n",
       "      <th>145</th>\n",
       "      <td>8.1</td>\n",
       "      <td>0.670</td>\n",
       "      <td>0.55</td>\n",
       "      <td>1.8</td>\n",
       "      <td>0.117</td>\n",
       "      <td>32.0</td>\n",
       "      <td>141.0</td>\n",
       "      <td>0.99680</td>\n",
       "      <td>3.17</td>\n",
       "      <td>0.62</td>\n",
       "      <td>9.4</td>\n",
       "      <td>5</td>\n",
       "      <td>0</td>\n",
       "    </tr>\n",
       "    <tr>\n",
       "      <th>345</th>\n",
       "      <td>7.0</td>\n",
       "      <td>0.685</td>\n",
       "      <td>0.00</td>\n",
       "      <td>1.9</td>\n",
       "      <td>0.067</td>\n",
       "      <td>40.0</td>\n",
       "      <td>63.0</td>\n",
       "      <td>0.99790</td>\n",
       "      <td>3.60</td>\n",
       "      <td>0.81</td>\n",
       "      <td>9.9</td>\n",
       "      <td>5</td>\n",
       "      <td>0</td>\n",
       "    </tr>\n",
       "    <tr>\n",
       "      <th>603</th>\n",
       "      <td>13.2</td>\n",
       "      <td>0.460</td>\n",
       "      <td>0.52</td>\n",
       "      <td>2.2</td>\n",
       "      <td>0.071</td>\n",
       "      <td>12.0</td>\n",
       "      <td>35.0</td>\n",
       "      <td>1.00060</td>\n",
       "      <td>3.10</td>\n",
       "      <td>0.56</td>\n",
       "      <td>9.0</td>\n",
       "      <td>6</td>\n",
       "      <td>0</td>\n",
       "    </tr>\n",
       "    <tr>\n",
       "      <th>319</th>\n",
       "      <td>9.6</td>\n",
       "      <td>0.770</td>\n",
       "      <td>0.12</td>\n",
       "      <td>2.9</td>\n",
       "      <td>0.082</td>\n",
       "      <td>30.0</td>\n",
       "      <td>74.0</td>\n",
       "      <td>0.99865</td>\n",
       "      <td>3.30</td>\n",
       "      <td>0.64</td>\n",
       "      <td>10.4</td>\n",
       "      <td>6</td>\n",
       "      <td>0</td>\n",
       "    </tr>\n",
       "    <tr>\n",
       "      <th>1544</th>\n",
       "      <td>8.4</td>\n",
       "      <td>0.370</td>\n",
       "      <td>0.43</td>\n",
       "      <td>2.3</td>\n",
       "      <td>0.063</td>\n",
       "      <td>12.0</td>\n",
       "      <td>19.0</td>\n",
       "      <td>0.99550</td>\n",
       "      <td>3.17</td>\n",
       "      <td>0.81</td>\n",
       "      <td>11.2</td>\n",
       "      <td>7</td>\n",
       "      <td>1</td>\n",
       "    </tr>\n",
       "    <tr>\n",
       "      <th>...</th>\n",
       "      <td>...</td>\n",
       "      <td>...</td>\n",
       "      <td>...</td>\n",
       "      <td>...</td>\n",
       "      <td>...</td>\n",
       "      <td>...</td>\n",
       "      <td>...</td>\n",
       "      <td>...</td>\n",
       "      <td>...</td>\n",
       "      <td>...</td>\n",
       "      <td>...</td>\n",
       "      <td>...</td>\n",
       "      <td>...</td>\n",
       "    </tr>\n",
       "    <tr>\n",
       "      <th>353</th>\n",
       "      <td>13.5</td>\n",
       "      <td>0.530</td>\n",
       "      <td>0.79</td>\n",
       "      <td>4.8</td>\n",
       "      <td>0.120</td>\n",
       "      <td>23.0</td>\n",
       "      <td>77.0</td>\n",
       "      <td>1.00180</td>\n",
       "      <td>3.18</td>\n",
       "      <td>0.77</td>\n",
       "      <td>13.0</td>\n",
       "      <td>5</td>\n",
       "      <td>0</td>\n",
       "    </tr>\n",
       "    <tr>\n",
       "      <th>939</th>\n",
       "      <td>6.2</td>\n",
       "      <td>0.460</td>\n",
       "      <td>0.17</td>\n",
       "      <td>1.6</td>\n",
       "      <td>0.073</td>\n",
       "      <td>7.0</td>\n",
       "      <td>11.0</td>\n",
       "      <td>0.99425</td>\n",
       "      <td>3.61</td>\n",
       "      <td>0.54</td>\n",
       "      <td>11.4</td>\n",
       "      <td>5</td>\n",
       "      <td>0</td>\n",
       "    </tr>\n",
       "    <tr>\n",
       "      <th>745</th>\n",
       "      <td>7.3</td>\n",
       "      <td>0.510</td>\n",
       "      <td>0.18</td>\n",
       "      <td>2.1</td>\n",
       "      <td>0.070</td>\n",
       "      <td>12.0</td>\n",
       "      <td>28.0</td>\n",
       "      <td>0.99768</td>\n",
       "      <td>3.52</td>\n",
       "      <td>0.73</td>\n",
       "      <td>9.5</td>\n",
       "      <td>6</td>\n",
       "      <td>0</td>\n",
       "    </tr>\n",
       "    <tr>\n",
       "      <th>85</th>\n",
       "      <td>6.9</td>\n",
       "      <td>0.550</td>\n",
       "      <td>0.15</td>\n",
       "      <td>2.2</td>\n",
       "      <td>0.076</td>\n",
       "      <td>19.0</td>\n",
       "      <td>40.0</td>\n",
       "      <td>0.99610</td>\n",
       "      <td>3.41</td>\n",
       "      <td>0.59</td>\n",
       "      <td>10.1</td>\n",
       "      <td>5</td>\n",
       "      <td>0</td>\n",
       "    </tr>\n",
       "    <tr>\n",
       "      <th>1567</th>\n",
       "      <td>7.2</td>\n",
       "      <td>0.695</td>\n",
       "      <td>0.13</td>\n",
       "      <td>2.0</td>\n",
       "      <td>0.076</td>\n",
       "      <td>12.0</td>\n",
       "      <td>20.0</td>\n",
       "      <td>0.99546</td>\n",
       "      <td>3.29</td>\n",
       "      <td>0.54</td>\n",
       "      <td>10.1</td>\n",
       "      <td>5</td>\n",
       "      <td>0</td>\n",
       "    </tr>\n",
       "  </tbody>\n",
       "</table>\n",
       "<p>100 rows × 13 columns</p>\n",
       "</div>"
      ],
      "text/plain": [
       "      fixed acidity  volatile acidity  citric acid  residual sugar  chlorides  \\\n",
       "145             8.1             0.670         0.55             1.8      0.117   \n",
       "345             7.0             0.685         0.00             1.9      0.067   \n",
       "603            13.2             0.460         0.52             2.2      0.071   \n",
       "319             9.6             0.770         0.12             2.9      0.082   \n",
       "1544            8.4             0.370         0.43             2.3      0.063   \n",
       "...             ...               ...          ...             ...        ...   \n",
       "353            13.5             0.530         0.79             4.8      0.120   \n",
       "939             6.2             0.460         0.17             1.6      0.073   \n",
       "745             7.3             0.510         0.18             2.1      0.070   \n",
       "85              6.9             0.550         0.15             2.2      0.076   \n",
       "1567            7.2             0.695         0.13             2.0      0.076   \n",
       "\n",
       "      free sulfur dioxide  total sulfur dioxide  density    pH  sulphates  \\\n",
       "145                  32.0                 141.0  0.99680  3.17       0.62   \n",
       "345                  40.0                  63.0  0.99790  3.60       0.81   \n",
       "603                  12.0                  35.0  1.00060  3.10       0.56   \n",
       "319                  30.0                  74.0  0.99865  3.30       0.64   \n",
       "1544                 12.0                  19.0  0.99550  3.17       0.81   \n",
       "...                   ...                   ...      ...   ...        ...   \n",
       "353                  23.0                  77.0  1.00180  3.18       0.77   \n",
       "939                   7.0                  11.0  0.99425  3.61       0.54   \n",
       "745                  12.0                  28.0  0.99768  3.52       0.73   \n",
       "85                   19.0                  40.0  0.99610  3.41       0.59   \n",
       "1567                 12.0                  20.0  0.99546  3.29       0.54   \n",
       "\n",
       "      alcohol  quality  goodquality  \n",
       "145       9.4        5            0  \n",
       "345       9.9        5            0  \n",
       "603       9.0        6            0  \n",
       "319      10.4        6            0  \n",
       "1544     11.2        7            1  \n",
       "...       ...      ...          ...  \n",
       "353      13.0        5            0  \n",
       "939      11.4        5            0  \n",
       "745       9.5        6            0  \n",
       "85       10.1        5            0  \n",
       "1567     10.1        5            0  \n",
       "\n",
       "[100 rows x 13 columns]"
      ]
     },
     "execution_count": 361,
     "metadata": {},
     "output_type": "execute_result"
    }
   ],
   "source": [
    "#define new sample data\n",
    "df_sl=red_df.sample(random_state=8,n=100)\n",
    "df_sl"
   ]
  },
  {
   "cell_type": "code",
   "execution_count": 395,
   "id": "165ec918",
   "metadata": {},
   "outputs": [
    {
     "data": {
      "text/plain": [
       "<matplotlib.collections.PathCollection at 0x11685fdd430>"
      ]
     },
     "execution_count": 395,
     "metadata": {},
     "output_type": "execute_result"
    },
    {
     "data": {
      "image/png": "[encoded data removed]",
      "text/plain": [
       "<Figure size 432x288 with 1 Axes>"
      ]
     },
     "metadata": {},
     "output_type": "display_data"
    }
   ],
   "source": [
    "#scatterplot\n",
    "plt.scatter(x=df_sl.alcohol, y=df_sl.goodquality,marker='+',color='red')"
   ]
  },
  {
   "cell_type": "code",
   "execution_count": 363,
   "id": "a567a551",
   "metadata": {},
   "outputs": [],
   "source": [
    "#import \n",
    "from sklearn.linear_model import LogisticRegression"
   ]
  },
  {
   "cell_type": "code",
   "execution_count": 385,
   "id": "0079928f",
   "metadata": {
    "scrolled": true
   },
   "outputs": [
    {
     "data": {
      "text/plain": [
       "array([[0.93361566, 0.06638434],\n",
       "       [0.88891245, 0.11108755],\n",
       "       [0.9748804 , 0.0251196 ],\n",
       "       [0.74357196, 0.25642804],\n",
       "       [0.96111657, 0.03888343],\n",
       "       [0.88891245, 0.11108755],\n",
       "       [0.86460901, 0.13539099],\n",
       "       [0.91819221, 0.08180779],\n",
       "       [0.94630135, 0.05369865],\n",
       "       [0.90931087, 0.09068913],\n",
       "       [0.8508554 , 0.1491446 ],\n",
       "       [0.80265503, 0.19734497],\n",
       "       [0.25382929, 0.74617071],\n",
       "       [0.72148361, 0.27851639],\n",
       "       [0.67398474, 0.32601526],\n",
       "       [0.9262743 , 0.0737257 ],\n",
       "       [0.96872304, 0.03127696],\n",
       "       [0.80265503, 0.19734497],\n",
       "       [0.69826468, 0.30173532],\n",
       "       [0.9651191 , 0.0348809 ]])"
      ]
     },
     "execution_count": 385,
     "metadata": {},
     "output_type": "execute_result"
    }
   ],
   "source": [
    "#training, fit and predict\n",
    "X_train, X_test, y_train, y_test = train_test_split(df_sl[['alcohol']],df_sl.goodquality,train_size=0.8)\n",
    "model = LogisticRegression()\n",
    "model.fit(X_train, y_train)\n",
    "y_predicted = model.predict(X_test)\n",
    "model.predict_proba(X_test)"
   ]
  },
  {
   "cell_type": "code",
   "execution_count": 386,
   "id": "544adef5",
   "metadata": {},
   "outputs": [
    {
     "data": {
      "text/plain": [
       "0.85"
      ]
     },
     "execution_count": 386,
     "metadata": {},
     "output_type": "execute_result"
    }
   ],
   "source": [
    "#score\n",
    "model.score(X_test,y_test)"
   ]
  },
  {
   "cell_type": "code",
   "execution_count": 389,
   "id": "c09b4042",
   "metadata": {},
   "outputs": [
    {
     "name": "stdout",
     "output_type": "stream",
     "text": [
      "Coef: [[1.12784734]]\n",
      "Intercept: [-14.03486184]\n"
     ]
    }
   ],
   "source": [
    "#coef and intercept\n",
    "print('Coef:',model.coef_)\n",
    "print('Intercept:',model.intercept_)"
   ]
  },
  {
   "cell_type": "code",
   "execution_count": 370,
   "id": "74af37fa",
   "metadata": {},
   "outputs": [],
   "source": [
    "#sigmoid function\n",
    "import math\n",
    "def sigmoid(x):\n",
    "  return 1 / (1 + math.exp(-x))\n",
    "\n",
    "def prediction_function(alcohol):\n",
    "    z = 1.12 * alcohol - 13.86\n",
    "    y = sigmoid(z)\n",
    "    return y"
   ]
  },
  {
   "cell_type": "code",
   "execution_count": 371,
   "id": "8329e7b3",
   "metadata": {},
   "outputs": [
    {
     "data": {
      "text/plain": [
       "<bound method NDFrame._add_numeric_operations.<locals>.max of 145      9.4\n",
       "345      9.9\n",
       "603      9.0\n",
       "319     10.4\n",
       "1544    11.2\n",
       "        ... \n",
       "353     13.0\n",
       "939     11.4\n",
       "745      9.5\n",
       "85      10.1\n",
       "1567    10.1\n",
       "Name: alcohol, Length: 100, dtype: float64>"
      ]
     },
     "execution_count": 371,
     "metadata": {},
     "output_type": "execute_result"
    }
   ],
   "source": [
    "df_sl['alcohol'].max"
   ]
  },
  {
   "cell_type": "code",
   "execution_count": 372,
   "id": "9900f29a",
   "metadata": {},
   "outputs": [
    {
     "data": {
      "text/plain": [
       "0.06537533342557272"
      ]
     },
     "execution_count": 372,
     "metadata": {},
     "output_type": "execute_result"
    }
   ],
   "source": [
    "alcohol = 10\n",
    "prediction_function(alcohol)"
   ]
  },
  {
   "cell_type": "code",
   "execution_count": 373,
   "id": "76ebae9e",
   "metadata": {},
   "outputs": [
    {
     "data": {
      "text/plain": [
       "8.984506316404241e-06"
      ]
     },
     "execution_count": 373,
     "metadata": {},
     "output_type": "execute_result"
    }
   ],
   "source": [
    "alcohol = 2\n",
    "prediction_function(alcohol)"
   ]
  },
  {
   "cell_type": "code",
   "execution_count": 374,
   "id": "19b1ffa7",
   "metadata": {},
   "outputs": [],
   "source": [
    "#import confusion matrix\n",
    "from sklearn.metrics import confusion_matrix"
   ]
  },
  {
   "cell_type": "code",
   "execution_count": 375,
   "id": "d4770b5e",
   "metadata": {},
   "outputs": [
    {
     "data": {
      "text/plain": [
       "array([[17,  0],\n",
       "       [ 3,  0]], dtype=int64)"
      ]
     },
     "execution_count": 375,
     "metadata": {},
     "output_type": "execute_result"
    }
   ],
   "source": [
    "#confusion matrix\n",
    "matrix = confusion_matrix(y_test, y_predicted)\n",
    "matrix"
   ]
  },
  {
   "cell_type": "code",
   "execution_count": 376,
   "id": "7a381f7c",
   "metadata": {},
   "outputs": [
    {
     "data": {
      "text/plain": [
       "<AxesSubplot:>"
      ]
     },
     "execution_count": 376,
     "metadata": {},
     "output_type": "execute_result"
    },
    {
     "data": {
      "image/png": "[encoded data removed]",
      "text/plain": [
       "<Figure size 432x432 with 2 Axes>"
      ]
     },
     "metadata": {},
     "output_type": "display_data"
    }
   ],
   "source": [
    "#heatmap\n",
    "import seaborn as sn\n",
    "plt.figure(figsize = (6,6))\n",
    "sn.heatmap(matrix, annot=True)"
   ]
  },
  {
   "cell_type": "markdown",
   "id": "perfect-holiday",
   "metadata": {
    "id": "perfect-holiday"
   },
   "source": [
    "In classification, how do you evaluate the performance of the model ?"
   ]
  },
  {
   "cell_type": "markdown",
   "id": "temporal-horizon",
   "metadata": {
    "id": "temporal-horizon"
   },
   "source": [
    "Try different pair of data sets: (pH, goodquality), (fixed acidity, goodquality), (alcohol, goodquality) \n",
    "\n",
    "Which pair performs better?"
   ]
  },
  {
   "cell_type": "code",
   "execution_count": null,
   "id": "trained-shepherd",
   "metadata": {
    "id": "trained-shepherd"
   },
   "outputs": [],
   "source": [
    "#alcohol / goodquality\n"
   ]
  },
  {
   "cell_type": "markdown",
   "id": "pregnant-american",
   "metadata": {
    "id": "pregnant-american"
   },
   "source": [
    "## Multi logistic regression"
   ]
  },
  {
   "cell_type": "markdown",
   "id": "agreed-citizen",
   "metadata": {
    "id": "agreed-citizen"
   },
   "source": [
    "Add new features to the model, try to find the best model reducing the error. \n",
    "\n",
    "Use everything you learned so far and good luck :)"
   ]
  },
  {
   "cell_type": "code",
   "execution_count": 391,
   "id": "d89ae398",
   "metadata": {},
   "outputs": [
    {
     "data": {
      "text/plain": [
       "0.8958333333333334"
      ]
     },
     "execution_count": 391,
     "metadata": {},
     "output_type": "execute_result"
    }
   ],
   "source": [
    "#define X and y\n",
    "X = red_df.drop(['quality','goodquality'], axis = 1)\n",
    "y = red_df['goodquality']\n",
    "\n",
    "#training, fit and predict\n",
    "X_train, X_test, y_train, y_test = train_test_split(X, y, test_size=.3, random_state=1)\n",
    "model = LogisticRegression(max_iter=1000)\n",
    "model.fit(X_train, y_train)\n",
    "model.score(X_test, y_test)\n"
   ]
  },
  {
   "cell_type": "code",
   "execution_count": 379,
   "id": "afadf999",
   "metadata": {},
   "outputs": [],
   "source": [
    "y_predicted = model.predict(X_test)"
   ]
  },
  {
   "cell_type": "code",
   "execution_count": 392,
   "id": "7ce865c0",
   "metadata": {},
   "outputs": [
    {
     "data": {
      "text/plain": [
       "Valeur actuelle  Prediction\n",
       "0                0             414\n",
       "1                0              39\n",
       "                 1              16\n",
       "0                1              11\n",
       "dtype: int64"
      ]
     },
     "execution_count": 392,
     "metadata": {},
     "output_type": "execute_result"
    }
   ],
   "source": [
    "df_multi = pd.DataFrame({'Valeur actuelle': y_test, 'Prediction':y_predicted})\n",
    "df_multi.value_counts()"
   ]
  },
  {
   "cell_type": "code",
   "execution_count": 393,
   "id": "3477c512",
   "metadata": {},
   "outputs": [
    {
     "name": "stdout",
     "output_type": "stream",
     "text": [
      "              precision    recall  f1-score   support\n",
      "\n",
      " Bad wine(0)       0.91      0.97      0.94       425\n",
      "Good wine(1)       0.59      0.29      0.39        55\n",
      "\n",
      "    accuracy                           0.90       480\n",
      "   macro avg       0.75      0.63      0.67       480\n",
      "weighted avg       0.88      0.90      0.88       480\n",
      "\n"
     ]
    }
   ],
   "source": [
    "#classification\n",
    "y_true = y_test\n",
    "y_pred = y_predicted\n",
    "target_names = ['Bad wine(0)', 'Good wine(1)']\n",
    "print(classification_report(y_true,y_pred,target_names=target_names))"
   ]
  },
  {
   "cell_type": "code",
   "execution_count": 394,
   "id": "acdaa13c",
   "metadata": {},
   "outputs": [
    {
     "data": {
      "text/plain": [
       "array([[414,  11],\n",
       "       [ 39,  16]], dtype=int64)"
      ]
     },
     "execution_count": 394,
     "metadata": {},
     "output_type": "execute_result"
    }
   ],
   "source": [
    "#confusion matrix\n",
    "matrix = confusion_matrix(y_test, y_predicted)\n",
    "matrix"
   ]
  },
  {
   "cell_type": "code",
   "execution_count": 383,
   "id": "163db8e4",
   "metadata": {},
   "outputs": [
    {
     "data": {
      "text/plain": [
       "<AxesSubplot:>"
      ]
     },
     "execution_count": 383,
     "metadata": {},
     "output_type": "execute_result"
    },
    {
     "data": {
      "image/png": "[encoded data removed]",
      "text/plain": [
       "<Figure size 432x432 with 2 Axes>"
      ]
     },
     "metadata": {},
     "output_type": "display_data"
    }
   ],
   "source": [
    "#heatmap\n",
    "plt.figure(figsize = (6,6))\n",
    "sn.heatmap(matrix, annot=True)"
   ]
  }
 ],
 "metadata": {
  "colab": {
   "collapsed_sections": [
    "stuffed-conditions"
   ],
   "name": "Introduction_to_Regression_models_-_solution.ipynb",
   "provenance": []
  },
  "kernelspec": {
   "display_name": "Python 3",
   "language": "python",
   "name": "python3"
  },
  "language_info": {
   "codemirror_mode": {
    "name": "ipython",
    "version": 3
   },
   "file_extension": ".py",
   "mimetype": "text/x-python",
   "name": "python",
   "nbconvert_exporter": "python",
   "pygments_lexer": "ipython3",
   "version": "3.8.8"
  },
  "toc": {
   "base_numbering": 1,
   "nav_menu": {},
   "number_sections": true,
   "sideBar": true,
   "skip_h1_title": false,
   "title_cell": "Table of Contents",
   "title_sidebar": "Contents",
   "toc_cell": false,
   "toc_position": {},
   "toc_section_display": true,
   "toc_window_display": false
  },
  "varInspector": {
   "cols": {
    "lenName": 16,
    "lenType": 16,
    "lenVar": 40
   },
   "kernels_config": {
    "python": {
     "delete_cmd_postfix": "",
     "delete_cmd_prefix": "del ",
     "library": "var_list.py",
     "varRefreshCmd": "print(var_dic_list())"
    },
    "r": {
     "delete_cmd_postfix": ") ",
     "delete_cmd_prefix": "rm(",
     "library": "var_list.r",
     "varRefreshCmd": "cat(var_dic_list()) "
    }
   },
   "types_to_exclude": [
    "module",
    "function",
    "builtin_function_or_method",
    "instance",
    "_Feature"
   ],
   "window_display": false
  }
 },
 "nbformat": 4,
 "nbformat_minor": 5
}
